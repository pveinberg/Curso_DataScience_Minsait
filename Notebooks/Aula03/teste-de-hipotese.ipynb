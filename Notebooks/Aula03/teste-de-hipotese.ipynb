{
 "cells": [
  {
   "cell_type": "code",
   "execution_count": 16,
   "metadata": {},
   "outputs": [],
   "source": [
    "import numpy as np\n",
    "from scipy.stats import norm"
   ]
  },
  {
   "cell_type": "markdown",
   "metadata": {},
   "source": [
    "**Problema: Teste de Hipótese sobre Média de Amostra**\n",
    "\n",
    "Um nutricionista afirma que a média de calorias consumidas por dia pelos seus pacientes é igual a 2000 calorias. Para testar essa afirmação, um pesquisador coleta uma amostra de 30 pacientes e registra o número de calorias consumidas por dia. Os dados coletados são: 1950, 1980, 2010, 1995, 2025, 2050, 1975, 2005, 1960, 2040, 2035, 2055, 1940, 1970, 2030, 2000, 2065, 1975, 1985, 2015, 1990, 2060, 2050, 1970, 1985, 2005, 2030, 2020, 1995, 1945, 1975.\n",
    "\n",
    "O pesquisador suspeita que a média real pode ser diferente de 2000 calorias. Usando um nível de significância de 0,05, você pode concluir que as calorias médias consumidas diferem da alegação do nutricionista?"
   ]
  },
  {
   "cell_type": "code",
   "execution_count": 17,
   "metadata": {},
   "outputs": [
    {
     "data": {
      "text/plain": [
       "'Intervalo de confiança: 1.6448536269514722'"
      ]
     },
     "metadata": {},
     "output_type": "display_data"
    },
    {
     "data": {
      "text/plain": [
       "'Média: 2000'"
      ]
     },
     "metadata": {},
     "output_type": "display_data"
    },
    {
     "data": {
      "text/plain": [
       "'Desvio padrão: 34.022940552970546'"
      ]
     },
     "metadata": {},
     "output_type": "display_data"
    },
    {
     "data": {
      "text/plain": [
       "'Tamanho da amostra: 30'"
      ]
     },
     "metadata": {},
     "output_type": "display_data"
    }
   ],
   "source": [
    "\n",
    "prob = norm.ppf(0.95)\n",
    "\n",
    "X = np.array([1950, 1980, 2010, 1995, 2025, 2050, 1975, 2005, 1960, 2040, 2035, 2055, 1940, 1970, 2030, 2000, 2065, 1975, \\\n",
    "     1985, 2015, 1990, 2060, 2050, 1970, 1985, 2005, 2030, 2020, 1995, 1945, 1975]) \n",
    "\n",
    "mu = 2000\n",
    "\n",
    "sigma = np.std(X, ddof=-1)\n",
    "# sigma = np.sqrt(np.std(X))\n",
    "\n",
    "n = len(X)-1\n",
    "\n",
    "display(f\"Intervalo de confiança: {prob}\", \\\n",
    "        f\"Média: {mu}\", \\\n",
    "        f\"Desvio padrão: {sigma}\", \\\n",
    "        f\"Tamanho da amostra: {n}\")"
   ]
  },
  {
   "cell_type": "code",
   "execution_count": 18,
   "metadata": {},
   "outputs": [
    {
     "data": {
      "text/plain": [
       "2010.2173548270523"
      ]
     },
     "execution_count": 18,
     "metadata": {},
     "output_type": "execute_result"
    }
   ],
   "source": [
    "Xc = mu + (sigma/np.sqrt(n))*prob\n",
    "Xc"
   ]
  },
  {
   "cell_type": "code",
   "execution_count": 19,
   "metadata": {},
   "outputs": [
    {
     "data": {
      "text/plain": [
       "2002.741935483871"
      ]
     },
     "execution_count": 19,
     "metadata": {},
     "output_type": "execute_result"
    }
   ],
   "source": [
    "Xobs = np.mean(X)\n",
    "Xobs"
   ]
  },
  {
   "cell_type": "code",
   "execution_count": 20,
   "metadata": {},
   "outputs": [
    {
     "name": "stdout",
     "output_type": "stream",
     "text": [
      "teste de hipótese\n",
      "Aceitamos a H0\n"
     ]
    }
   ],
   "source": [
    "print(\"teste de hipótese\")\n",
    "if (Xobs < Xc):\n",
    "    print(\"Aceitamos a H0\")\n",
    "else:\n",
    "    print(\"Rejeitamos a H0\")"
   ]
  }
 ],
 "metadata": {
  "kernelspec": {
   "display_name": "Python 3",
   "language": "python",
   "name": "python3"
  },
  "language_info": {
   "codemirror_mode": {
    "name": "ipython",
    "version": 3
   },
   "file_extension": ".py",
   "mimetype": "text/x-python",
   "name": "python",
   "nbconvert_exporter": "python",
   "pygments_lexer": "ipython3",
   "version": "3.10.12"
  },
  "orig_nbformat": 4
 },
 "nbformat": 4,
 "nbformat_minor": 2
}
