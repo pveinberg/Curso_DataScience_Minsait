{
 "cells": [
  {
   "cell_type": "code",
   "execution_count": 2,
   "metadata": {},
   "outputs": [],
   "source": [
    "import numpy as np\n",
    "from scipy.stats import norm"
   ]
  },
  {
   "cell_type": "markdown",
   "metadata": {},
   "source": [
    "**Problema: Teste de Hipótese sobre Média de Amostra**\n",
    "\n",
    "Um nutricionista afirma que a média de calorias consumidas por dia pelos seus pacientes é igual a 2000 calorias. Para testar essa afirmação, um pesquisador coleta uma amostra de 30 pacientes e registra o número de calorias consumidas por dia. Os dados coletados são: 1950, 1980, 2010, 1995, 2025, 2050, 1975, 2005, 1960, 2040, 2035, 2055, 1940, 1970, 2030, 2000, 2065, 1975, 1985, 2015, 1990, 2060, 2050, 1970, 1985, 2005, 2030, 2020, 1995, 1945, 1975.\n",
    "\n",
    "O pesquisador suspeita que a média real pode ser diferente de 2000 calorias. Usando um nível de significância de 0,05, você pode concluir que as calorias médias consumidas diferem da alegação do nutricionista?"
   ]
  },
  {
   "cell_type": "code",
   "execution_count": 15,
   "metadata": {},
   "outputs": [
    {
     "data": {
      "text/plain": [
       "'Intervalo de confiança: 1.6448536269514722'"
      ]
     },
     "metadata": {},
     "output_type": "display_data"
    },
    {
     "data": {
      "text/plain": [
       "'Média: 2000'"
      ]
     },
     "metadata": {},
     "output_type": "display_data"
    },
    {
     "data": {
      "text/plain": [
       "'Desvio padrão: 34.56734216917753'"
      ]
     },
     "metadata": {},
     "output_type": "display_data"
    },
    {
     "data": {
      "text/plain": [
       "'Tamanho da amostra: 31'"
      ]
     },
     "metadata": {},
     "output_type": "display_data"
    },
    {
     "data": {
      "text/plain": [
       "'Valor Crítico: 2010.2120374419264'"
      ]
     },
     "metadata": {},
     "output_type": "display_data"
    },
    {
     "data": {
      "text/plain": [
       "'Médias das observações: 2002.741935483871'"
      ]
     },
     "metadata": {},
     "output_type": "display_data"
    },
    {
     "name": "stdout",
     "output_type": "stream",
     "text": [
      "== Teste de hipótese == \n",
      "Aceitamos a H0: a média de calorias consumidas por dia pelos seus pacientes é igual a 2000 calorias\n"
     ]
    }
   ],
   "source": [
    "# Amostra\n",
    "X = np.array([1950, 1980, 2010, 1995, 2025, 2050, 1975, 2005, 1960, 2040, 2035, 2055, 1940, 1970, 2030, 2000, 2065, 1975, \\\n",
    "     1985, 2015, 1990, 2060, 2050, 1970, 1985, 2005, 2030, 2020, 1995, 1945, 1975]) \n",
    "\n",
    "mu = 2000\n",
    "\n",
    "# Função para realizar vários testes\n",
    "def teste_hipotese(prob_, X_, mu_, H0_):\n",
    "    \n",
    "    # Cálculo do Z crítico para probabilidade indicada em 'prob_'\n",
    "    prob = norm.ppf(prob_)\n",
    "\n",
    "    # Desvio padrão da amostra\n",
    "#     sigma = np.std(X_, ddof=-1)\n",
    "    sigma = np.sqrt(np.var(X))\n",
    "\n",
    "    # Tamanho da amostra\n",
    "    n = len(X_)\n",
    "\n",
    "    # Cálculo do valor crítico\n",
    "    Xc = mu_ + (sigma/np.sqrt(n))*prob\n",
    "\n",
    "    # Média das observações\n",
    "    Xobs = np.mean(X_)\n",
    "    \n",
    "    # Resultados \n",
    "    display(f\"Intervalo de confiança: {prob}\", \\\n",
    "        f\"Média: {mu_}\", \\\n",
    "        f\"Desvio padrão: {sigma}\", \\\n",
    "        f\"Tamanho da amostra: {n}\", \\\n",
    "        f\"Valor Crítico: {Xc}\", \\\n",
    "        f\"Médias das observações: {Xobs}\")\n",
    "    \n",
    "    print(\"== Teste de hipótese == \")\n",
    "    if (Xobs < Xc):\n",
    "        print(f\"Aceitamos a H0: {H0_}\")\n",
    "    else:\n",
    "        print(f\"Rejeitamos a H0: {H0_}\")\n",
    "    \n",
    "teste_hipotese(.95, X, mu, 'a média de calorias consumidas por dia pelos seus pacientes é igual a 2000 calorias')\n",
    "\n",
    "# xc 2010.2173548270523\n",
    "# xobs 2002.741935483871\n"
   ]
  },
  {
   "cell_type": "code",
   "execution_count": 16,
   "metadata": {},
   "outputs": [
    {
     "data": {
      "text/plain": [
       "'Intervalo de confiança: 1.6448536269514722'"
      ]
     },
     "metadata": {},
     "output_type": "display_data"
    },
    {
     "data": {
      "text/plain": [
       "'Média: 20'"
      ]
     },
     "metadata": {},
     "output_type": "display_data"
    },
    {
     "data": {
      "text/plain": [
       "'Desvio padrão: 2.4591665254715878'"
      ]
     },
     "metadata": {},
     "output_type": "display_data"
    },
    {
     "data": {
      "text/plain": [
       "'Tamanho da amostra: 20'"
      ]
     },
     "metadata": {},
     "output_type": "display_data"
    },
    {
     "data": {
      "text/plain": [
       "'Valor Crítico: 20.904482560325018'"
      ]
     },
     "metadata": {},
     "output_type": "display_data"
    },
    {
     "data": {
      "text/plain": [
       "'Médias das observações: 20.45'"
      ]
     },
     "metadata": {},
     "output_type": "display_data"
    },
    {
     "name": "stdout",
     "output_type": "stream",
     "text": [
      "== Teste de hipótese == \n",
      "Aceitamos a H0: H0\n"
     ]
    }
   ],
   "source": [
    "mu = 20\n",
    "X = [22, 19, 21, 22, 20, 18, 27, 20, 21, 19, 20, 22, 17, 20, 21,18, 25, 16, 20, 21]\n",
    "\n",
    "teste_hipotese(.95, X, mu, 'H0')"
   ]
  }
 ],
 "metadata": {
  "kernelspec": {
   "display_name": "Python 3",
   "language": "python",
   "name": "python3"
  },
  "language_info": {
   "codemirror_mode": {
    "name": "ipython",
    "version": 3
   },
   "file_extension": ".py",
   "mimetype": "text/x-python",
   "name": "python",
   "nbconvert_exporter": "python",
   "pygments_lexer": "ipython3",
   "version": "3.10.12"
  },
  "orig_nbformat": 4
 },
 "nbformat": 4,
 "nbformat_minor": 2
}
