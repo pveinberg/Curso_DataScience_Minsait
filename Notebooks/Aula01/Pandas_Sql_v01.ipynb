{
 "cells": [
  {
   "cell_type": "markdown",
   "id": "1f1d6272",
   "metadata": {},
   "source": [
    "# Classic Models - V.01.0 <a id='home '></a>\n",
    "\n",
    "Modelos de dados de loja de venda de modelos de veículos (carros antigos, trens, etc) em escala"
   ]
  },
  {
   "cell_type": "markdown",
   "id": "eb6904e3",
   "metadata": {},
   "source": [
    "## Introdução\n",
    "\n",
    "### Modelo de dados <a class='anchor' id='modelo-de-dados'/>\n",
    "\n",
    "<img src='./../../docs/imgs/classicmodels.png' />"
   ]
  },
  {
   "cell_type": "markdown",
   "id": "2119ab98",
   "metadata": {},
   "source": [
    "## Imports <a class='anchor' id='imports'/>"
   ]
  },
  {
   "cell_type": "code",
   "execution_count": 1,
   "id": "a9341142",
   "metadata": {},
   "outputs": [],
   "source": [
    "import pandas as pd\n",
    "import numpy as np\n",
    "from sqlalchemy import create_engine,text\n",
    "from sqlalchemy.engine.url import URL\n",
    "import matplotlib.pyplot as plt \n",
    "import seaborn as sns\n",
    "import plotly.express as px"
   ]
  },
  {
   "cell_type": "markdown",
   "id": "52d0a07c",
   "metadata": {},
   "source": [
    "## Configurações"
   ]
  },
  {
   "cell_type": "code",
   "execution_count": 2,
   "id": "03f7ae1a",
   "metadata": {},
   "outputs": [],
   "source": [
    "# Seaborn style\n",
    "\n",
    "DARKGRID = \"darkgrid\"\n",
    "WHITEGRID = \"whitegrid\"\n",
    "\n",
    "sns.set_style(DARKGRID)\n",
    "\n",
    "# sns.set_theme(style=\"whitegrid\")\n",
    "\n",
    "\n",
    "\n",
    "# Databse\n",
    "usuario = 'root'\n",
    "senha = 'secret'\n",
    "\n",
    "engine = create_engine(URL(\n",
    "    drivername = 'mysql+pymysql',\n",
    "    username = usuario,\n",
    "    password = senha,\n",
    "    \n",
    "    host = 'localhost',\n",
    "    query = {'charset': 'utf8'},\n",
    "    port = 3306, \n",
    "    database='classicmodels'\n",
    "))\n",
    "\n",
    "conn = engine.connect()"
   ]
  },
  {
   "cell_type": "markdown",
   "id": "31942b16",
   "metadata": {},
   "source": [
    "### Obter tabelas <a class='anchor' id='obter-tabelas' />"
   ]
  },
  {
   "cell_type": "code",
   "execution_count": 3,
   "id": "6491371c",
   "metadata": {},
   "outputs": [
    {
     "name": "stdout",
     "output_type": "stream",
     "text": [
      "Detalhes da tabela: customers\n",
      "\n",
      "                     Field           Type Null  Key Default Extra\n",
      "0           customerNumber            int   NO  PRI    None      \n",
      "1             customerName    varchar(50)   NO         None      \n",
      "2          contactLastName    varchar(50)   NO         None      \n",
      "3         contactFirstName    varchar(50)   NO         None      \n",
      "4                    phone    varchar(50)   NO         None      \n",
      "5             addressLine1    varchar(50)   NO         None      \n",
      "6             addressLine2    varchar(50)  YES         None      \n",
      "7                     city    varchar(50)   NO         None      \n",
      "8                    state    varchar(50)  YES         None      \n",
      "9               postalCode    varchar(15)  YES         None      \n",
      "10                 country    varchar(50)   NO         None      \n",
      "11  salesRepEmployeeNumber            int  YES  MUL    None      \n",
      "12             creditLimit  decimal(10,2)  YES         None      \n",
      "\n",
      "= = = = = = = = = = = = = = = = = = = = = = = = = = \n",
      "Detalhes da tabela: employees\n",
      "\n",
      "            Field          Type Null  Key Default Extra\n",
      "0  employeeNumber           int   NO  PRI    None      \n",
      "1        lastName   varchar(50)   NO         None      \n",
      "2       firstName   varchar(50)   NO         None      \n",
      "3       extension   varchar(10)   NO         None      \n",
      "4           email  varchar(100)   NO         None      \n",
      "5      officeCode   varchar(10)   NO  MUL    None      \n",
      "6       reportsTo           int  YES  MUL    None      \n",
      "7        jobTitle   varchar(50)   NO         None      \n",
      "\n",
      "= = = = = = = = = = = = = = = = = = = = = = = = = = \n",
      "Detalhes da tabela: offices\n",
      "\n",
      "          Field         Type Null  Key Default Extra\n",
      "0    officeCode  varchar(10)   NO  PRI    None      \n",
      "1          city  varchar(50)   NO         None      \n",
      "2         phone  varchar(50)   NO         None      \n",
      "3  addressLine1  varchar(50)   NO         None      \n",
      "4  addressLine2  varchar(50)  YES         None      \n",
      "5         state  varchar(50)  YES         None      \n",
      "6       country  varchar(50)   NO         None      \n",
      "7    postalCode  varchar(15)   NO         None      \n",
      "8     territory  varchar(10)   NO         None      \n",
      "\n",
      "= = = = = = = = = = = = = = = = = = = = = = = = = = \n",
      "Detalhes da tabela: orderdetails\n",
      "\n",
      "             Field           Type Null  Key Default Extra\n",
      "0      orderNumber            int   NO  PRI    None      \n",
      "1      productCode    varchar(15)   NO  PRI    None      \n",
      "2  quantityOrdered            int   NO         None      \n",
      "3        priceEach  decimal(10,2)   NO         None      \n",
      "4  orderLineNumber       smallint   NO         None      \n",
      "\n",
      "= = = = = = = = = = = = = = = = = = = = = = = = = = \n",
      "Detalhes da tabela: orders\n",
      "\n",
      "            Field         Type Null  Key Default Extra\n",
      "0     orderNumber          int   NO  PRI    None      \n",
      "1       orderDate         date   NO         None      \n",
      "2    requiredDate         date   NO         None      \n",
      "3     shippedDate         date  YES         None      \n",
      "4          status  varchar(15)   NO         None      \n",
      "5        comments         text  YES         None      \n",
      "6  customerNumber          int   NO  MUL    None      \n",
      "\n",
      "= = = = = = = = = = = = = = = = = = = = = = = = = = \n",
      "Detalhes da tabela: payments\n",
      "\n",
      "            Field           Type Null  Key Default Extra\n",
      "0  customerNumber            int   NO  PRI    None      \n",
      "1     checkNumber    varchar(50)   NO  PRI    None      \n",
      "2     paymentDate           date   NO         None      \n",
      "3          amount  decimal(10,2)   NO         None      \n",
      "\n",
      "= = = = = = = = = = = = = = = = = = = = = = = = = = \n",
      "Detalhes da tabela: productlines\n",
      "\n",
      "             Field           Type Null  Key Default Extra\n",
      "0      productLine    varchar(50)   NO  PRI    None      \n",
      "1  textDescription  varchar(4000)  YES         None      \n",
      "2  htmlDescription     mediumtext  YES         None      \n",
      "3            image     mediumblob  YES         None      \n",
      "\n",
      "= = = = = = = = = = = = = = = = = = = = = = = = = = \n",
      "Detalhes da tabela: products\n",
      "\n",
      "                Field           Type Null  Key Default Extra\n",
      "0         productCode    varchar(15)   NO  PRI    None      \n",
      "1         productName    varchar(70)   NO         None      \n",
      "2         productLine    varchar(50)   NO  MUL    None      \n",
      "3        productScale    varchar(10)   NO         None      \n",
      "4       productVendor    varchar(50)   NO         None      \n",
      "5  productDescription           text   NO         None      \n",
      "6     quantityInStock       smallint   NO         None      \n",
      "7            buyPrice  decimal(10,2)   NO         None      \n",
      "8                MSRP  decimal(10,2)   NO         None      \n",
      "\n",
      "= = = = = = = = = = = = = = = = = = = = = = = = = = \n"
     ]
    }
   ],
   "source": [
    "q = text('show tables')\n",
    "tables = pd.read_sql(q, conn)\n",
    "\n",
    "for table in tables.values:\n",
    "    print(f'Detalhes da tabela: {table[0]}\\n')\n",
    "    q = text(f'show columns from {table[0]}')\n",
    "    print(pd.read_sql(q, conn))\n",
    "    print('\\n= = = = = = = = = = = = = = = = = = = = = = = = = = ')"
   ]
  },
  {
   "cell_type": "markdown",
   "id": "ddf294d3",
   "metadata": {},
   "source": [
    "### Consulta de clientes (10) e presentação dos 5  resultados <a id='consulta-clientes'></a>"
   ]
  },
  {
   "cell_type": "code",
   "execution_count": 4,
   "id": "acdd66f1",
   "metadata": {},
   "outputs": [
    {
     "data": {
      "text/html": [
       "<div>\n",
       "<style scoped>\n",
       "    .dataframe tbody tr th:only-of-type {\n",
       "        vertical-align: middle;\n",
       "    }\n",
       "\n",
       "    .dataframe tbody tr th {\n",
       "        vertical-align: top;\n",
       "    }\n",
       "\n",
       "    .dataframe thead th {\n",
       "        text-align: right;\n",
       "    }\n",
       "</style>\n",
       "<table border=\"1\" class=\"dataframe\">\n",
       "  <thead>\n",
       "    <tr style=\"text-align: right;\">\n",
       "      <th></th>\n",
       "      <th>customerNumber</th>\n",
       "      <th>customerName</th>\n",
       "      <th>contactLastName</th>\n",
       "      <th>contactFirstName</th>\n",
       "      <th>phone</th>\n",
       "      <th>addressLine1</th>\n",
       "      <th>addressLine2</th>\n",
       "      <th>city</th>\n",
       "      <th>state</th>\n",
       "      <th>postalCode</th>\n",
       "      <th>country</th>\n",
       "      <th>salesRepEmployeeNumber</th>\n",
       "      <th>creditLimit</th>\n",
       "    </tr>\n",
       "  </thead>\n",
       "  <tbody>\n",
       "    <tr>\n",
       "      <th>0</th>\n",
       "      <td>103</td>\n",
       "      <td>Atelier graphique</td>\n",
       "      <td>Schmitt</td>\n",
       "      <td>Carine</td>\n",
       "      <td>40.32.2555</td>\n",
       "      <td>54, rue Royale</td>\n",
       "      <td>None</td>\n",
       "      <td>Nantes</td>\n",
       "      <td>None</td>\n",
       "      <td>44000</td>\n",
       "      <td>France</td>\n",
       "      <td>1370.0</td>\n",
       "      <td>21000.0</td>\n",
       "    </tr>\n",
       "    <tr>\n",
       "      <th>1</th>\n",
       "      <td>112</td>\n",
       "      <td>Signal Gift Stores</td>\n",
       "      <td>King</td>\n",
       "      <td>Jean</td>\n",
       "      <td>7025551838</td>\n",
       "      <td>8489 Strong St.</td>\n",
       "      <td>None</td>\n",
       "      <td>Las Vegas</td>\n",
       "      <td>NV</td>\n",
       "      <td>83030</td>\n",
       "      <td>USA</td>\n",
       "      <td>1166.0</td>\n",
       "      <td>71800.0</td>\n",
       "    </tr>\n",
       "    <tr>\n",
       "      <th>2</th>\n",
       "      <td>114</td>\n",
       "      <td>Australian Collectors, Co.</td>\n",
       "      <td>Ferguson</td>\n",
       "      <td>Peter</td>\n",
       "      <td>03 9520 4555</td>\n",
       "      <td>636 St Kilda Road</td>\n",
       "      <td>Level 3</td>\n",
       "      <td>Melbourne</td>\n",
       "      <td>Victoria</td>\n",
       "      <td>3004</td>\n",
       "      <td>Australia</td>\n",
       "      <td>1611.0</td>\n",
       "      <td>117300.0</td>\n",
       "    </tr>\n",
       "    <tr>\n",
       "      <th>3</th>\n",
       "      <td>119</td>\n",
       "      <td>La Rochelle Gifts</td>\n",
       "      <td>Labrune</td>\n",
       "      <td>Janine</td>\n",
       "      <td>40.67.8555</td>\n",
       "      <td>67, rue des Cinquante Otages</td>\n",
       "      <td>None</td>\n",
       "      <td>Nantes</td>\n",
       "      <td>None</td>\n",
       "      <td>44000</td>\n",
       "      <td>France</td>\n",
       "      <td>1370.0</td>\n",
       "      <td>118200.0</td>\n",
       "    </tr>\n",
       "    <tr>\n",
       "      <th>4</th>\n",
       "      <td>121</td>\n",
       "      <td>Baane Mini Imports</td>\n",
       "      <td>Bergulfsen</td>\n",
       "      <td>Jonas</td>\n",
       "      <td>07-98 9555</td>\n",
       "      <td>Erling Skakkes gate 78</td>\n",
       "      <td>None</td>\n",
       "      <td>Stavern</td>\n",
       "      <td>None</td>\n",
       "      <td>4110</td>\n",
       "      <td>Norway</td>\n",
       "      <td>1504.0</td>\n",
       "      <td>81700.0</td>\n",
       "    </tr>\n",
       "  </tbody>\n",
       "</table>\n",
       "</div>"
      ],
      "text/plain": [
       "   customerNumber                customerName contactLastName  \\\n",
       "0             103           Atelier graphique         Schmitt   \n",
       "1             112          Signal Gift Stores            King   \n",
       "2             114  Australian Collectors, Co.        Ferguson   \n",
       "3             119           La Rochelle Gifts         Labrune   \n",
       "4             121          Baane Mini Imports      Bergulfsen   \n",
       "\n",
       "  contactFirstName         phone                  addressLine1 addressLine2  \\\n",
       "0          Carine     40.32.2555                54, rue Royale         None   \n",
       "1             Jean    7025551838               8489 Strong St.         None   \n",
       "2            Peter  03 9520 4555             636 St Kilda Road      Level 3   \n",
       "3          Janine     40.67.8555  67, rue des Cinquante Otages         None   \n",
       "4           Jonas     07-98 9555        Erling Skakkes gate 78         None   \n",
       "\n",
       "        city     state postalCode    country  salesRepEmployeeNumber  \\\n",
       "0     Nantes      None      44000     France                  1370.0   \n",
       "1  Las Vegas        NV      83030        USA                  1166.0   \n",
       "2  Melbourne  Victoria       3004  Australia                  1611.0   \n",
       "3     Nantes      None      44000     France                  1370.0   \n",
       "4    Stavern      None       4110     Norway                  1504.0   \n",
       "\n",
       "   creditLimit  \n",
       "0      21000.0  \n",
       "1      71800.0  \n",
       "2     117300.0  \n",
       "3     118200.0  \n",
       "4      81700.0  "
      ]
     },
     "execution_count": 4,
     "metadata": {},
     "output_type": "execute_result"
    }
   ],
   "source": [
    "q = text('select * from customers limit 10')\n",
    "pd.read_sql(q, conn).head()"
   ]
  },
  {
   "cell_type": "markdown",
   "id": "d6191faa",
   "metadata": {},
   "source": [
    "### Contagem de clientes por país ordenado pela quantidade, mostrando primeiros 5 resultados <a id='contagem-clientes'></a>"
   ]
  },
  {
   "cell_type": "code",
   "execution_count": 5,
   "id": "169d582a",
   "metadata": {},
   "outputs": [
    {
     "data": {
      "text/html": [
       "<div>\n",
       "<style scoped>\n",
       "    .dataframe tbody tr th:only-of-type {\n",
       "        vertical-align: middle;\n",
       "    }\n",
       "\n",
       "    .dataframe tbody tr th {\n",
       "        vertical-align: top;\n",
       "    }\n",
       "\n",
       "    .dataframe thead th {\n",
       "        text-align: right;\n",
       "    }\n",
       "</style>\n",
       "<table border=\"1\" class=\"dataframe\">\n",
       "  <thead>\n",
       "    <tr style=\"text-align: right;\">\n",
       "      <th></th>\n",
       "      <th>qty_customers</th>\n",
       "      <th>country</th>\n",
       "    </tr>\n",
       "  </thead>\n",
       "  <tbody>\n",
       "    <tr>\n",
       "      <th>0</th>\n",
       "      <td>36</td>\n",
       "      <td>USA</td>\n",
       "    </tr>\n",
       "    <tr>\n",
       "      <th>1</th>\n",
       "      <td>13</td>\n",
       "      <td>Germany</td>\n",
       "    </tr>\n",
       "    <tr>\n",
       "      <th>2</th>\n",
       "      <td>12</td>\n",
       "      <td>France</td>\n",
       "    </tr>\n",
       "    <tr>\n",
       "      <th>3</th>\n",
       "      <td>7</td>\n",
       "      <td>Spain</td>\n",
       "    </tr>\n",
       "    <tr>\n",
       "      <th>4</th>\n",
       "      <td>5</td>\n",
       "      <td>UK</td>\n",
       "    </tr>\n",
       "  </tbody>\n",
       "</table>\n",
       "</div>"
      ],
      "text/plain": [
       "   qty_customers  country\n",
       "0             36      USA\n",
       "1             13  Germany\n",
       "2             12   France\n",
       "3              7    Spain\n",
       "4              5       UK"
      ]
     },
     "execution_count": 5,
     "metadata": {},
     "output_type": "execute_result"
    }
   ],
   "source": [
    "q = text('''\n",
    "select count(customerNumber) as qty_customers, country \n",
    "    from customers \n",
    "    group by country \n",
    "    order by count(customerNumber) desc\n",
    "''')\n",
    "                  \n",
    "pd.read_sql(q, conn).head()"
   ]
  },
  {
   "cell_type": "markdown",
   "id": "0bb06cff",
   "metadata": {},
   "source": [
    "## Consulta similar à anterior, porém a contagem é tratado na instância do pandas"
   ]
  },
  {
   "cell_type": "code",
   "execution_count": 6,
   "id": "fb271e16",
   "metadata": {},
   "outputs": [
    {
     "data": {
      "application/vnd.plotly.v1+json": {
       "config": {
        "plotlyServerURL": "https://plot.ly"
       },
       "data": [
        {
         "alignmentgroup": "True",
         "hovertemplate": "Country=%{x}<br>Quantity Customers=%{marker.color}<extra></extra>",
         "legendgroup": "",
         "marker": {
          "color": [
           36,
           13,
           12,
           7,
           5,
           5,
           4,
           4,
           3,
           3
          ],
          "coloraxis": "coloraxis",
          "pattern": {
           "shape": ""
          }
         },
         "name": "",
         "offsetgroup": "",
         "orientation": "v",
         "showlegend": false,
         "textposition": "auto",
         "type": "bar",
         "x": [
          "USA",
          "Germany",
          "France",
          "Spain",
          "UK",
          "Australia",
          "New Zealand",
          "Italy",
          "Switzerland",
          "Singapore"
         ],
         "xaxis": "x",
         "y": [
          36,
          13,
          12,
          7,
          5,
          5,
          4,
          4,
          3,
          3
         ],
         "yaxis": "y"
        }
       ],
       "layout": {
        "barmode": "relative",
        "coloraxis": {
         "colorbar": {
          "title": {
           "text": "Quantity Customers"
          }
         },
         "colorscale": [
          [
           0,
           "#0d0887"
          ],
          [
           0.1111111111111111,
           "#46039f"
          ],
          [
           0.2222222222222222,
           "#7201a8"
          ],
          [
           0.3333333333333333,
           "#9c179e"
          ],
          [
           0.4444444444444444,
           "#bd3786"
          ],
          [
           0.5555555555555556,
           "#d8576b"
          ],
          [
           0.6666666666666666,
           "#ed7953"
          ],
          [
           0.7777777777777778,
           "#fb9f3a"
          ],
          [
           0.8888888888888888,
           "#fdca26"
          ],
          [
           1,
           "#f0f921"
          ]
         ]
        },
        "legend": {
         "tracegroupgap": 0
        },
        "template": {
         "data": {
          "bar": [
           {
            "error_x": {
             "color": "#2a3f5f"
            },
            "error_y": {
             "color": "#2a3f5f"
            },
            "marker": {
             "line": {
              "color": "#E5ECF6",
              "width": 0.5
             },
             "pattern": {
              "fillmode": "overlay",
              "size": 10,
              "solidity": 0.2
             }
            },
            "type": "bar"
           }
          ],
          "barpolar": [
           {
            "marker": {
             "line": {
              "color": "#E5ECF6",
              "width": 0.5
             },
             "pattern": {
              "fillmode": "overlay",
              "size": 10,
              "solidity": 0.2
             }
            },
            "type": "barpolar"
           }
          ],
          "carpet": [
           {
            "aaxis": {
             "endlinecolor": "#2a3f5f",
             "gridcolor": "white",
             "linecolor": "white",
             "minorgridcolor": "white",
             "startlinecolor": "#2a3f5f"
            },
            "baxis": {
             "endlinecolor": "#2a3f5f",
             "gridcolor": "white",
             "linecolor": "white",
             "minorgridcolor": "white",
             "startlinecolor": "#2a3f5f"
            },
            "type": "carpet"
           }
          ],
          "choropleth": [
           {
            "colorbar": {
             "outlinewidth": 0,
             "ticks": ""
            },
            "type": "choropleth"
           }
          ],
          "contour": [
           {
            "colorbar": {
             "outlinewidth": 0,
             "ticks": ""
            },
            "colorscale": [
             [
              0,
              "#0d0887"
             ],
             [
              0.1111111111111111,
              "#46039f"
             ],
             [
              0.2222222222222222,
              "#7201a8"
             ],
             [
              0.3333333333333333,
              "#9c179e"
             ],
             [
              0.4444444444444444,
              "#bd3786"
             ],
             [
              0.5555555555555556,
              "#d8576b"
             ],
             [
              0.6666666666666666,
              "#ed7953"
             ],
             [
              0.7777777777777778,
              "#fb9f3a"
             ],
             [
              0.8888888888888888,
              "#fdca26"
             ],
             [
              1,
              "#f0f921"
             ]
            ],
            "type": "contour"
           }
          ],
          "contourcarpet": [
           {
            "colorbar": {
             "outlinewidth": 0,
             "ticks": ""
            },
            "type": "contourcarpet"
           }
          ],
          "heatmap": [
           {
            "colorbar": {
             "outlinewidth": 0,
             "ticks": ""
            },
            "colorscale": [
             [
              0,
              "#0d0887"
             ],
             [
              0.1111111111111111,
              "#46039f"
             ],
             [
              0.2222222222222222,
              "#7201a8"
             ],
             [
              0.3333333333333333,
              "#9c179e"
             ],
             [
              0.4444444444444444,
              "#bd3786"
             ],
             [
              0.5555555555555556,
              "#d8576b"
             ],
             [
              0.6666666666666666,
              "#ed7953"
             ],
             [
              0.7777777777777778,
              "#fb9f3a"
             ],
             [
              0.8888888888888888,
              "#fdca26"
             ],
             [
              1,
              "#f0f921"
             ]
            ],
            "type": "heatmap"
           }
          ],
          "heatmapgl": [
           {
            "colorbar": {
             "outlinewidth": 0,
             "ticks": ""
            },
            "colorscale": [
             [
              0,
              "#0d0887"
             ],
             [
              0.1111111111111111,
              "#46039f"
             ],
             [
              0.2222222222222222,
              "#7201a8"
             ],
             [
              0.3333333333333333,
              "#9c179e"
             ],
             [
              0.4444444444444444,
              "#bd3786"
             ],
             [
              0.5555555555555556,
              "#d8576b"
             ],
             [
              0.6666666666666666,
              "#ed7953"
             ],
             [
              0.7777777777777778,
              "#fb9f3a"
             ],
             [
              0.8888888888888888,
              "#fdca26"
             ],
             [
              1,
              "#f0f921"
             ]
            ],
            "type": "heatmapgl"
           }
          ],
          "histogram": [
           {
            "marker": {
             "pattern": {
              "fillmode": "overlay",
              "size": 10,
              "solidity": 0.2
             }
            },
            "type": "histogram"
           }
          ],
          "histogram2d": [
           {
            "colorbar": {
             "outlinewidth": 0,
             "ticks": ""
            },
            "colorscale": [
             [
              0,
              "#0d0887"
             ],
             [
              0.1111111111111111,
              "#46039f"
             ],
             [
              0.2222222222222222,
              "#7201a8"
             ],
             [
              0.3333333333333333,
              "#9c179e"
             ],
             [
              0.4444444444444444,
              "#bd3786"
             ],
             [
              0.5555555555555556,
              "#d8576b"
             ],
             [
              0.6666666666666666,
              "#ed7953"
             ],
             [
              0.7777777777777778,
              "#fb9f3a"
             ],
             [
              0.8888888888888888,
              "#fdca26"
             ],
             [
              1,
              "#f0f921"
             ]
            ],
            "type": "histogram2d"
           }
          ],
          "histogram2dcontour": [
           {
            "colorbar": {
             "outlinewidth": 0,
             "ticks": ""
            },
            "colorscale": [
             [
              0,
              "#0d0887"
             ],
             [
              0.1111111111111111,
              "#46039f"
             ],
             [
              0.2222222222222222,
              "#7201a8"
             ],
             [
              0.3333333333333333,
              "#9c179e"
             ],
             [
              0.4444444444444444,
              "#bd3786"
             ],
             [
              0.5555555555555556,
              "#d8576b"
             ],
             [
              0.6666666666666666,
              "#ed7953"
             ],
             [
              0.7777777777777778,
              "#fb9f3a"
             ],
             [
              0.8888888888888888,
              "#fdca26"
             ],
             [
              1,
              "#f0f921"
             ]
            ],
            "type": "histogram2dcontour"
           }
          ],
          "mesh3d": [
           {
            "colorbar": {
             "outlinewidth": 0,
             "ticks": ""
            },
            "type": "mesh3d"
           }
          ],
          "parcoords": [
           {
            "line": {
             "colorbar": {
              "outlinewidth": 0,
              "ticks": ""
             }
            },
            "type": "parcoords"
           }
          ],
          "pie": [
           {
            "automargin": true,
            "type": "pie"
           }
          ],
          "scatter": [
           {
            "fillpattern": {
             "fillmode": "overlay",
             "size": 10,
             "solidity": 0.2
            },
            "type": "scatter"
           }
          ],
          "scatter3d": [
           {
            "line": {
             "colorbar": {
              "outlinewidth": 0,
              "ticks": ""
             }
            },
            "marker": {
             "colorbar": {
              "outlinewidth": 0,
              "ticks": ""
             }
            },
            "type": "scatter3d"
           }
          ],
          "scattercarpet": [
           {
            "marker": {
             "colorbar": {
              "outlinewidth": 0,
              "ticks": ""
             }
            },
            "type": "scattercarpet"
           }
          ],
          "scattergeo": [
           {
            "marker": {
             "colorbar": {
              "outlinewidth": 0,
              "ticks": ""
             }
            },
            "type": "scattergeo"
           }
          ],
          "scattergl": [
           {
            "marker": {
             "colorbar": {
              "outlinewidth": 0,
              "ticks": ""
             }
            },
            "type": "scattergl"
           }
          ],
          "scattermapbox": [
           {
            "marker": {
             "colorbar": {
              "outlinewidth": 0,
              "ticks": ""
             }
            },
            "type": "scattermapbox"
           }
          ],
          "scatterpolar": [
           {
            "marker": {
             "colorbar": {
              "outlinewidth": 0,
              "ticks": ""
             }
            },
            "type": "scatterpolar"
           }
          ],
          "scatterpolargl": [
           {
            "marker": {
             "colorbar": {
              "outlinewidth": 0,
              "ticks": ""
             }
            },
            "type": "scatterpolargl"
           }
          ],
          "scatterternary": [
           {
            "marker": {
             "colorbar": {
              "outlinewidth": 0,
              "ticks": ""
             }
            },
            "type": "scatterternary"
           }
          ],
          "surface": [
           {
            "colorbar": {
             "outlinewidth": 0,
             "ticks": ""
            },
            "colorscale": [
             [
              0,
              "#0d0887"
             ],
             [
              0.1111111111111111,
              "#46039f"
             ],
             [
              0.2222222222222222,
              "#7201a8"
             ],
             [
              0.3333333333333333,
              "#9c179e"
             ],
             [
              0.4444444444444444,
              "#bd3786"
             ],
             [
              0.5555555555555556,
              "#d8576b"
             ],
             [
              0.6666666666666666,
              "#ed7953"
             ],
             [
              0.7777777777777778,
              "#fb9f3a"
             ],
             [
              0.8888888888888888,
              "#fdca26"
             ],
             [
              1,
              "#f0f921"
             ]
            ],
            "type": "surface"
           }
          ],
          "table": [
           {
            "cells": {
             "fill": {
              "color": "#EBF0F8"
             },
             "line": {
              "color": "white"
             }
            },
            "header": {
             "fill": {
              "color": "#C8D4E3"
             },
             "line": {
              "color": "white"
             }
            },
            "type": "table"
           }
          ]
         },
         "layout": {
          "annotationdefaults": {
           "arrowcolor": "#2a3f5f",
           "arrowhead": 0,
           "arrowwidth": 1
          },
          "autotypenumbers": "strict",
          "coloraxis": {
           "colorbar": {
            "outlinewidth": 0,
            "ticks": ""
           }
          },
          "colorscale": {
           "diverging": [
            [
             0,
             "#8e0152"
            ],
            [
             0.1,
             "#c51b7d"
            ],
            [
             0.2,
             "#de77ae"
            ],
            [
             0.3,
             "#f1b6da"
            ],
            [
             0.4,
             "#fde0ef"
            ],
            [
             0.5,
             "#f7f7f7"
            ],
            [
             0.6,
             "#e6f5d0"
            ],
            [
             0.7,
             "#b8e186"
            ],
            [
             0.8,
             "#7fbc41"
            ],
            [
             0.9,
             "#4d9221"
            ],
            [
             1,
             "#276419"
            ]
           ],
           "sequential": [
            [
             0,
             "#0d0887"
            ],
            [
             0.1111111111111111,
             "#46039f"
            ],
            [
             0.2222222222222222,
             "#7201a8"
            ],
            [
             0.3333333333333333,
             "#9c179e"
            ],
            [
             0.4444444444444444,
             "#bd3786"
            ],
            [
             0.5555555555555556,
             "#d8576b"
            ],
            [
             0.6666666666666666,
             "#ed7953"
            ],
            [
             0.7777777777777778,
             "#fb9f3a"
            ],
            [
             0.8888888888888888,
             "#fdca26"
            ],
            [
             1,
             "#f0f921"
            ]
           ],
           "sequentialminus": [
            [
             0,
             "#0d0887"
            ],
            [
             0.1111111111111111,
             "#46039f"
            ],
            [
             0.2222222222222222,
             "#7201a8"
            ],
            [
             0.3333333333333333,
             "#9c179e"
            ],
            [
             0.4444444444444444,
             "#bd3786"
            ],
            [
             0.5555555555555556,
             "#d8576b"
            ],
            [
             0.6666666666666666,
             "#ed7953"
            ],
            [
             0.7777777777777778,
             "#fb9f3a"
            ],
            [
             0.8888888888888888,
             "#fdca26"
            ],
            [
             1,
             "#f0f921"
            ]
           ]
          },
          "colorway": [
           "#636efa",
           "#EF553B",
           "#00cc96",
           "#ab63fa",
           "#FFA15A",
           "#19d3f3",
           "#FF6692",
           "#B6E880",
           "#FF97FF",
           "#FECB52"
          ],
          "font": {
           "color": "#2a3f5f"
          },
          "geo": {
           "bgcolor": "white",
           "lakecolor": "white",
           "landcolor": "#E5ECF6",
           "showlakes": true,
           "showland": true,
           "subunitcolor": "white"
          },
          "hoverlabel": {
           "align": "left"
          },
          "hovermode": "closest",
          "mapbox": {
           "style": "light"
          },
          "paper_bgcolor": "white",
          "plot_bgcolor": "#E5ECF6",
          "polar": {
           "angularaxis": {
            "gridcolor": "white",
            "linecolor": "white",
            "ticks": ""
           },
           "bgcolor": "#E5ECF6",
           "radialaxis": {
            "gridcolor": "white",
            "linecolor": "white",
            "ticks": ""
           }
          },
          "scene": {
           "xaxis": {
            "backgroundcolor": "#E5ECF6",
            "gridcolor": "white",
            "gridwidth": 2,
            "linecolor": "white",
            "showbackground": true,
            "ticks": "",
            "zerolinecolor": "white"
           },
           "yaxis": {
            "backgroundcolor": "#E5ECF6",
            "gridcolor": "white",
            "gridwidth": 2,
            "linecolor": "white",
            "showbackground": true,
            "ticks": "",
            "zerolinecolor": "white"
           },
           "zaxis": {
            "backgroundcolor": "#E5ECF6",
            "gridcolor": "white",
            "gridwidth": 2,
            "linecolor": "white",
            "showbackground": true,
            "ticks": "",
            "zerolinecolor": "white"
           }
          },
          "shapedefaults": {
           "line": {
            "color": "#2a3f5f"
           }
          },
          "ternary": {
           "aaxis": {
            "gridcolor": "white",
            "linecolor": "white",
            "ticks": ""
           },
           "baxis": {
            "gridcolor": "white",
            "linecolor": "white",
            "ticks": ""
           },
           "bgcolor": "#E5ECF6",
           "caxis": {
            "gridcolor": "white",
            "linecolor": "white",
            "ticks": ""
           }
          },
          "title": {
           "x": 0.05
          },
          "xaxis": {
           "automargin": true,
           "gridcolor": "white",
           "linecolor": "white",
           "ticks": "",
           "title": {
            "standoff": 15
           },
           "zerolinecolor": "white",
           "zerolinewidth": 2
          },
          "yaxis": {
           "automargin": true,
           "gridcolor": "white",
           "linecolor": "white",
           "ticks": "",
           "title": {
            "standoff": 15
           },
           "zerolinecolor": "white",
           "zerolinewidth": 2
          }
         }
        },
        "title": {
         "text": "TOP 10 - Customers by Country"
        },
        "xaxis": {
         "anchor": "y",
         "domain": [
          0,
          1
         ],
         "title": {
          "text": "Country"
         }
        },
        "yaxis": {
         "anchor": "x",
         "domain": [
          0,
          1
         ],
         "title": {
          "text": "Quantity Customers"
         }
        }
       }
      }
     },
     "metadata": {},
     "output_type": "display_data"
    }
   ],
   "source": [
    "q = text('''\n",
    "select country, count(country) as qty_customers \n",
    "         from customers \n",
    "         group by country \n",
    "         order by qty_customers DESC\n",
    "''')\n",
    "\n",
    "customers_by_country = pd.read_sql(q, conn).head(10)\n",
    "\n",
    "fig = px.bar(customers_by_country, x='country', y='qty_customers', \\\n",
    "            title='TOP 10 - Customers by Country', color='qty_customers', \\\n",
    "            labels={'country': 'Country', 'qty_customers': 'Quantity Customers'})\n",
    "fig.show() \n"
   ]
  },
  {
   "cell_type": "markdown",
   "id": "9be3d0f2",
   "metadata": {},
   "source": [
    "## Recuperação das categorias (products lines)"
   ]
  },
  {
   "cell_type": "code",
   "execution_count": 7,
   "id": "595dffb9",
   "metadata": {},
   "outputs": [
    {
     "data": {
      "text/html": [
       "<div>\n",
       "<style scoped>\n",
       "    .dataframe tbody tr th:only-of-type {\n",
       "        vertical-align: middle;\n",
       "    }\n",
       "\n",
       "    .dataframe tbody tr th {\n",
       "        vertical-align: top;\n",
       "    }\n",
       "\n",
       "    .dataframe thead th {\n",
       "        text-align: right;\n",
       "    }\n",
       "</style>\n",
       "<table border=\"1\" class=\"dataframe\">\n",
       "  <thead>\n",
       "    <tr style=\"text-align: right;\">\n",
       "      <th></th>\n",
       "      <th>productLine</th>\n",
       "      <th>textDescription</th>\n",
       "      <th>htmlDescription</th>\n",
       "      <th>image</th>\n",
       "    </tr>\n",
       "  </thead>\n",
       "  <tbody>\n",
       "    <tr>\n",
       "      <th>0</th>\n",
       "      <td>Classic Cars</td>\n",
       "      <td>Attention car enthusiasts: Make your wildest c...</td>\n",
       "      <td>None</td>\n",
       "      <td>None</td>\n",
       "    </tr>\n",
       "    <tr>\n",
       "      <th>1</th>\n",
       "      <td>Motorcycles</td>\n",
       "      <td>Our motorcycles are state of the art replicas ...</td>\n",
       "      <td>None</td>\n",
       "      <td>None</td>\n",
       "    </tr>\n",
       "    <tr>\n",
       "      <th>2</th>\n",
       "      <td>Planes</td>\n",
       "      <td>Unique, diecast airplane and helicopter replic...</td>\n",
       "      <td>None</td>\n",
       "      <td>None</td>\n",
       "    </tr>\n",
       "    <tr>\n",
       "      <th>3</th>\n",
       "      <td>Ships</td>\n",
       "      <td>The perfect holiday or anniversary gift for ex...</td>\n",
       "      <td>None</td>\n",
       "      <td>None</td>\n",
       "    </tr>\n",
       "    <tr>\n",
       "      <th>4</th>\n",
       "      <td>Trains</td>\n",
       "      <td>Model trains are a rewarding hobby for enthusi...</td>\n",
       "      <td>None</td>\n",
       "      <td>None</td>\n",
       "    </tr>\n",
       "    <tr>\n",
       "      <th>5</th>\n",
       "      <td>Trucks and Buses</td>\n",
       "      <td>The Truck and Bus models are realistic replica...</td>\n",
       "      <td>None</td>\n",
       "      <td>None</td>\n",
       "    </tr>\n",
       "    <tr>\n",
       "      <th>6</th>\n",
       "      <td>Vintage Cars</td>\n",
       "      <td>Our Vintage Car models realistically portray a...</td>\n",
       "      <td>None</td>\n",
       "      <td>None</td>\n",
       "    </tr>\n",
       "  </tbody>\n",
       "</table>\n",
       "</div>"
      ],
      "text/plain": [
       "        productLine                                    textDescription  \\\n",
       "0      Classic Cars  Attention car enthusiasts: Make your wildest c...   \n",
       "1       Motorcycles  Our motorcycles are state of the art replicas ...   \n",
       "2            Planes  Unique, diecast airplane and helicopter replic...   \n",
       "3             Ships  The perfect holiday or anniversary gift for ex...   \n",
       "4            Trains  Model trains are a rewarding hobby for enthusi...   \n",
       "5  Trucks and Buses  The Truck and Bus models are realistic replica...   \n",
       "6      Vintage Cars  Our Vintage Car models realistically portray a...   \n",
       "\n",
       "  htmlDescription image  \n",
       "0            None  None  \n",
       "1            None  None  \n",
       "2            None  None  \n",
       "3            None  None  \n",
       "4            None  None  \n",
       "5            None  None  \n",
       "6            None  None  "
      ]
     },
     "execution_count": 7,
     "metadata": {},
     "output_type": "execute_result"
    }
   ],
   "source": [
    "q = text('select * from productlines')\n",
    "productlines = pd.read_sql(q, conn)\n",
    "productlines"
   ]
  },
  {
   "cell_type": "markdown",
   "id": "7b5924dc",
   "metadata": {},
   "source": [
    "## Seleção de quantidade de produtos por categoria ornadenados na camada pandas pelas que tem mais produtos "
   ]
  },
  {
   "cell_type": "code",
   "execution_count": 8,
   "id": "e28f29cd",
   "metadata": {},
   "outputs": [
    {
     "data": {
      "text/html": [
       "<div>\n",
       "<style scoped>\n",
       "    .dataframe tbody tr th:only-of-type {\n",
       "        vertical-align: middle;\n",
       "    }\n",
       "\n",
       "    .dataframe tbody tr th {\n",
       "        vertical-align: top;\n",
       "    }\n",
       "\n",
       "    .dataframe thead th {\n",
       "        text-align: right;\n",
       "    }\n",
       "</style>\n",
       "<table border=\"1\" class=\"dataframe\">\n",
       "  <thead>\n",
       "    <tr style=\"text-align: right;\">\n",
       "      <th></th>\n",
       "      <th>product_line</th>\n",
       "      <th>description</th>\n",
       "      <th>qty_prd</th>\n",
       "    </tr>\n",
       "  </thead>\n",
       "  <tbody>\n",
       "    <tr>\n",
       "      <th>0</th>\n",
       "      <td>Classic Cars</td>\n",
       "      <td>Attention car enthusiasts: Make your wildest c...</td>\n",
       "      <td>38</td>\n",
       "    </tr>\n",
       "    <tr>\n",
       "      <th>6</th>\n",
       "      <td>Vintage Cars</td>\n",
       "      <td>Our Vintage Car models realistically portray a...</td>\n",
       "      <td>24</td>\n",
       "    </tr>\n",
       "    <tr>\n",
       "      <th>1</th>\n",
       "      <td>Motorcycles</td>\n",
       "      <td>Our motorcycles are state of the art replicas ...</td>\n",
       "      <td>13</td>\n",
       "    </tr>\n",
       "    <tr>\n",
       "      <th>2</th>\n",
       "      <td>Planes</td>\n",
       "      <td>Unique, diecast airplane and helicopter replic...</td>\n",
       "      <td>12</td>\n",
       "    </tr>\n",
       "    <tr>\n",
       "      <th>5</th>\n",
       "      <td>Trucks and Buses</td>\n",
       "      <td>The Truck and Bus models are realistic replica...</td>\n",
       "      <td>11</td>\n",
       "    </tr>\n",
       "    <tr>\n",
       "      <th>3</th>\n",
       "      <td>Ships</td>\n",
       "      <td>The perfect holiday or anniversary gift for ex...</td>\n",
       "      <td>9</td>\n",
       "    </tr>\n",
       "    <tr>\n",
       "      <th>4</th>\n",
       "      <td>Trains</td>\n",
       "      <td>Model trains are a rewarding hobby for enthusi...</td>\n",
       "      <td>3</td>\n",
       "    </tr>\n",
       "  </tbody>\n",
       "</table>\n",
       "</div>"
      ],
      "text/plain": [
       "       product_line                                        description  \\\n",
       "0      Classic Cars  Attention car enthusiasts: Make your wildest c...   \n",
       "6      Vintage Cars  Our Vintage Car models realistically portray a...   \n",
       "1       Motorcycles  Our motorcycles are state of the art replicas ...   \n",
       "2            Planes  Unique, diecast airplane and helicopter replic...   \n",
       "5  Trucks and Buses  The Truck and Bus models are realistic replica...   \n",
       "3             Ships  The perfect holiday or anniversary gift for ex...   \n",
       "4            Trains  Model trains are a rewarding hobby for enthusi...   \n",
       "\n",
       "   qty_prd  \n",
       "0       38  \n",
       "6       24  \n",
       "1       13  \n",
       "2       12  \n",
       "5       11  \n",
       "3        9  \n",
       "4        3  "
      ]
     },
     "execution_count": 8,
     "metadata": {},
     "output_type": "execute_result"
    }
   ],
   "source": [
    "q = text('''\n",
    "select a.productLine as product_line, \n",
    "    a.textDescription as description, \n",
    "    count(b.productCode) as qty_prd\n",
    "    from productlines a \n",
    "    inner join products b on a.productLine = b.productLine \n",
    "    group by a.productLine\n",
    "''')\n",
    "productlines = pd.read_sql(q, conn)\n",
    "productlines.sort_values(by='qty_prd', ascending=False)"
   ]
  },
  {
   "cell_type": "code",
   "execution_count": 9,
   "id": "ae29bcb3",
   "metadata": {},
   "outputs": [
    {
     "data": {
      "text/html": [
       "<div>\n",
       "<style scoped>\n",
       "    .dataframe tbody tr th:only-of-type {\n",
       "        vertical-align: middle;\n",
       "    }\n",
       "\n",
       "    .dataframe tbody tr th {\n",
       "        vertical-align: top;\n",
       "    }\n",
       "\n",
       "    .dataframe thead th {\n",
       "        text-align: right;\n",
       "    }\n",
       "</style>\n",
       "<table border=\"1\" class=\"dataframe\">\n",
       "  <thead>\n",
       "    <tr style=\"text-align: right;\">\n",
       "      <th></th>\n",
       "      <th>code</th>\n",
       "      <th>name</th>\n",
       "      <th>product_line</th>\n",
       "    </tr>\n",
       "  </thead>\n",
       "  <tbody>\n",
       "    <tr>\n",
       "      <th>0</th>\n",
       "      <td>S10_1678</td>\n",
       "      <td>1969 Harley Davidson Ultimate Chopper</td>\n",
       "      <td>Motorcycles</td>\n",
       "    </tr>\n",
       "    <tr>\n",
       "      <th>1</th>\n",
       "      <td>S10_1949</td>\n",
       "      <td>1952 Alpine Renault 1300</td>\n",
       "      <td>Classic Cars</td>\n",
       "    </tr>\n",
       "    <tr>\n",
       "      <th>2</th>\n",
       "      <td>S10_2016</td>\n",
       "      <td>1996 Moto Guzzi 1100i</td>\n",
       "      <td>Motorcycles</td>\n",
       "    </tr>\n",
       "    <tr>\n",
       "      <th>3</th>\n",
       "      <td>S10_4698</td>\n",
       "      <td>2003 Harley-Davidson Eagle Drag Bike</td>\n",
       "      <td>Motorcycles</td>\n",
       "    </tr>\n",
       "    <tr>\n",
       "      <th>4</th>\n",
       "      <td>S10_4757</td>\n",
       "      <td>1972 Alfa Romeo GTA</td>\n",
       "      <td>Classic Cars</td>\n",
       "    </tr>\n",
       "  </tbody>\n",
       "</table>\n",
       "</div>"
      ],
      "text/plain": [
       "       code                                   name  product_line\n",
       "0  S10_1678  1969 Harley Davidson Ultimate Chopper   Motorcycles\n",
       "1  S10_1949               1952 Alpine Renault 1300  Classic Cars\n",
       "2  S10_2016                  1996 Moto Guzzi 1100i   Motorcycles\n",
       "3  S10_4698   2003 Harley-Davidson Eagle Drag Bike   Motorcycles\n",
       "4  S10_4757                    1972 Alfa Romeo GTA  Classic Cars"
      ]
     },
     "execution_count": 9,
     "metadata": {},
     "output_type": "execute_result"
    }
   ],
   "source": [
    "q = text('''\n",
    "select productCode as code,  \n",
    "    productName as name,\n",
    "    productLine as product_line\n",
    "    from products\n",
    "''')\n",
    "\n",
    "products = pd.read_sql(q, conn)\n",
    "products.head()"
   ]
  },
  {
   "cell_type": "markdown",
   "id": "bb231317",
   "metadata": {},
   "source": [
    "## Consulta de quantidade de produtos por categoria realizada apenas na camada pandas"
   ]
  },
  {
   "cell_type": "code",
   "execution_count": 10,
   "id": "7706bb1d",
   "metadata": {},
   "outputs": [
    {
     "data": {
      "text/html": [
       "<div>\n",
       "<style scoped>\n",
       "    .dataframe tbody tr th:only-of-type {\n",
       "        vertical-align: middle;\n",
       "    }\n",
       "\n",
       "    .dataframe tbody tr th {\n",
       "        vertical-align: top;\n",
       "    }\n",
       "\n",
       "    .dataframe thead th {\n",
       "        text-align: right;\n",
       "    }\n",
       "</style>\n",
       "<table border=\"1\" class=\"dataframe\">\n",
       "  <thead>\n",
       "    <tr style=\"text-align: right;\">\n",
       "      <th></th>\n",
       "      <th>code</th>\n",
       "    </tr>\n",
       "    <tr>\n",
       "      <th>product_line</th>\n",
       "      <th></th>\n",
       "    </tr>\n",
       "  </thead>\n",
       "  <tbody>\n",
       "    <tr>\n",
       "      <th>Classic Cars</th>\n",
       "      <td>38</td>\n",
       "    </tr>\n",
       "    <tr>\n",
       "      <th>Motorcycles</th>\n",
       "      <td>13</td>\n",
       "    </tr>\n",
       "    <tr>\n",
       "      <th>Planes</th>\n",
       "      <td>12</td>\n",
       "    </tr>\n",
       "    <tr>\n",
       "      <th>Ships</th>\n",
       "      <td>9</td>\n",
       "    </tr>\n",
       "    <tr>\n",
       "      <th>Trains</th>\n",
       "      <td>3</td>\n",
       "    </tr>\n",
       "    <tr>\n",
       "      <th>Trucks and Buses</th>\n",
       "      <td>11</td>\n",
       "    </tr>\n",
       "    <tr>\n",
       "      <th>Vintage Cars</th>\n",
       "      <td>24</td>\n",
       "    </tr>\n",
       "  </tbody>\n",
       "</table>\n",
       "</div>"
      ],
      "text/plain": [
       "                  code\n",
       "product_line          \n",
       "Classic Cars        38\n",
       "Motorcycles         13\n",
       "Planes              12\n",
       "Ships                9\n",
       "Trains               3\n",
       "Trucks and Buses    11\n",
       "Vintage Cars        24"
      ]
     },
     "execution_count": 10,
     "metadata": {},
     "output_type": "execute_result"
    }
   ],
   "source": [
    "productlines[['product_line', 'description']].merge(products[['code','product_line']], \\\n",
    "    how='inner', on='product_line')[['product_line', 'code']].groupby('product_line').count()\n",
    "\n"
   ]
  },
  {
   "cell_type": "markdown",
   "id": "e5996d9e",
   "metadata": {},
   "source": [
    "### Melhor alternativa"
   ]
  },
  {
   "cell_type": "code",
   "execution_count": 11,
   "id": "b22ef41d",
   "metadata": {},
   "outputs": [
    {
     "data": {
      "application/vnd.plotly.v1+json": {
       "config": {
        "plotlyServerURL": "https://plot.ly"
       },
       "data": [
        {
         "alignmentgroup": "True",
         "hovertemplate": "Category=%{x}<br>Quantity Products=%{y}<extra></extra>",
         "legendgroup": "",
         "marker": {
          "color": "#636efa",
          "pattern": {
           "shape": ""
          }
         },
         "name": "",
         "offsetgroup": "",
         "orientation": "v",
         "showlegend": false,
         "textposition": "auto",
         "type": "bar",
         "x": [
          "Classic Cars",
          "Vintage Cars",
          "Motorcycles",
          "Planes",
          "Trucks and Buses",
          "Ships",
          "Trains"
         ],
         "xaxis": "x",
         "y": [
          38,
          24,
          13,
          12,
          11,
          9,
          3
         ],
         "yaxis": "y"
        }
       ],
       "layout": {
        "barmode": "relative",
        "legend": {
         "tracegroupgap": 0
        },
        "template": {
         "data": {
          "bar": [
           {
            "error_x": {
             "color": "#2a3f5f"
            },
            "error_y": {
             "color": "#2a3f5f"
            },
            "marker": {
             "line": {
              "color": "#E5ECF6",
              "width": 0.5
             },
             "pattern": {
              "fillmode": "overlay",
              "size": 10,
              "solidity": 0.2
             }
            },
            "type": "bar"
           }
          ],
          "barpolar": [
           {
            "marker": {
             "line": {
              "color": "#E5ECF6",
              "width": 0.5
             },
             "pattern": {
              "fillmode": "overlay",
              "size": 10,
              "solidity": 0.2
             }
            },
            "type": "barpolar"
           }
          ],
          "carpet": [
           {
            "aaxis": {
             "endlinecolor": "#2a3f5f",
             "gridcolor": "white",
             "linecolor": "white",
             "minorgridcolor": "white",
             "startlinecolor": "#2a3f5f"
            },
            "baxis": {
             "endlinecolor": "#2a3f5f",
             "gridcolor": "white",
             "linecolor": "white",
             "minorgridcolor": "white",
             "startlinecolor": "#2a3f5f"
            },
            "type": "carpet"
           }
          ],
          "choropleth": [
           {
            "colorbar": {
             "outlinewidth": 0,
             "ticks": ""
            },
            "type": "choropleth"
           }
          ],
          "contour": [
           {
            "colorbar": {
             "outlinewidth": 0,
             "ticks": ""
            },
            "colorscale": [
             [
              0,
              "#0d0887"
             ],
             [
              0.1111111111111111,
              "#46039f"
             ],
             [
              0.2222222222222222,
              "#7201a8"
             ],
             [
              0.3333333333333333,
              "#9c179e"
             ],
             [
              0.4444444444444444,
              "#bd3786"
             ],
             [
              0.5555555555555556,
              "#d8576b"
             ],
             [
              0.6666666666666666,
              "#ed7953"
             ],
             [
              0.7777777777777778,
              "#fb9f3a"
             ],
             [
              0.8888888888888888,
              "#fdca26"
             ],
             [
              1,
              "#f0f921"
             ]
            ],
            "type": "contour"
           }
          ],
          "contourcarpet": [
           {
            "colorbar": {
             "outlinewidth": 0,
             "ticks": ""
            },
            "type": "contourcarpet"
           }
          ],
          "heatmap": [
           {
            "colorbar": {
             "outlinewidth": 0,
             "ticks": ""
            },
            "colorscale": [
             [
              0,
              "#0d0887"
             ],
             [
              0.1111111111111111,
              "#46039f"
             ],
             [
              0.2222222222222222,
              "#7201a8"
             ],
             [
              0.3333333333333333,
              "#9c179e"
             ],
             [
              0.4444444444444444,
              "#bd3786"
             ],
             [
              0.5555555555555556,
              "#d8576b"
             ],
             [
              0.6666666666666666,
              "#ed7953"
             ],
             [
              0.7777777777777778,
              "#fb9f3a"
             ],
             [
              0.8888888888888888,
              "#fdca26"
             ],
             [
              1,
              "#f0f921"
             ]
            ],
            "type": "heatmap"
           }
          ],
          "heatmapgl": [
           {
            "colorbar": {
             "outlinewidth": 0,
             "ticks": ""
            },
            "colorscale": [
             [
              0,
              "#0d0887"
             ],
             [
              0.1111111111111111,
              "#46039f"
             ],
             [
              0.2222222222222222,
              "#7201a8"
             ],
             [
              0.3333333333333333,
              "#9c179e"
             ],
             [
              0.4444444444444444,
              "#bd3786"
             ],
             [
              0.5555555555555556,
              "#d8576b"
             ],
             [
              0.6666666666666666,
              "#ed7953"
             ],
             [
              0.7777777777777778,
              "#fb9f3a"
             ],
             [
              0.8888888888888888,
              "#fdca26"
             ],
             [
              1,
              "#f0f921"
             ]
            ],
            "type": "heatmapgl"
           }
          ],
          "histogram": [
           {
            "marker": {
             "pattern": {
              "fillmode": "overlay",
              "size": 10,
              "solidity": 0.2
             }
            },
            "type": "histogram"
           }
          ],
          "histogram2d": [
           {
            "colorbar": {
             "outlinewidth": 0,
             "ticks": ""
            },
            "colorscale": [
             [
              0,
              "#0d0887"
             ],
             [
              0.1111111111111111,
              "#46039f"
             ],
             [
              0.2222222222222222,
              "#7201a8"
             ],
             [
              0.3333333333333333,
              "#9c179e"
             ],
             [
              0.4444444444444444,
              "#bd3786"
             ],
             [
              0.5555555555555556,
              "#d8576b"
             ],
             [
              0.6666666666666666,
              "#ed7953"
             ],
             [
              0.7777777777777778,
              "#fb9f3a"
             ],
             [
              0.8888888888888888,
              "#fdca26"
             ],
             [
              1,
              "#f0f921"
             ]
            ],
            "type": "histogram2d"
           }
          ],
          "histogram2dcontour": [
           {
            "colorbar": {
             "outlinewidth": 0,
             "ticks": ""
            },
            "colorscale": [
             [
              0,
              "#0d0887"
             ],
             [
              0.1111111111111111,
              "#46039f"
             ],
             [
              0.2222222222222222,
              "#7201a8"
             ],
             [
              0.3333333333333333,
              "#9c179e"
             ],
             [
              0.4444444444444444,
              "#bd3786"
             ],
             [
              0.5555555555555556,
              "#d8576b"
             ],
             [
              0.6666666666666666,
              "#ed7953"
             ],
             [
              0.7777777777777778,
              "#fb9f3a"
             ],
             [
              0.8888888888888888,
              "#fdca26"
             ],
             [
              1,
              "#f0f921"
             ]
            ],
            "type": "histogram2dcontour"
           }
          ],
          "mesh3d": [
           {
            "colorbar": {
             "outlinewidth": 0,
             "ticks": ""
            },
            "type": "mesh3d"
           }
          ],
          "parcoords": [
           {
            "line": {
             "colorbar": {
              "outlinewidth": 0,
              "ticks": ""
             }
            },
            "type": "parcoords"
           }
          ],
          "pie": [
           {
            "automargin": true,
            "type": "pie"
           }
          ],
          "scatter": [
           {
            "fillpattern": {
             "fillmode": "overlay",
             "size": 10,
             "solidity": 0.2
            },
            "type": "scatter"
           }
          ],
          "scatter3d": [
           {
            "line": {
             "colorbar": {
              "outlinewidth": 0,
              "ticks": ""
             }
            },
            "marker": {
             "colorbar": {
              "outlinewidth": 0,
              "ticks": ""
             }
            },
            "type": "scatter3d"
           }
          ],
          "scattercarpet": [
           {
            "marker": {
             "colorbar": {
              "outlinewidth": 0,
              "ticks": ""
             }
            },
            "type": "scattercarpet"
           }
          ],
          "scattergeo": [
           {
            "marker": {
             "colorbar": {
              "outlinewidth": 0,
              "ticks": ""
             }
            },
            "type": "scattergeo"
           }
          ],
          "scattergl": [
           {
            "marker": {
             "colorbar": {
              "outlinewidth": 0,
              "ticks": ""
             }
            },
            "type": "scattergl"
           }
          ],
          "scattermapbox": [
           {
            "marker": {
             "colorbar": {
              "outlinewidth": 0,
              "ticks": ""
             }
            },
            "type": "scattermapbox"
           }
          ],
          "scatterpolar": [
           {
            "marker": {
             "colorbar": {
              "outlinewidth": 0,
              "ticks": ""
             }
            },
            "type": "scatterpolar"
           }
          ],
          "scatterpolargl": [
           {
            "marker": {
             "colorbar": {
              "outlinewidth": 0,
              "ticks": ""
             }
            },
            "type": "scatterpolargl"
           }
          ],
          "scatterternary": [
           {
            "marker": {
             "colorbar": {
              "outlinewidth": 0,
              "ticks": ""
             }
            },
            "type": "scatterternary"
           }
          ],
          "surface": [
           {
            "colorbar": {
             "outlinewidth": 0,
             "ticks": ""
            },
            "colorscale": [
             [
              0,
              "#0d0887"
             ],
             [
              0.1111111111111111,
              "#46039f"
             ],
             [
              0.2222222222222222,
              "#7201a8"
             ],
             [
              0.3333333333333333,
              "#9c179e"
             ],
             [
              0.4444444444444444,
              "#bd3786"
             ],
             [
              0.5555555555555556,
              "#d8576b"
             ],
             [
              0.6666666666666666,
              "#ed7953"
             ],
             [
              0.7777777777777778,
              "#fb9f3a"
             ],
             [
              0.8888888888888888,
              "#fdca26"
             ],
             [
              1,
              "#f0f921"
             ]
            ],
            "type": "surface"
           }
          ],
          "table": [
           {
            "cells": {
             "fill": {
              "color": "#EBF0F8"
             },
             "line": {
              "color": "white"
             }
            },
            "header": {
             "fill": {
              "color": "#C8D4E3"
             },
             "line": {
              "color": "white"
             }
            },
            "type": "table"
           }
          ]
         },
         "layout": {
          "annotationdefaults": {
           "arrowcolor": "#2a3f5f",
           "arrowhead": 0,
           "arrowwidth": 1
          },
          "autotypenumbers": "strict",
          "coloraxis": {
           "colorbar": {
            "outlinewidth": 0,
            "ticks": ""
           }
          },
          "colorscale": {
           "diverging": [
            [
             0,
             "#8e0152"
            ],
            [
             0.1,
             "#c51b7d"
            ],
            [
             0.2,
             "#de77ae"
            ],
            [
             0.3,
             "#f1b6da"
            ],
            [
             0.4,
             "#fde0ef"
            ],
            [
             0.5,
             "#f7f7f7"
            ],
            [
             0.6,
             "#e6f5d0"
            ],
            [
             0.7,
             "#b8e186"
            ],
            [
             0.8,
             "#7fbc41"
            ],
            [
             0.9,
             "#4d9221"
            ],
            [
             1,
             "#276419"
            ]
           ],
           "sequential": [
            [
             0,
             "#0d0887"
            ],
            [
             0.1111111111111111,
             "#46039f"
            ],
            [
             0.2222222222222222,
             "#7201a8"
            ],
            [
             0.3333333333333333,
             "#9c179e"
            ],
            [
             0.4444444444444444,
             "#bd3786"
            ],
            [
             0.5555555555555556,
             "#d8576b"
            ],
            [
             0.6666666666666666,
             "#ed7953"
            ],
            [
             0.7777777777777778,
             "#fb9f3a"
            ],
            [
             0.8888888888888888,
             "#fdca26"
            ],
            [
             1,
             "#f0f921"
            ]
           ],
           "sequentialminus": [
            [
             0,
             "#0d0887"
            ],
            [
             0.1111111111111111,
             "#46039f"
            ],
            [
             0.2222222222222222,
             "#7201a8"
            ],
            [
             0.3333333333333333,
             "#9c179e"
            ],
            [
             0.4444444444444444,
             "#bd3786"
            ],
            [
             0.5555555555555556,
             "#d8576b"
            ],
            [
             0.6666666666666666,
             "#ed7953"
            ],
            [
             0.7777777777777778,
             "#fb9f3a"
            ],
            [
             0.8888888888888888,
             "#fdca26"
            ],
            [
             1,
             "#f0f921"
            ]
           ]
          },
          "colorway": [
           "#636efa",
           "#EF553B",
           "#00cc96",
           "#ab63fa",
           "#FFA15A",
           "#19d3f3",
           "#FF6692",
           "#B6E880",
           "#FF97FF",
           "#FECB52"
          ],
          "font": {
           "color": "#2a3f5f"
          },
          "geo": {
           "bgcolor": "white",
           "lakecolor": "white",
           "landcolor": "#E5ECF6",
           "showlakes": true,
           "showland": true,
           "subunitcolor": "white"
          },
          "hoverlabel": {
           "align": "left"
          },
          "hovermode": "closest",
          "mapbox": {
           "style": "light"
          },
          "paper_bgcolor": "white",
          "plot_bgcolor": "#E5ECF6",
          "polar": {
           "angularaxis": {
            "gridcolor": "white",
            "linecolor": "white",
            "ticks": ""
           },
           "bgcolor": "#E5ECF6",
           "radialaxis": {
            "gridcolor": "white",
            "linecolor": "white",
            "ticks": ""
           }
          },
          "scene": {
           "xaxis": {
            "backgroundcolor": "#E5ECF6",
            "gridcolor": "white",
            "gridwidth": 2,
            "linecolor": "white",
            "showbackground": true,
            "ticks": "",
            "zerolinecolor": "white"
           },
           "yaxis": {
            "backgroundcolor": "#E5ECF6",
            "gridcolor": "white",
            "gridwidth": 2,
            "linecolor": "white",
            "showbackground": true,
            "ticks": "",
            "zerolinecolor": "white"
           },
           "zaxis": {
            "backgroundcolor": "#E5ECF6",
            "gridcolor": "white",
            "gridwidth": 2,
            "linecolor": "white",
            "showbackground": true,
            "ticks": "",
            "zerolinecolor": "white"
           }
          },
          "shapedefaults": {
           "line": {
            "color": "#2a3f5f"
           }
          },
          "ternary": {
           "aaxis": {
            "gridcolor": "white",
            "linecolor": "white",
            "ticks": ""
           },
           "baxis": {
            "gridcolor": "white",
            "linecolor": "white",
            "ticks": ""
           },
           "bgcolor": "#E5ECF6",
           "caxis": {
            "gridcolor": "white",
            "linecolor": "white",
            "ticks": ""
           }
          },
          "title": {
           "x": 0.05
          },
          "xaxis": {
           "automargin": true,
           "gridcolor": "white",
           "linecolor": "white",
           "ticks": "",
           "title": {
            "standoff": 15
           },
           "zerolinecolor": "white",
           "zerolinewidth": 2
          },
          "yaxis": {
           "automargin": true,
           "gridcolor": "white",
           "linecolor": "white",
           "ticks": "",
           "title": {
            "standoff": 15
           },
           "zerolinecolor": "white",
           "zerolinewidth": 2
          }
         }
        },
        "title": {
         "text": "Quantity Products by Category"
        },
        "xaxis": {
         "anchor": "y",
         "domain": [
          0,
          1
         ],
         "title": {
          "text": "Category"
         }
        },
        "yaxis": {
         "anchor": "x",
         "domain": [
          0,
          1
         ],
         "title": {
          "text": "Quantity Products"
         }
        }
       }
      }
     },
     "metadata": {},
     "output_type": "display_data"
    }
   ],
   "source": [
    "result_temp = products.groupby('product_line').size().reset_index().rename(columns={0: 'qty_prd'})\n",
    "\n",
    "fig = px.bar(result_temp.sort_values(by='qty_prd', ascending=False), \\\n",
    "            x='product_line', y='qty_prd', \\\n",
    "            title='Quantity Products by Category', \\\n",
    "            labels={'product_line': 'Category','qty_prd': 'Quantity Products'})\n",
    "fig.show()"
   ]
  },
  {
   "cell_type": "markdown",
   "id": "d9352761",
   "metadata": {},
   "source": [
    "## Seleção de categorias com descrição e quantide de produtos em cada uma delas"
   ]
  },
  {
   "cell_type": "code",
   "execution_count": 12,
   "id": "57fa912b",
   "metadata": {},
   "outputs": [
    {
     "data": {
      "text/html": [
       "<div>\n",
       "<style scoped>\n",
       "    .dataframe tbody tr th:only-of-type {\n",
       "        vertical-align: middle;\n",
       "    }\n",
       "\n",
       "    .dataframe tbody tr th {\n",
       "        vertical-align: top;\n",
       "    }\n",
       "\n",
       "    .dataframe thead th {\n",
       "        text-align: right;\n",
       "    }\n",
       "</style>\n",
       "<table border=\"1\" class=\"dataframe\">\n",
       "  <thead>\n",
       "    <tr style=\"text-align: right;\">\n",
       "      <th></th>\n",
       "      <th>Product Line</th>\n",
       "      <th>Qty Prods</th>\n",
       "      <th>Description</th>\n",
       "    </tr>\n",
       "  </thead>\n",
       "  <tbody>\n",
       "    <tr>\n",
       "      <th>0</th>\n",
       "      <td>Classic Cars</td>\n",
       "      <td>38</td>\n",
       "      <td>Attention car enthusiasts: Make your wildest c...</td>\n",
       "    </tr>\n",
       "    <tr>\n",
       "      <th>1</th>\n",
       "      <td>Motorcycles</td>\n",
       "      <td>13</td>\n",
       "      <td>Our motorcycles are state of the art replicas ...</td>\n",
       "    </tr>\n",
       "    <tr>\n",
       "      <th>2</th>\n",
       "      <td>Planes</td>\n",
       "      <td>12</td>\n",
       "      <td>Unique, diecast airplane and helicopter replic...</td>\n",
       "    </tr>\n",
       "    <tr>\n",
       "      <th>3</th>\n",
       "      <td>Ships</td>\n",
       "      <td>9</td>\n",
       "      <td>The perfect holiday or anniversary gift for ex...</td>\n",
       "    </tr>\n",
       "    <tr>\n",
       "      <th>4</th>\n",
       "      <td>Trains</td>\n",
       "      <td>3</td>\n",
       "      <td>Model trains are a rewarding hobby for enthusi...</td>\n",
       "    </tr>\n",
       "    <tr>\n",
       "      <th>5</th>\n",
       "      <td>Trucks and Buses</td>\n",
       "      <td>11</td>\n",
       "      <td>The Truck and Bus models are realistic replica...</td>\n",
       "    </tr>\n",
       "    <tr>\n",
       "      <th>6</th>\n",
       "      <td>Vintage Cars</td>\n",
       "      <td>24</td>\n",
       "      <td>Our Vintage Car models realistically portray a...</td>\n",
       "    </tr>\n",
       "  </tbody>\n",
       "</table>\n",
       "</div>"
      ],
      "text/plain": [
       "       Product Line  Qty Prods  \\\n",
       "0      Classic Cars         38   \n",
       "1       Motorcycles         13   \n",
       "2            Planes         12   \n",
       "3             Ships          9   \n",
       "4            Trains          3   \n",
       "5  Trucks and Buses         11   \n",
       "6      Vintage Cars         24   \n",
       "\n",
       "                                         Description  \n",
       "0  Attention car enthusiasts: Make your wildest c...  \n",
       "1  Our motorcycles are state of the art replicas ...  \n",
       "2  Unique, diecast airplane and helicopter replic...  \n",
       "3  The perfect holiday or anniversary gift for ex...  \n",
       "4  Model trains are a rewarding hobby for enthusi...  \n",
       "5  The Truck and Bus models are realistic replica...  \n",
       "6  Our Vintage Car models realistically portray a...  "
      ]
     },
     "execution_count": 12,
     "metadata": {},
     "output_type": "execute_result"
    }
   ],
   "source": [
    "result_tmp = productlines[['product_line', 'description']] \\\n",
    "    .merge(products[['code','product_line']], how='inner', on='product_line') \\\n",
    "    [['product_line', 'code']].groupby('product_line').count() \\\n",
    "    .merge(productlines[['product_line', 'description']], how='inner', on='product_line')\n",
    "\n",
    "# Melhora nos cabeçalhos\n",
    "result_tmp.columns = ['Product Line', 'Qty Prods', 'Description']\n",
    "result_tmp"
   ]
  },
  {
   "cell_type": "markdown",
   "id": "b3444cb0",
   "metadata": {},
   "source": [
    "### Alternativa"
   ]
  },
  {
   "cell_type": "code",
   "execution_count": 13,
   "id": "70125da9",
   "metadata": {},
   "outputs": [
    {
     "data": {
      "text/html": [
       "<div>\n",
       "<style scoped>\n",
       "    .dataframe tbody tr th:only-of-type {\n",
       "        vertical-align: middle;\n",
       "    }\n",
       "\n",
       "    .dataframe tbody tr th {\n",
       "        vertical-align: top;\n",
       "    }\n",
       "\n",
       "    .dataframe thead th {\n",
       "        text-align: right;\n",
       "    }\n",
       "</style>\n",
       "<table border=\"1\" class=\"dataframe\">\n",
       "  <thead>\n",
       "    <tr style=\"text-align: right;\">\n",
       "      <th></th>\n",
       "      <th>Description</th>\n",
       "      <th>Product Line</th>\n",
       "      <th>Qty Prods</th>\n",
       "    </tr>\n",
       "  </thead>\n",
       "  <tbody>\n",
       "    <tr>\n",
       "      <th>0</th>\n",
       "      <td>Classic Cars</td>\n",
       "      <td>Attention car enthusiasts: Make your wildest c...</td>\n",
       "      <td>38</td>\n",
       "    </tr>\n",
       "    <tr>\n",
       "      <th>1</th>\n",
       "      <td>Motorcycles</td>\n",
       "      <td>Our motorcycles are state of the art replicas ...</td>\n",
       "      <td>13</td>\n",
       "    </tr>\n",
       "    <tr>\n",
       "      <th>2</th>\n",
       "      <td>Planes</td>\n",
       "      <td>Unique, diecast airplane and helicopter replic...</td>\n",
       "      <td>12</td>\n",
       "    </tr>\n",
       "    <tr>\n",
       "      <th>3</th>\n",
       "      <td>Ships</td>\n",
       "      <td>The perfect holiday or anniversary gift for ex...</td>\n",
       "      <td>9</td>\n",
       "    </tr>\n",
       "    <tr>\n",
       "      <th>4</th>\n",
       "      <td>Trains</td>\n",
       "      <td>Model trains are a rewarding hobby for enthusi...</td>\n",
       "      <td>3</td>\n",
       "    </tr>\n",
       "    <tr>\n",
       "      <th>5</th>\n",
       "      <td>Trucks and Buses</td>\n",
       "      <td>The Truck and Bus models are realistic replica...</td>\n",
       "      <td>11</td>\n",
       "    </tr>\n",
       "    <tr>\n",
       "      <th>6</th>\n",
       "      <td>Vintage Cars</td>\n",
       "      <td>Our Vintage Car models realistically portray a...</td>\n",
       "      <td>24</td>\n",
       "    </tr>\n",
       "  </tbody>\n",
       "</table>\n",
       "</div>"
      ],
      "text/plain": [
       "        Description                                       Product Line  \\\n",
       "0      Classic Cars  Attention car enthusiasts: Make your wildest c...   \n",
       "1       Motorcycles  Our motorcycles are state of the art replicas ...   \n",
       "2            Planes  Unique, diecast airplane and helicopter replic...   \n",
       "3             Ships  The perfect holiday or anniversary gift for ex...   \n",
       "4            Trains  Model trains are a rewarding hobby for enthusi...   \n",
       "5  Trucks and Buses  The Truck and Bus models are realistic replica...   \n",
       "6      Vintage Cars  Our Vintage Car models realistically portray a...   \n",
       "\n",
       "   Qty Prods  \n",
       "0         38  \n",
       "1         13  \n",
       "2         12  \n",
       "3          9  \n",
       "4          3  \n",
       "5         11  \n",
       "6         24  "
      ]
     },
     "execution_count": 13,
     "metadata": {},
     "output_type": "execute_result"
    }
   ],
   "source": [
    "result_tmp = pd.DataFrame(productlines[['product_line', 'description']] \\\n",
    "    .merge(products[['code','product_line']], how='inner', on='product_line') \\\n",
    "    .groupby(['product_line', 'description'])['product_line'].count())\n",
    "\n",
    "# Melhora nos cabeçalhos e exclusão dos índices\n",
    "result_tmp.columns = ['Qty Prods']\n",
    "result_tmp.reset_index(inplace=True)\n",
    "result_tmp.columns = ['Description', 'Product Line', 'Qty Prods']\n",
    "\n",
    "result_tmp"
   ]
  },
  {
   "cell_type": "markdown",
   "id": "058684f9",
   "metadata": {},
   "source": [
    "### Seleção de pedidos por cliente (por valores) <a id='pedidos-por-cliente'></a>"
   ]
  },
  {
   "cell_type": "code",
   "execution_count": 14,
   "id": "42ed485f",
   "metadata": {},
   "outputs": [
    {
     "data": {
      "text/html": [
       "<div>\n",
       "<style scoped>\n",
       "    .dataframe tbody tr th:only-of-type {\n",
       "        vertical-align: middle;\n",
       "    }\n",
       "\n",
       "    .dataframe tbody tr th {\n",
       "        vertical-align: top;\n",
       "    }\n",
       "\n",
       "    .dataframe thead th {\n",
       "        text-align: right;\n",
       "    }\n",
       "</style>\n",
       "<table border=\"1\" class=\"dataframe\">\n",
       "  <thead>\n",
       "    <tr style=\"text-align: right;\">\n",
       "      <th></th>\n",
       "      <th>customer_name</th>\n",
       "      <th>order_number</th>\n",
       "      <th>total_order</th>\n",
       "    </tr>\n",
       "  </thead>\n",
       "  <tbody>\n",
       "    <tr>\n",
       "      <th>0</th>\n",
       "      <td>Atelier graphique</td>\n",
       "      <td>10123</td>\n",
       "      <td>14571.44</td>\n",
       "    </tr>\n",
       "    <tr>\n",
       "      <th>1</th>\n",
       "      <td>Atelier graphique</td>\n",
       "      <td>10298</td>\n",
       "      <td>6066.78</td>\n",
       "    </tr>\n",
       "    <tr>\n",
       "      <th>2</th>\n",
       "      <td>Atelier graphique</td>\n",
       "      <td>10345</td>\n",
       "      <td>1676.14</td>\n",
       "    </tr>\n",
       "    <tr>\n",
       "      <th>3</th>\n",
       "      <td>Signal Gift Stores</td>\n",
       "      <td>10124</td>\n",
       "      <td>32641.98</td>\n",
       "    </tr>\n",
       "    <tr>\n",
       "      <th>4</th>\n",
       "      <td>Signal Gift Stores</td>\n",
       "      <td>10278</td>\n",
       "      <td>33347.88</td>\n",
       "    </tr>\n",
       "  </tbody>\n",
       "</table>\n",
       "</div>"
      ],
      "text/plain": [
       "        customer_name  order_number  total_order\n",
       "0   Atelier graphique         10123     14571.44\n",
       "1   Atelier graphique         10298      6066.78\n",
       "2   Atelier graphique         10345      1676.14\n",
       "3  Signal Gift Stores         10124     32641.98\n",
       "4  Signal Gift Stores         10278     33347.88"
      ]
     },
     "execution_count": 14,
     "metadata": {},
     "output_type": "execute_result"
    }
   ],
   "source": [
    "q = text('''\n",
    "SELECT \n",
    "\tc.customerName as customer_name, \n",
    "\to.orderNumber as order_number,\n",
    "\tsum(o2.quantityOrdered * o2.priceEach) as total_order\n",
    "\tfrom orders o \n",
    "\tjoin orderdetails o2 on o2.orderNumber = o.orderNumber \n",
    "\tjoin customers c on c.customerNumber = o.customerNumber \n",
    "\twhere status='Shipped'\n",
    "\tGROUP by (o.orderNumber)\n",
    "\torder by c.customerNumber\n",
    "''')\n",
    "orders_by_customer = pd.read_sql_query(q, conn)\n",
    "orders_by_customer.head()"
   ]
  },
  {
   "cell_type": "markdown",
   "id": "ac32f9d4",
   "metadata": {},
   "source": [
    "### Dados agregados (média, total, min e max) ordenados maior volume de vendas"
   ]
  },
  {
   "cell_type": "code",
   "execution_count": 15,
   "id": "b9f18ba1",
   "metadata": {},
   "outputs": [
    {
     "data": {
      "text/html": [
       "<div>\n",
       "<style scoped>\n",
       "    .dataframe tbody tr th:only-of-type {\n",
       "        vertical-align: middle;\n",
       "    }\n",
       "\n",
       "    .dataframe tbody tr th {\n",
       "        vertical-align: top;\n",
       "    }\n",
       "\n",
       "    .dataframe thead th {\n",
       "        text-align: right;\n",
       "    }\n",
       "</style>\n",
       "<table border=\"1\" class=\"dataframe\">\n",
       "  <thead>\n",
       "    <tr style=\"text-align: right;\">\n",
       "      <th></th>\n",
       "      <th>sum</th>\n",
       "      <th>mean</th>\n",
       "      <th>min</th>\n",
       "      <th>max</th>\n",
       "    </tr>\n",
       "    <tr>\n",
       "      <th>customer_name</th>\n",
       "      <th></th>\n",
       "      <th></th>\n",
       "      <th></th>\n",
       "      <th></th>\n",
       "    </tr>\n",
       "  </thead>\n",
       "  <tbody>\n",
       "    <tr>\n",
       "      <th>Euro+ Shopping Channel</th>\n",
       "      <td>668770.46</td>\n",
       "      <td>30398.657273</td>\n",
       "      <td>4599.52</td>\n",
       "      <td>59830.55</td>\n",
       "    </tr>\n",
       "    <tr>\n",
       "      <th>Mini Gifts Distributors Ltd.</th>\n",
       "      <td>584188.24</td>\n",
       "      <td>36511.765000</td>\n",
       "      <td>4466.71</td>\n",
       "      <td>56052.56</td>\n",
       "    </tr>\n",
       "    <tr>\n",
       "      <th>Australian Collectors, Co.</th>\n",
       "      <td>180585.07</td>\n",
       "      <td>36117.014000</td>\n",
       "      <td>7565.08</td>\n",
       "      <td>45864.03</td>\n",
       "    </tr>\n",
       "    <tr>\n",
       "      <th>Muscle Machine Inc</th>\n",
       "      <td>177913.95</td>\n",
       "      <td>44478.487500</td>\n",
       "      <td>20314.44</td>\n",
       "      <td>58841.35</td>\n",
       "    </tr>\n",
       "    <tr>\n",
       "      <th>Dragon Souveniers, Ltd.</th>\n",
       "      <td>156251.03</td>\n",
       "      <td>31250.206000</td>\n",
       "      <td>2611.84</td>\n",
       "      <td>67392.85</td>\n",
       "    </tr>\n",
       "    <tr>\n",
       "      <th>Down Under Souveniers, Inc</th>\n",
       "      <td>154622.08</td>\n",
       "      <td>30924.416000</td>\n",
       "      <td>2880.00</td>\n",
       "      <td>41426.81</td>\n",
       "    </tr>\n",
       "    <tr>\n",
       "      <th>AV Stores, Co.</th>\n",
       "      <td>148410.09</td>\n",
       "      <td>49470.030000</td>\n",
       "      <td>47159.11</td>\n",
       "      <td>52825.29</td>\n",
       "    </tr>\n",
       "    <tr>\n",
       "      <th>Salzburg Collectables</th>\n",
       "      <td>137480.07</td>\n",
       "      <td>34370.017500</td>\n",
       "      <td>6419.84</td>\n",
       "      <td>52420.07</td>\n",
       "    </tr>\n",
       "    <tr>\n",
       "      <th>Anna's Decorations, Ltd</th>\n",
       "      <td>137034.22</td>\n",
       "      <td>34258.555000</td>\n",
       "      <td>27083.78</td>\n",
       "      <td>41554.73</td>\n",
       "    </tr>\n",
       "    <tr>\n",
       "      <th>Corporate Gift Ideas Co.</th>\n",
       "      <td>132340.78</td>\n",
       "      <td>33085.195000</td>\n",
       "      <td>14155.57</td>\n",
       "      <td>54682.68</td>\n",
       "    </tr>\n",
       "  </tbody>\n",
       "</table>\n",
       "</div>"
      ],
      "text/plain": [
       "                                    sum          mean       min       max\n",
       "customer_name                                                            \n",
       "Euro+ Shopping Channel        668770.46  30398.657273   4599.52  59830.55\n",
       "Mini Gifts Distributors Ltd.  584188.24  36511.765000   4466.71  56052.56\n",
       "Australian Collectors, Co.    180585.07  36117.014000   7565.08  45864.03\n",
       "Muscle Machine Inc            177913.95  44478.487500  20314.44  58841.35\n",
       "Dragon Souveniers, Ltd.       156251.03  31250.206000   2611.84  67392.85\n",
       "Down Under Souveniers, Inc    154622.08  30924.416000   2880.00  41426.81\n",
       "AV Stores, Co.                148410.09  49470.030000  47159.11  52825.29\n",
       "Salzburg Collectables         137480.07  34370.017500   6419.84  52420.07\n",
       "Anna's Decorations, Ltd       137034.22  34258.555000  27083.78  41554.73\n",
       "Corporate Gift Ideas Co.      132340.78  33085.195000  14155.57  54682.68"
      ]
     },
     "execution_count": 15,
     "metadata": {},
     "output_type": "execute_result"
    }
   ],
   "source": [
    "result_temp = orders_by_customer.groupby('customer_name')['total_order'] \\\n",
    "    .agg(['sum', 'mean', 'min', 'max']) \\\n",
    "    .sort_values(by='sum', ascending=False).head(10)\n",
    "\n",
    "result_temp"
   ]
  },
  {
   "cell_type": "code",
   "execution_count": 16,
   "id": "3d210d74",
   "metadata": {},
   "outputs": [],
   "source": [
    "# Necessário redefinir o índice\n",
    "result_temp.reset_index(inplace=True)"
   ]
  },
  {
   "cell_type": "code",
   "execution_count": 17,
   "id": "6378f271",
   "metadata": {},
   "outputs": [
    {
     "data": {
      "image/png": "[encoded data removed]",
      "text/plain": [
       "<Figure size 1000x500 with 1 Axes>"
      ]
     },
     "metadata": {},
     "output_type": "display_data"
    }
   ],
   "source": [
    "\n",
    "# Initialize the matplotlib figure\n",
    "f, ax = plt.subplots(figsize=(10, 5))\n",
    "ax.set_title('TOP 10 - Sales by customers')\n",
    "\n",
    "# Plot the total sales\n",
    "sns.set_color_codes(\"pastel\")\n",
    "sns.barplot(x=\"sum\", y=\"customer_name\", data=result_temp,\n",
    "            label=\"Total\", color=\"b\")\n",
    "\n",
    "# Plot the mean sales\n",
    "sns.set_color_codes(\"muted\")\n",
    "sns.barplot(x=\"mean\", y=\"customer_name\", data=result_temp,\n",
    "            label=\"Mean\", color=\"b\")\n",
    "\n",
    "# Add a legend and informative axis label\n",
    "ax.legend(ncol=1, loc=\"lower right\", frameon=True)\n",
    "ax.set(xlim=(0, int(result_temp['sum'].max()*1.1)), ylabel=\"Customers\",\n",
    "       xlabel=\"USD\")\n",
    "\n",
    "sns.despine(left=True, bottom=False)\n",
    "plt.show()"
   ]
  },
  {
   "cell_type": "code",
   "execution_count": 18,
   "id": "64853b13",
   "metadata": {},
   "outputs": [],
   "source": [
    "# normalizar valores\n",
    "\n",
    "totals = result_temp['sum'].values/np.sum(result_temp['sum'].values)\n",
    "means = result_temp['mean'].values/np.sum(result_temp['mean'].values)\n"
   ]
  },
  {
   "cell_type": "code",
   "execution_count": 19,
   "id": "b5aff8d2",
   "metadata": {},
   "outputs": [
    {
     "data": {
      "application/vnd.plotly.v1+json": {
       "config": {
        "plotlyServerURL": "https://plot.ly"
       },
       "data": [
        {
         "alignmentgroup": "True",
         "hovertemplate": "index=%{x}<br>Total Sales (USD)=%{y}<extra></extra>",
         "legendgroup": "",
         "marker": {
          "color": "#636efa",
          "pattern": {
           "shape": ""
          }
         },
         "name": "",
         "offsetgroup": "",
         "orientation": "v",
         "showlegend": false,
         "textposition": "auto",
         "type": "bar",
         "x": [
          0,
          1,
          2,
          3,
          4,
          5,
          6,
          7,
          8,
          9
         ],
         "xaxis": "x",
         "y": [
          668770.46,
          584188.24,
          180585.07,
          177913.95,
          156251.03,
          154622.08,
          148410.09,
          137480.07,
          137034.22,
          132340.78
         ],
         "yaxis": "y"
        }
       ],
       "layout": {
        "barmode": "relative",
        "legend": {
         "tracegroupgap": 0
        },
        "template": {
         "data": {
          "bar": [
           {
            "error_x": {
             "color": "#2a3f5f"
            },
            "error_y": {
             "color": "#2a3f5f"
            },
            "marker": {
             "line": {
              "color": "#E5ECF6",
              "width": 0.5
             },
             "pattern": {
              "fillmode": "overlay",
              "size": 10,
              "solidity": 0.2
             }
            },
            "type": "bar"
           }
          ],
          "barpolar": [
           {
            "marker": {
             "line": {
              "color": "#E5ECF6",
              "width": 0.5
             },
             "pattern": {
              "fillmode": "overlay",
              "size": 10,
              "solidity": 0.2
             }
            },
            "type": "barpolar"
           }
          ],
          "carpet": [
           {
            "aaxis": {
             "endlinecolor": "#2a3f5f",
             "gridcolor": "white",
             "linecolor": "white",
             "minorgridcolor": "white",
             "startlinecolor": "#2a3f5f"
            },
            "baxis": {
             "endlinecolor": "#2a3f5f",
             "gridcolor": "white",
             "linecolor": "white",
             "minorgridcolor": "white",
             "startlinecolor": "#2a3f5f"
            },
            "type": "carpet"
           }
          ],
          "choropleth": [
           {
            "colorbar": {
             "outlinewidth": 0,
             "ticks": ""
            },
            "type": "choropleth"
           }
          ],
          "contour": [
           {
            "colorbar": {
             "outlinewidth": 0,
             "ticks": ""
            },
            "colorscale": [
             [
              0,
              "#0d0887"
             ],
             [
              0.1111111111111111,
              "#46039f"
             ],
             [
              0.2222222222222222,
              "#7201a8"
             ],
             [
              0.3333333333333333,
              "#9c179e"
             ],
             [
              0.4444444444444444,
              "#bd3786"
             ],
             [
              0.5555555555555556,
              "#d8576b"
             ],
             [
              0.6666666666666666,
              "#ed7953"
             ],
             [
              0.7777777777777778,
              "#fb9f3a"
             ],
             [
              0.8888888888888888,
              "#fdca26"
             ],
             [
              1,
              "#f0f921"
             ]
            ],
            "type": "contour"
           }
          ],
          "contourcarpet": [
           {
            "colorbar": {
             "outlinewidth": 0,
             "ticks": ""
            },
            "type": "contourcarpet"
           }
          ],
          "heatmap": [
           {
            "colorbar": {
             "outlinewidth": 0,
             "ticks": ""
            },
            "colorscale": [
             [
              0,
              "#0d0887"
             ],
             [
              0.1111111111111111,
              "#46039f"
             ],
             [
              0.2222222222222222,
              "#7201a8"
             ],
             [
              0.3333333333333333,
              "#9c179e"
             ],
             [
              0.4444444444444444,
              "#bd3786"
             ],
             [
              0.5555555555555556,
              "#d8576b"
             ],
             [
              0.6666666666666666,
              "#ed7953"
             ],
             [
              0.7777777777777778,
              "#fb9f3a"
             ],
             [
              0.8888888888888888,
              "#fdca26"
             ],
             [
              1,
              "#f0f921"
             ]
            ],
            "type": "heatmap"
           }
          ],
          "heatmapgl": [
           {
            "colorbar": {
             "outlinewidth": 0,
             "ticks": ""
            },
            "colorscale": [
             [
              0,
              "#0d0887"
             ],
             [
              0.1111111111111111,
              "#46039f"
             ],
             [
              0.2222222222222222,
              "#7201a8"
             ],
             [
              0.3333333333333333,
              "#9c179e"
             ],
             [
              0.4444444444444444,
              "#bd3786"
             ],
             [
              0.5555555555555556,
              "#d8576b"
             ],
             [
              0.6666666666666666,
              "#ed7953"
             ],
             [
              0.7777777777777778,
              "#fb9f3a"
             ],
             [
              0.8888888888888888,
              "#fdca26"
             ],
             [
              1,
              "#f0f921"
             ]
            ],
            "type": "heatmapgl"
           }
          ],
          "histogram": [
           {
            "marker": {
             "pattern": {
              "fillmode": "overlay",
              "size": 10,
              "solidity": 0.2
             }
            },
            "type": "histogram"
           }
          ],
          "histogram2d": [
           {
            "colorbar": {
             "outlinewidth": 0,
             "ticks": ""
            },
            "colorscale": [
             [
              0,
              "#0d0887"
             ],
             [
              0.1111111111111111,
              "#46039f"
             ],
             [
              0.2222222222222222,
              "#7201a8"
             ],
             [
              0.3333333333333333,
              "#9c179e"
             ],
             [
              0.4444444444444444,
              "#bd3786"
             ],
             [
              0.5555555555555556,
              "#d8576b"
             ],
             [
              0.6666666666666666,
              "#ed7953"
             ],
             [
              0.7777777777777778,
              "#fb9f3a"
             ],
             [
              0.8888888888888888,
              "#fdca26"
             ],
             [
              1,
              "#f0f921"
             ]
            ],
            "type": "histogram2d"
           }
          ],
          "histogram2dcontour": [
           {
            "colorbar": {
             "outlinewidth": 0,
             "ticks": ""
            },
            "colorscale": [
             [
              0,
              "#0d0887"
             ],
             [
              0.1111111111111111,
              "#46039f"
             ],
             [
              0.2222222222222222,
              "#7201a8"
             ],
             [
              0.3333333333333333,
              "#9c179e"
             ],
             [
              0.4444444444444444,
              "#bd3786"
             ],
             [
              0.5555555555555556,
              "#d8576b"
             ],
             [
              0.6666666666666666,
              "#ed7953"
             ],
             [
              0.7777777777777778,
              "#fb9f3a"
             ],
             [
              0.8888888888888888,
              "#fdca26"
             ],
             [
              1,
              "#f0f921"
             ]
            ],
            "type": "histogram2dcontour"
           }
          ],
          "mesh3d": [
           {
            "colorbar": {
             "outlinewidth": 0,
             "ticks": ""
            },
            "type": "mesh3d"
           }
          ],
          "parcoords": [
           {
            "line": {
             "colorbar": {
              "outlinewidth": 0,
              "ticks": ""
             }
            },
            "type": "parcoords"
           }
          ],
          "pie": [
           {
            "automargin": true,
            "type": "pie"
           }
          ],
          "scatter": [
           {
            "fillpattern": {
             "fillmode": "overlay",
             "size": 10,
             "solidity": 0.2
            },
            "type": "scatter"
           }
          ],
          "scatter3d": [
           {
            "line": {
             "colorbar": {
              "outlinewidth": 0,
              "ticks": ""
             }
            },
            "marker": {
             "colorbar": {
              "outlinewidth": 0,
              "ticks": ""
             }
            },
            "type": "scatter3d"
           }
          ],
          "scattercarpet": [
           {
            "marker": {
             "colorbar": {
              "outlinewidth": 0,
              "ticks": ""
             }
            },
            "type": "scattercarpet"
           }
          ],
          "scattergeo": [
           {
            "marker": {
             "colorbar": {
              "outlinewidth": 0,
              "ticks": ""
             }
            },
            "type": "scattergeo"
           }
          ],
          "scattergl": [
           {
            "marker": {
             "colorbar": {
              "outlinewidth": 0,
              "ticks": ""
             }
            },
            "type": "scattergl"
           }
          ],
          "scattermapbox": [
           {
            "marker": {
             "colorbar": {
              "outlinewidth": 0,
              "ticks": ""
             }
            },
            "type": "scattermapbox"
           }
          ],
          "scatterpolar": [
           {
            "marker": {
             "colorbar": {
              "outlinewidth": 0,
              "ticks": ""
             }
            },
            "type": "scatterpolar"
           }
          ],
          "scatterpolargl": [
           {
            "marker": {
             "colorbar": {
              "outlinewidth": 0,
              "ticks": ""
             }
            },
            "type": "scatterpolargl"
           }
          ],
          "scatterternary": [
           {
            "marker": {
             "colorbar": {
              "outlinewidth": 0,
              "ticks": ""
             }
            },
            "type": "scatterternary"
           }
          ],
          "surface": [
           {
            "colorbar": {
             "outlinewidth": 0,
             "ticks": ""
            },
            "colorscale": [
             [
              0,
              "#0d0887"
             ],
             [
              0.1111111111111111,
              "#46039f"
             ],
             [
              0.2222222222222222,
              "#7201a8"
             ],
             [
              0.3333333333333333,
              "#9c179e"
             ],
             [
              0.4444444444444444,
              "#bd3786"
             ],
             [
              0.5555555555555556,
              "#d8576b"
             ],
             [
              0.6666666666666666,
              "#ed7953"
             ],
             [
              0.7777777777777778,
              "#fb9f3a"
             ],
             [
              0.8888888888888888,
              "#fdca26"
             ],
             [
              1,
              "#f0f921"
             ]
            ],
            "type": "surface"
           }
          ],
          "table": [
           {
            "cells": {
             "fill": {
              "color": "#EBF0F8"
             },
             "line": {
              "color": "white"
             }
            },
            "header": {
             "fill": {
              "color": "#C8D4E3"
             },
             "line": {
              "color": "white"
             }
            },
            "type": "table"
           }
          ]
         },
         "layout": {
          "annotationdefaults": {
           "arrowcolor": "#2a3f5f",
           "arrowhead": 0,
           "arrowwidth": 1
          },
          "autotypenumbers": "strict",
          "coloraxis": {
           "colorbar": {
            "outlinewidth": 0,
            "ticks": ""
           }
          },
          "colorscale": {
           "diverging": [
            [
             0,
             "#8e0152"
            ],
            [
             0.1,
             "#c51b7d"
            ],
            [
             0.2,
             "#de77ae"
            ],
            [
             0.3,
             "#f1b6da"
            ],
            [
             0.4,
             "#fde0ef"
            ],
            [
             0.5,
             "#f7f7f7"
            ],
            [
             0.6,
             "#e6f5d0"
            ],
            [
             0.7,
             "#b8e186"
            ],
            [
             0.8,
             "#7fbc41"
            ],
            [
             0.9,
             "#4d9221"
            ],
            [
             1,
             "#276419"
            ]
           ],
           "sequential": [
            [
             0,
             "#0d0887"
            ],
            [
             0.1111111111111111,
             "#46039f"
            ],
            [
             0.2222222222222222,
             "#7201a8"
            ],
            [
             0.3333333333333333,
             "#9c179e"
            ],
            [
             0.4444444444444444,
             "#bd3786"
            ],
            [
             0.5555555555555556,
             "#d8576b"
            ],
            [
             0.6666666666666666,
             "#ed7953"
            ],
            [
             0.7777777777777778,
             "#fb9f3a"
            ],
            [
             0.8888888888888888,
             "#fdca26"
            ],
            [
             1,
             "#f0f921"
            ]
           ],
           "sequentialminus": [
            [
             0,
             "#0d0887"
            ],
            [
             0.1111111111111111,
             "#46039f"
            ],
            [
             0.2222222222222222,
             "#7201a8"
            ],
            [
             0.3333333333333333,
             "#9c179e"
            ],
            [
             0.4444444444444444,
             "#bd3786"
            ],
            [
             0.5555555555555556,
             "#d8576b"
            ],
            [
             0.6666666666666666,
             "#ed7953"
            ],
            [
             0.7777777777777778,
             "#fb9f3a"
            ],
            [
             0.8888888888888888,
             "#fdca26"
            ],
            [
             1,
             "#f0f921"
            ]
           ]
          },
          "colorway": [
           "#636efa",
           "#EF553B",
           "#00cc96",
           "#ab63fa",
           "#FFA15A",
           "#19d3f3",
           "#FF6692",
           "#B6E880",
           "#FF97FF",
           "#FECB52"
          ],
          "font": {
           "color": "#2a3f5f"
          },
          "geo": {
           "bgcolor": "white",
           "lakecolor": "white",
           "landcolor": "#E5ECF6",
           "showlakes": true,
           "showland": true,
           "subunitcolor": "white"
          },
          "hoverlabel": {
           "align": "left"
          },
          "hovermode": "closest",
          "mapbox": {
           "style": "light"
          },
          "paper_bgcolor": "white",
          "plot_bgcolor": "#E5ECF6",
          "polar": {
           "angularaxis": {
            "gridcolor": "white",
            "linecolor": "white",
            "ticks": ""
           },
           "bgcolor": "#E5ECF6",
           "radialaxis": {
            "gridcolor": "white",
            "linecolor": "white",
            "ticks": ""
           }
          },
          "scene": {
           "xaxis": {
            "backgroundcolor": "#E5ECF6",
            "gridcolor": "white",
            "gridwidth": 2,
            "linecolor": "white",
            "showbackground": true,
            "ticks": "",
            "zerolinecolor": "white"
           },
           "yaxis": {
            "backgroundcolor": "#E5ECF6",
            "gridcolor": "white",
            "gridwidth": 2,
            "linecolor": "white",
            "showbackground": true,
            "ticks": "",
            "zerolinecolor": "white"
           },
           "zaxis": {
            "backgroundcolor": "#E5ECF6",
            "gridcolor": "white",
            "gridwidth": 2,
            "linecolor": "white",
            "showbackground": true,
            "ticks": "",
            "zerolinecolor": "white"
           }
          },
          "shapedefaults": {
           "line": {
            "color": "#2a3f5f"
           }
          },
          "ternary": {
           "aaxis": {
            "gridcolor": "white",
            "linecolor": "white",
            "ticks": ""
           },
           "baxis": {
            "gridcolor": "white",
            "linecolor": "white",
            "ticks": ""
           },
           "bgcolor": "#E5ECF6",
           "caxis": {
            "gridcolor": "white",
            "linecolor": "white",
            "ticks": ""
           }
          },
          "title": {
           "x": 0.05
          },
          "xaxis": {
           "automargin": true,
           "gridcolor": "white",
           "linecolor": "white",
           "ticks": "",
           "title": {
            "standoff": 15
           },
           "zerolinecolor": "white",
           "zerolinewidth": 2
          },
          "yaxis": {
           "automargin": true,
           "gridcolor": "white",
           "linecolor": "white",
           "ticks": "",
           "title": {
            "standoff": 15
           },
           "zerolinecolor": "white",
           "zerolinewidth": 2
          }
         }
        },
        "title": {
         "text": "TOP 10 - Best customers"
        },
        "xaxis": {
         "anchor": "y",
         "domain": [
          0,
          1
         ],
         "title": {
          "text": "index"
         }
        },
        "yaxis": {
         "anchor": "x",
         "domain": [
          0,
          1
         ],
         "title": {
          "text": "Total Sales (USD)"
         }
        }
       }
      }
     },
     "metadata": {},
     "output_type": "display_data"
    }
   ],
   "source": [
    "# Plotly \n",
    "px.bar(result_temp, x=result_temp.index, y='sum', \\\n",
    "    title='TOP 10 - Best customers', \\\n",
    "    labels={'sum': 'Total Sales (USD)', 'customer_name': 'Customers'})"
   ]
  },
  {
   "cell_type": "markdown",
   "id": "3fa92892",
   "metadata": {},
   "source": [
    "### Carga de pedidos contendo, para cada dia, a quantidade de pedidos e o volume de vendas (USD) <a id='pedidos-por-dia'></a>\n",
    "[Início](#home)"
   ]
  },
  {
   "cell_type": "code",
   "execution_count": 20,
   "id": "6453fa3d",
   "metadata": {},
   "outputs": [
    {
     "data": {
      "text/plain": [
       "(265, 3)"
      ]
     },
     "metadata": {},
     "output_type": "display_data"
    },
    {
     "data": {
      "text/html": [
       "<div>\n",
       "<style scoped>\n",
       "    .dataframe tbody tr th:only-of-type {\n",
       "        vertical-align: middle;\n",
       "    }\n",
       "\n",
       "    .dataframe tbody tr th {\n",
       "        vertical-align: top;\n",
       "    }\n",
       "\n",
       "    .dataframe thead th {\n",
       "        text-align: right;\n",
       "    }\n",
       "</style>\n",
       "<table border=\"1\" class=\"dataframe\">\n",
       "  <thead>\n",
       "    <tr style=\"text-align: right;\">\n",
       "      <th></th>\n",
       "      <th>orderDate</th>\n",
       "      <th>qtyOrders</th>\n",
       "      <th>totalOrder</th>\n",
       "    </tr>\n",
       "  </thead>\n",
       "  <tbody>\n",
       "    <tr>\n",
       "      <th>0</th>\n",
       "      <td>2003-01-06</td>\n",
       "      <td>4</td>\n",
       "      <td>10223.83</td>\n",
       "    </tr>\n",
       "    <tr>\n",
       "      <th>1</th>\n",
       "      <td>2003-01-09</td>\n",
       "      <td>4</td>\n",
       "      <td>10549.01</td>\n",
       "    </tr>\n",
       "    <tr>\n",
       "      <th>2</th>\n",
       "      <td>2003-01-10</td>\n",
       "      <td>2</td>\n",
       "      <td>5494.78</td>\n",
       "    </tr>\n",
       "    <tr>\n",
       "      <th>3</th>\n",
       "      <td>2003-01-29</td>\n",
       "      <td>16</td>\n",
       "      <td>50218.95</td>\n",
       "    </tr>\n",
       "    <tr>\n",
       "      <th>4</th>\n",
       "      <td>2003-01-31</td>\n",
       "      <td>13</td>\n",
       "      <td>40206.20</td>\n",
       "    </tr>\n",
       "  </tbody>\n",
       "</table>\n",
       "</div>"
      ],
      "text/plain": [
       "    orderDate  qtyOrders  totalOrder\n",
       "0  2003-01-06          4    10223.83\n",
       "1  2003-01-09          4    10549.01\n",
       "2  2003-01-10          2     5494.78\n",
       "3  2003-01-29         16    50218.95\n",
       "4  2003-01-31         13    40206.20"
      ]
     },
     "metadata": {},
     "output_type": "display_data"
    }
   ],
   "source": [
    "q = text('''\n",
    "-- orders by date, with orders quantity and total ammount \n",
    "select o.orderDate, count(o.orderNumber) as qtyOrders, \n",
    "\tsum(o2.priceEach * o2.quantityOrdered) as totalOrder\n",
    "\tfrom orders o \n",
    "\tjoin orderdetails o2 on o2.orderNumber = o.orderNumber \n",
    "\tGROUP by o.orderDate\n",
    "''')\n",
    "\n",
    "evolution = pd.read_sql(q, conn)\n",
    "display(evolution.shape, evolution.head())"
   ]
  },
  {
   "cell_type": "markdown",
   "id": "0bb4e03b",
   "metadata": {},
   "source": [
    "### Pedidos por periodo. <a id='plotline-por-periodo'></a>"
   ]
  },
  {
   "cell_type": "code",
   "execution_count": 21,
   "id": "ea573f20",
   "metadata": {},
   "outputs": [],
   "source": [
    "# Load data\n",
    "q = text('''\n",
    "-- by order date\n",
    "select o.orderDate, sum(o2.priceEach * o2.quantityOrdered) as totalOrder\n",
    "\tfrom orders o \n",
    "\tjoin orderdetails o2 on o2.orderNumber = o.orderNumber \n",
    "\tGROUP by o.orderDate \n",
    "''')\n",
    "\n",
    "evolution = pd.read_sql(q, conn)"
   ]
  },
  {
   "cell_type": "code",
   "execution_count": 22,
   "id": "0e3296d5",
   "metadata": {},
   "outputs": [
    {
     "data": {
      "text/plain": [
       "(265, 3)"
      ]
     },
     "metadata": {},
     "output_type": "display_data"
    },
    {
     "data": {
      "text/html": [
       "<div>\n",
       "<style scoped>\n",
       "    .dataframe tbody tr th:only-of-type {\n",
       "        vertical-align: middle;\n",
       "    }\n",
       "\n",
       "    .dataframe tbody tr th {\n",
       "        vertical-align: top;\n",
       "    }\n",
       "\n",
       "    .dataframe thead th {\n",
       "        text-align: right;\n",
       "    }\n",
       "</style>\n",
       "<table border=\"1\" class=\"dataframe\">\n",
       "  <thead>\n",
       "    <tr style=\"text-align: right;\">\n",
       "      <th></th>\n",
       "      <th>orderDate</th>\n",
       "      <th>totalOrder</th>\n",
       "      <th>period</th>\n",
       "    </tr>\n",
       "  </thead>\n",
       "  <tbody>\n",
       "    <tr>\n",
       "      <th>0</th>\n",
       "      <td>2003-01-06</td>\n",
       "      <td>10223.83</td>\n",
       "      <td>2003-01</td>\n",
       "    </tr>\n",
       "    <tr>\n",
       "      <th>1</th>\n",
       "      <td>2003-01-09</td>\n",
       "      <td>10549.01</td>\n",
       "      <td>2003-01</td>\n",
       "    </tr>\n",
       "    <tr>\n",
       "      <th>2</th>\n",
       "      <td>2003-01-10</td>\n",
       "      <td>5494.78</td>\n",
       "      <td>2003-01</td>\n",
       "    </tr>\n",
       "    <tr>\n",
       "      <th>3</th>\n",
       "      <td>2003-01-29</td>\n",
       "      <td>50218.95</td>\n",
       "      <td>2003-01</td>\n",
       "    </tr>\n",
       "    <tr>\n",
       "      <th>4</th>\n",
       "      <td>2003-01-31</td>\n",
       "      <td>40206.20</td>\n",
       "      <td>2003-01</td>\n",
       "    </tr>\n",
       "  </tbody>\n",
       "</table>\n",
       "</div>"
      ],
      "text/plain": [
       "   orderDate  totalOrder   period\n",
       "0 2003-01-06    10223.83  2003-01\n",
       "1 2003-01-09    10549.01  2003-01\n",
       "2 2003-01-10     5494.78  2003-01\n",
       "3 2003-01-29    50218.95  2003-01\n",
       "4 2003-01-31    40206.20  2003-01"
      ]
     },
     "metadata": {},
     "output_type": "display_data"
    }
   ],
   "source": [
    "# Cast dates and aggregate in periods (year/month)\n",
    "evolution['orderDate'] = pd.to_datetime(evolution.orderDate)\n",
    "evolution['period']= evolution['orderDate'].dt.to_period(\"M\").astype('str')\n",
    "display(evolution.shape, evolution.head())"
   ]
  },
  {
   "cell_type": "code",
   "execution_count": 23,
   "id": "2f653455",
   "metadata": {},
   "outputs": [
    {
     "data": {
      "image/png": "[encoded data removed]",
      "text/plain": [
       "<Figure size 1200x600 with 1 Axes>"
      ]
     },
     "metadata": {},
     "output_type": "display_data"
    }
   ],
   "source": [
    "# Aggregate by period\n",
    "evolution_by_period = evolution.groupby('period')['totalOrder'].agg(['sum', 'mean', 'median']).reset_index()\n",
    "\n",
    "# Build chart by period\n",
    "plt.figure(figsize=(12,6))\n",
    "sns.lineplot(data=evolution_by_period, x='period', y='sum')\n",
    "plt.title('Total das vendas por períodos 2003 - 2005')\n",
    "plt.xlabel('Periods')\n",
    "plt.ylabel(\"Total Vendas em USD [1.0 = 1M]\")\n",
    "plt.axes\n",
    "plt.xticks(rotation=90)\n",
    "plt.show()"
   ]
  },
  {
   "cell_type": "markdown",
   "id": "ee0312e3",
   "metadata": {},
   "source": [
    "> É possível observer que existem picos nos meses de novembro, dos anos contidos na amostra. Imaginamos, sem ter mais informações, que as promoções de _black friday_ impactam positivamente nas vendas"
   ]
  }
 ],
 "metadata": {
  "kernelspec": {
   "display_name": "Python 3 (ipykernel)",
   "language": "python",
   "name": "python3"
  },
  "language_info": {
   "codemirror_mode": {
    "name": "ipython",
    "version": 3
   },
   "file_extension": ".py",
   "mimetype": "text/x-python",
   "name": "python",
   "nbconvert_exporter": "python",
   "pygments_lexer": "ipython3",
   "version": "3.10.12"
  }
 },
 "nbformat": 4,
 "nbformat_minor": 5
}
