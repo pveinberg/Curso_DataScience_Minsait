{
 "cells": [
  {
   "cell_type": "markdown",
   "id": "ffcb22fd",
   "metadata": {},
   "source": [
    "# Exercício"
   ]
  },
  {
   "cell_type": "code",
   "execution_count": 25,
   "id": "2040a736",
   "metadata": {},
   "outputs": [],
   "source": [
    "import pandas as pd"
   ]
  },
  {
   "cell_type": "markdown",
   "id": "6d0f5db4",
   "metadata": {},
   "source": [
    "**Arquivo Exercicio_Pandas_1.csv**\n",
    "1. Carregue um arquivo CSV contendo dados de uma planilha e crie um DataFrame com o Pandas.\n"
   ]
  },
  {
   "cell_type": "code",
   "execution_count": 26,
   "id": "1b32d9f6",
   "metadata": {},
   "outputs": [
    {
     "data": {
      "text/plain": [
       "(5, 3)"
      ]
     },
     "metadata": {},
     "output_type": "display_data"
    },
    {
     "data": {
      "text/html": [
       "<div>\n",
       "<style scoped>\n",
       "    .dataframe tbody tr th:only-of-type {\n",
       "        vertical-align: middle;\n",
       "    }\n",
       "\n",
       "    .dataframe tbody tr th {\n",
       "        vertical-align: top;\n",
       "    }\n",
       "\n",
       "    .dataframe thead th {\n",
       "        text-align: right;\n",
       "    }\n",
       "</style>\n",
       "<table border=\"1\" class=\"dataframe\">\n",
       "  <thead>\n",
       "    <tr style=\"text-align: right;\">\n",
       "      <th></th>\n",
       "      <th>Nome</th>\n",
       "      <th>Idade</th>\n",
       "      <th>Cidade</th>\n",
       "    </tr>\n",
       "  </thead>\n",
       "  <tbody>\n",
       "    <tr>\n",
       "      <th>0</th>\n",
       "      <td>Alice</td>\n",
       "      <td>25</td>\n",
       "      <td>São Paulo</td>\n",
       "    </tr>\n",
       "    <tr>\n",
       "      <th>1</th>\n",
       "      <td>Bob</td>\n",
       "      <td>30</td>\n",
       "      <td>Rio de Janeiro</td>\n",
       "    </tr>\n",
       "    <tr>\n",
       "      <th>2</th>\n",
       "      <td>Carol</td>\n",
       "      <td>22</td>\n",
       "      <td>Belo Horizonte</td>\n",
       "    </tr>\n",
       "    <tr>\n",
       "      <th>3</th>\n",
       "      <td>David</td>\n",
       "      <td>27</td>\n",
       "      <td>Salvador</td>\n",
       "    </tr>\n",
       "    <tr>\n",
       "      <th>4</th>\n",
       "      <td>Eva</td>\n",
       "      <td>68</td>\n",
       "      <td>Porto Alegre</td>\n",
       "    </tr>\n",
       "  </tbody>\n",
       "</table>\n",
       "</div>"
      ],
      "text/plain": [
       "    Nome  Idade          Cidade\n",
       "0  Alice     25       São Paulo\n",
       "1    Bob     30  Rio de Janeiro\n",
       "2  Carol     22  Belo Horizonte\n",
       "3  David     27        Salvador\n",
       "4    Eva     68    Porto Alegre"
      ]
     },
     "metadata": {},
     "output_type": "display_data"
    }
   ],
   "source": [
    "data = pd.read_csv('./../../Datasets/Exercicio_Pandas_1.csv', sep='\\t')\n",
    "display(data.shape, data.head())"
   ]
  },
  {
   "cell_type": "markdown",
   "id": "c385e9ab",
   "metadata": {},
   "source": [
    "2. Exiba as primeiras linhas do DataFrame para verificar os dados que foram carregados.\n"
   ]
  },
  {
   "cell_type": "code",
   "execution_count": 27,
   "id": "3264c400",
   "metadata": {},
   "outputs": [
    {
     "data": {
      "text/html": [
       "<div>\n",
       "<style scoped>\n",
       "    .dataframe tbody tr th:only-of-type {\n",
       "        vertical-align: middle;\n",
       "    }\n",
       "\n",
       "    .dataframe tbody tr th {\n",
       "        vertical-align: top;\n",
       "    }\n",
       "\n",
       "    .dataframe thead th {\n",
       "        text-align: right;\n",
       "    }\n",
       "</style>\n",
       "<table border=\"1\" class=\"dataframe\">\n",
       "  <thead>\n",
       "    <tr style=\"text-align: right;\">\n",
       "      <th></th>\n",
       "      <th>Nome</th>\n",
       "      <th>Idade</th>\n",
       "      <th>Cidade</th>\n",
       "    </tr>\n",
       "  </thead>\n",
       "  <tbody>\n",
       "    <tr>\n",
       "      <th>0</th>\n",
       "      <td>Alice</td>\n",
       "      <td>25</td>\n",
       "      <td>São Paulo</td>\n",
       "    </tr>\n",
       "    <tr>\n",
       "      <th>1</th>\n",
       "      <td>Bob</td>\n",
       "      <td>30</td>\n",
       "      <td>Rio de Janeiro</td>\n",
       "    </tr>\n",
       "    <tr>\n",
       "      <th>2</th>\n",
       "      <td>Carol</td>\n",
       "      <td>22</td>\n",
       "      <td>Belo Horizonte</td>\n",
       "    </tr>\n",
       "    <tr>\n",
       "      <th>3</th>\n",
       "      <td>David</td>\n",
       "      <td>27</td>\n",
       "      <td>Salvador</td>\n",
       "    </tr>\n",
       "    <tr>\n",
       "      <th>4</th>\n",
       "      <td>Eva</td>\n",
       "      <td>68</td>\n",
       "      <td>Porto Alegre</td>\n",
       "    </tr>\n",
       "  </tbody>\n",
       "</table>\n",
       "</div>"
      ],
      "text/plain": [
       "    Nome  Idade          Cidade\n",
       "0  Alice     25       São Paulo\n",
       "1    Bob     30  Rio de Janeiro\n",
       "2  Carol     22  Belo Horizonte\n",
       "3  David     27        Salvador\n",
       "4    Eva     68    Porto Alegre"
      ]
     },
     "execution_count": 27,
     "metadata": {},
     "output_type": "execute_result"
    }
   ],
   "source": [
    "data.head()"
   ]
  },
  {
   "cell_type": "markdown",
   "id": "b1e3af38",
   "metadata": {},
   "source": [
    "3. Verifique o número de linhas e colunas presentes no DataFrame.\n"
   ]
  },
  {
   "cell_type": "code",
   "execution_count": 28,
   "id": "cdad2a03",
   "metadata": {},
   "outputs": [
    {
     "data": {
      "text/plain": [
       "(5, 3)"
      ]
     },
     "execution_count": 28,
     "metadata": {},
     "output_type": "execute_result"
    }
   ],
   "source": [
    "data.shape"
   ]
  },
  {
   "cell_type": "markdown",
   "id": "c18c48f6",
   "metadata": {},
   "source": [
    "4. Utilize o método `info()` para obter informações sobre os tipos de dados e a contagem de valores não nulos em cada coluna."
   ]
  },
  {
   "cell_type": "code",
   "execution_count": 29,
   "id": "1167d917",
   "metadata": {},
   "outputs": [
    {
     "name": "stdout",
     "output_type": "stream",
     "text": [
      "<class 'pandas.core.frame.DataFrame'>\n",
      "RangeIndex: 5 entries, 0 to 4\n",
      "Data columns (total 3 columns):\n",
      " #   Column  Non-Null Count  Dtype \n",
      "---  ------  --------------  ----- \n",
      " 0   Nome    5 non-null      object\n",
      " 1   Idade   5 non-null      int64 \n",
      " 2   Cidade  5 non-null      object\n",
      "dtypes: int64(1), object(2)\n",
      "memory usage: 248.0+ bytes\n"
     ]
    }
   ],
   "source": [
    "data.info()"
   ]
  },
  {
   "cell_type": "markdown",
   "id": "54063436",
   "metadata": {},
   "source": [
    "5. Selecione uma coluna específica do DataFrame e exiba suas estatísticas básicas usando o método `describe()`.\n"
   ]
  },
  {
   "cell_type": "code",
   "execution_count": 30,
   "id": "1374c196",
   "metadata": {},
   "outputs": [
    {
     "data": {
      "text/plain": [
       "count     5.000000\n",
       "mean     34.400000\n",
       "std      19.007893\n",
       "min      22.000000\n",
       "25%      25.000000\n",
       "50%      27.000000\n",
       "75%      30.000000\n",
       "max      68.000000\n",
       "Name: Idade, dtype: float64"
      ]
     },
     "execution_count": 30,
     "metadata": {},
     "output_type": "execute_result"
    }
   ],
   "source": [
    "data['Idade'].describe()"
   ]
  },
  {
   "cell_type": "markdown",
   "id": "aa6cd4af",
   "metadata": {},
   "source": [
    "6. Faça uma filtragem no DataFrame para exibir apenas as linhas que atendam a determinada condição.\n"
   ]
  },
  {
   "cell_type": "code",
   "execution_count": 31,
   "id": "7365bac5",
   "metadata": {},
   "outputs": [
    {
     "data": {
      "text/html": [
       "<div>\n",
       "<style scoped>\n",
       "    .dataframe tbody tr th:only-of-type {\n",
       "        vertical-align: middle;\n",
       "    }\n",
       "\n",
       "    .dataframe tbody tr th {\n",
       "        vertical-align: top;\n",
       "    }\n",
       "\n",
       "    .dataframe thead th {\n",
       "        text-align: right;\n",
       "    }\n",
       "</style>\n",
       "<table border=\"1\" class=\"dataframe\">\n",
       "  <thead>\n",
       "    <tr style=\"text-align: right;\">\n",
       "      <th></th>\n",
       "      <th>Nome</th>\n",
       "      <th>Idade</th>\n",
       "      <th>Cidade</th>\n",
       "    </tr>\n",
       "  </thead>\n",
       "  <tbody>\n",
       "    <tr>\n",
       "      <th>1</th>\n",
       "      <td>Bob</td>\n",
       "      <td>30</td>\n",
       "      <td>Rio de Janeiro</td>\n",
       "    </tr>\n",
       "    <tr>\n",
       "      <th>3</th>\n",
       "      <td>David</td>\n",
       "      <td>27</td>\n",
       "      <td>Salvador</td>\n",
       "    </tr>\n",
       "    <tr>\n",
       "      <th>4</th>\n",
       "      <td>Eva</td>\n",
       "      <td>68</td>\n",
       "      <td>Porto Alegre</td>\n",
       "    </tr>\n",
       "  </tbody>\n",
       "</table>\n",
       "</div>"
      ],
      "text/plain": [
       "    Nome  Idade          Cidade\n",
       "1    Bob     30  Rio de Janeiro\n",
       "3  David     27        Salvador\n",
       "4    Eva     68    Porto Alegre"
      ]
     },
     "execution_count": 31,
     "metadata": {},
     "output_type": "execute_result"
    }
   ],
   "source": [
    "data[data.Idade>25]"
   ]
  },
  {
   "cell_type": "markdown",
   "id": "2e42b06d",
   "metadata": {},
   "source": [
    "7. Crie uma nova coluna no DataFrame, calculando-a com base em outras colunas existentes.\n"
   ]
  },
  {
   "cell_type": "code",
   "execution_count": 32,
   "id": "285f0834",
   "metadata": {},
   "outputs": [
    {
     "data": {
      "text/html": [
       "<div>\n",
       "<style scoped>\n",
       "    .dataframe tbody tr th:only-of-type {\n",
       "        vertical-align: middle;\n",
       "    }\n",
       "\n",
       "    .dataframe tbody tr th {\n",
       "        vertical-align: top;\n",
       "    }\n",
       "\n",
       "    .dataframe thead th {\n",
       "        text-align: right;\n",
       "    }\n",
       "</style>\n",
       "<table border=\"1\" class=\"dataframe\">\n",
       "  <thead>\n",
       "    <tr style=\"text-align: right;\">\n",
       "      <th></th>\n",
       "      <th>Nome</th>\n",
       "      <th>Idade</th>\n",
       "      <th>Cidade</th>\n",
       "      <th>Idade_2</th>\n",
       "    </tr>\n",
       "  </thead>\n",
       "  <tbody>\n",
       "    <tr>\n",
       "      <th>0</th>\n",
       "      <td>Alice</td>\n",
       "      <td>25</td>\n",
       "      <td>São Paulo</td>\n",
       "      <td>50</td>\n",
       "    </tr>\n",
       "    <tr>\n",
       "      <th>1</th>\n",
       "      <td>Bob</td>\n",
       "      <td>30</td>\n",
       "      <td>Rio de Janeiro</td>\n",
       "      <td>60</td>\n",
       "    </tr>\n",
       "    <tr>\n",
       "      <th>2</th>\n",
       "      <td>Carol</td>\n",
       "      <td>22</td>\n",
       "      <td>Belo Horizonte</td>\n",
       "      <td>44</td>\n",
       "    </tr>\n",
       "    <tr>\n",
       "      <th>3</th>\n",
       "      <td>David</td>\n",
       "      <td>27</td>\n",
       "      <td>Salvador</td>\n",
       "      <td>54</td>\n",
       "    </tr>\n",
       "    <tr>\n",
       "      <th>4</th>\n",
       "      <td>Eva</td>\n",
       "      <td>68</td>\n",
       "      <td>Porto Alegre</td>\n",
       "      <td>136</td>\n",
       "    </tr>\n",
       "  </tbody>\n",
       "</table>\n",
       "</div>"
      ],
      "text/plain": [
       "    Nome  Idade          Cidade  Idade_2\n",
       "0  Alice     25       São Paulo       50\n",
       "1    Bob     30  Rio de Janeiro       60\n",
       "2  Carol     22  Belo Horizonte       44\n",
       "3  David     27        Salvador       54\n",
       "4    Eva     68    Porto Alegre      136"
      ]
     },
     "execution_count": 32,
     "metadata": {},
     "output_type": "execute_result"
    }
   ],
   "source": [
    "data['Idade_2'] = data['Idade']*2\n",
    "data"
   ]
  },
  {
   "cell_type": "markdown",
   "id": "dc73e986",
   "metadata": {},
   "source": [
    "8. Agrupe o DataFrame com base em uma coluna específica e realize uma operação de agregação, como soma, média ou contagem.\n"
   ]
  },
  {
   "cell_type": "code",
   "execution_count": 33,
   "id": "b46de10b",
   "metadata": {},
   "outputs": [],
   "source": [
    "# não há dados para agregar"
   ]
  },
  {
   "cell_type": "markdown",
   "id": "3ed6fac7",
   "metadata": {},
   "source": [
    "9.  Utilize a função `apply()` para aplicar uma função personalizada a uma coluna ou linha do DataFrame.\n"
   ]
  },
  {
   "cell_type": "code",
   "execution_count": 34,
   "id": "8a973149",
   "metadata": {},
   "outputs": [
    {
     "data": {
      "text/plain": [
       "0     50\n",
       "1     60\n",
       "2     44\n",
       "3     54\n",
       "4    136\n",
       "Name: Idade, dtype: int64"
      ]
     },
     "execution_count": 34,
     "metadata": {},
     "output_type": "execute_result"
    }
   ],
   "source": [
    "def duplica_idade(idade_):\n",
    "    return idade_ * 2\n",
    "\n",
    "data['Idade'].apply(duplica_idade)"
   ]
  },
  {
   "cell_type": "markdown",
   "id": "7f86fa7a",
   "metadata": {},
   "source": [
    "10. Faça uma ordenação dos dados em ordem crescente ou decrescente com base em uma coluna específica."
   ]
  },
  {
   "cell_type": "code",
   "execution_count": 35,
   "id": "39bd9d1b",
   "metadata": {},
   "outputs": [
    {
     "data": {
      "text/html": [
       "<div>\n",
       "<style scoped>\n",
       "    .dataframe tbody tr th:only-of-type {\n",
       "        vertical-align: middle;\n",
       "    }\n",
       "\n",
       "    .dataframe tbody tr th {\n",
       "        vertical-align: top;\n",
       "    }\n",
       "\n",
       "    .dataframe thead th {\n",
       "        text-align: right;\n",
       "    }\n",
       "</style>\n",
       "<table border=\"1\" class=\"dataframe\">\n",
       "  <thead>\n",
       "    <tr style=\"text-align: right;\">\n",
       "      <th></th>\n",
       "      <th>Nome</th>\n",
       "      <th>Idade</th>\n",
       "      <th>Cidade</th>\n",
       "      <th>Idade_2</th>\n",
       "    </tr>\n",
       "  </thead>\n",
       "  <tbody>\n",
       "    <tr>\n",
       "      <th>4</th>\n",
       "      <td>Eva</td>\n",
       "      <td>68</td>\n",
       "      <td>Porto Alegre</td>\n",
       "      <td>136</td>\n",
       "    </tr>\n",
       "    <tr>\n",
       "      <th>3</th>\n",
       "      <td>David</td>\n",
       "      <td>27</td>\n",
       "      <td>Salvador</td>\n",
       "      <td>54</td>\n",
       "    </tr>\n",
       "    <tr>\n",
       "      <th>2</th>\n",
       "      <td>Carol</td>\n",
       "      <td>22</td>\n",
       "      <td>Belo Horizonte</td>\n",
       "      <td>44</td>\n",
       "    </tr>\n",
       "    <tr>\n",
       "      <th>1</th>\n",
       "      <td>Bob</td>\n",
       "      <td>30</td>\n",
       "      <td>Rio de Janeiro</td>\n",
       "      <td>60</td>\n",
       "    </tr>\n",
       "    <tr>\n",
       "      <th>0</th>\n",
       "      <td>Alice</td>\n",
       "      <td>25</td>\n",
       "      <td>São Paulo</td>\n",
       "      <td>50</td>\n",
       "    </tr>\n",
       "  </tbody>\n",
       "</table>\n",
       "</div>"
      ],
      "text/plain": [
       "    Nome  Idade          Cidade  Idade_2\n",
       "4    Eva     68    Porto Alegre      136\n",
       "3  David     27        Salvador       54\n",
       "2  Carol     22  Belo Horizonte       44\n",
       "1    Bob     30  Rio de Janeiro       60\n",
       "0  Alice     25       São Paulo       50"
      ]
     },
     "execution_count": 35,
     "metadata": {},
     "output_type": "execute_result"
    }
   ],
   "source": [
    "data.sort_values(by='Nome', ascending=False)"
   ]
  },
  {
   "cell_type": "markdown",
   "id": "978e35a3",
   "metadata": {},
   "source": [
    "11. Utilize o recurso de indexação booleana para filtrar o DataFrame com base em várias condições.\n"
   ]
  },
  {
   "cell_type": "code",
   "execution_count": 36,
   "id": "6b7210e3",
   "metadata": {},
   "outputs": [
    {
     "data": {
      "text/plain": [
       "Idade                  22\n",
       "Cidade     Belo Horizonte\n",
       "Idade_2                44\n",
       "Name: Carol, dtype: object"
      ]
     },
     "execution_count": 36,
     "metadata": {},
     "output_type": "execute_result"
    }
   ],
   "source": [
    "data.set_index('Nome', inplace=True)\n",
    "data.loc['Carol']"
   ]
  },
  {
   "cell_type": "markdown",
   "id": "3eade39f",
   "metadata": {},
   "source": [
    "**Arquivo Exercicio_Pandas_2.json**\n",
    "1.  Carregue um conjunto de dados complexo (por exemplo, de um arquivo JSON ou um banco de dados SQL) e crie um DataFrame usando o Pandas.\n"
   ]
  },
  {
   "cell_type": "code",
   "execution_count": 37,
   "id": "f8005908",
   "metadata": {},
   "outputs": [
    {
     "data": {
      "text/plain": [
       "(5, 4)"
      ]
     },
     "metadata": {},
     "output_type": "display_data"
    },
    {
     "data": {
      "text/html": [
       "<div>\n",
       "<style scoped>\n",
       "    .dataframe tbody tr th:only-of-type {\n",
       "        vertical-align: middle;\n",
       "    }\n",
       "\n",
       "    .dataframe tbody tr th {\n",
       "        vertical-align: top;\n",
       "    }\n",
       "\n",
       "    .dataframe thead th {\n",
       "        text-align: right;\n",
       "    }\n",
       "</style>\n",
       "<table border=\"1\" class=\"dataframe\">\n",
       "  <thead>\n",
       "    <tr style=\"text-align: right;\">\n",
       "      <th></th>\n",
       "      <th>Produto</th>\n",
       "      <th>Quantidade_Vendida</th>\n",
       "      <th>Valor_Unitario</th>\n",
       "      <th>Valor_Total</th>\n",
       "    </tr>\n",
       "  </thead>\n",
       "  <tbody>\n",
       "    <tr>\n",
       "      <th>0</th>\n",
       "      <td>Celular</td>\n",
       "      <td>100</td>\n",
       "      <td>1000</td>\n",
       "      <td>100000</td>\n",
       "    </tr>\n",
       "    <tr>\n",
       "      <th>1</th>\n",
       "      <td>TV</td>\n",
       "      <td>50</td>\n",
       "      <td>2000</td>\n",
       "      <td>100000</td>\n",
       "    </tr>\n",
       "    <tr>\n",
       "      <th>2</th>\n",
       "      <td>Notebook</td>\n",
       "      <td>70</td>\n",
       "      <td>2500</td>\n",
       "      <td>175000</td>\n",
       "    </tr>\n",
       "    <tr>\n",
       "      <th>3</th>\n",
       "      <td>Tablet</td>\n",
       "      <td>30</td>\n",
       "      <td>800</td>\n",
       "      <td>24000</td>\n",
       "    </tr>\n",
       "    <tr>\n",
       "      <th>4</th>\n",
       "      <td>Headphone</td>\n",
       "      <td>80</td>\n",
       "      <td>150</td>\n",
       "      <td>12000</td>\n",
       "    </tr>\n",
       "  </tbody>\n",
       "</table>\n",
       "</div>"
      ],
      "text/plain": [
       "     Produto  Quantidade_Vendida  Valor_Unitario  Valor_Total\n",
       "0    Celular                 100            1000       100000\n",
       "1         TV                  50            2000       100000\n",
       "2   Notebook                  70            2500       175000\n",
       "3     Tablet                  30             800        24000\n",
       "4  Headphone                  80             150        12000"
      ]
     },
     "metadata": {},
     "output_type": "display_data"
    }
   ],
   "source": [
    "json_data = pd.read_json('./../../Datasets/Exercicio_Pandas_2.json')\n",
    "display(json_data.shape, json_data.head())"
   ]
  },
  {
   "cell_type": "markdown",
   "id": "52e5370f",
   "metadata": {},
   "source": [
    "2.  Utilize técnicas de indexação avançada para selecionar, filtrar e modificar dados em um DataFrame."
   ]
  },
  {
   "cell_type": "code",
   "execution_count": 38,
   "id": "12c3ae6b",
   "metadata": {},
   "outputs": [
    {
     "data": {
      "text/html": [
       "<div>\n",
       "<style scoped>\n",
       "    .dataframe tbody tr th:only-of-type {\n",
       "        vertical-align: middle;\n",
       "    }\n",
       "\n",
       "    .dataframe tbody tr th {\n",
       "        vertical-align: top;\n",
       "    }\n",
       "\n",
       "    .dataframe thead th {\n",
       "        text-align: right;\n",
       "    }\n",
       "</style>\n",
       "<table border=\"1\" class=\"dataframe\">\n",
       "  <thead>\n",
       "    <tr style=\"text-align: right;\">\n",
       "      <th></th>\n",
       "      <th>Produto</th>\n",
       "      <th>Quantidade_Vendida</th>\n",
       "      <th>Valor_Unitario</th>\n",
       "      <th>Valor_Total</th>\n",
       "    </tr>\n",
       "  </thead>\n",
       "  <tbody>\n",
       "    <tr>\n",
       "      <th>1</th>\n",
       "      <td>TV</td>\n",
       "      <td>50</td>\n",
       "      <td>2000</td>\n",
       "      <td>100000</td>\n",
       "    </tr>\n",
       "    <tr>\n",
       "      <th>2</th>\n",
       "      <td>Notebook</td>\n",
       "      <td>70</td>\n",
       "      <td>2500</td>\n",
       "      <td>175000</td>\n",
       "    </tr>\n",
       "  </tbody>\n",
       "</table>\n",
       "</div>"
      ],
      "text/plain": [
       "    Produto  Quantidade_Vendida  Valor_Unitario  Valor_Total\n",
       "1        TV                  50            2000       100000\n",
       "2  Notebook                  70            2500       175000"
      ]
     },
     "execution_count": 38,
     "metadata": {},
     "output_type": "execute_result"
    }
   ],
   "source": [
    "json_data[json_data.Valor_Unitario>json_data.Valor_Unitario.mean()]"
   ]
  },
  {
   "cell_type": "markdown",
   "id": "eabaccf0",
   "metadata": {},
   "source": [
    "   \n",
    "**Arquivos Exercicio_Pandas_2.json e Exercicio_Pandas_3.csv**\n",
    "1.  Combine dois DataFrames usando operações de junção (merge) ou concatenação.\n",
    "   \n",
    "2.  Utilize o método `groupby()` para agrupar os dados por múltiplas colunas e realizar operações de agregação em grupos."
   ]
  }
 ],
 "metadata": {
  "kernelspec": {
   "display_name": "Python 3 (ipykernel)",
   "language": "python",
   "name": "python3"
  },
  "language_info": {
   "codemirror_mode": {
    "name": "ipython",
    "version": 3
   },
   "file_extension": ".py",
   "mimetype": "text/x-python",
   "name": "python",
   "nbconvert_exporter": "python",
   "pygments_lexer": "ipython3",
   "version": "3.10.12"
  }
 },
 "nbformat": 4,
 "nbformat_minor": 5
}
