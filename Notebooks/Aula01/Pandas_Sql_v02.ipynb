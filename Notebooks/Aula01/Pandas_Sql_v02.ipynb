{
 "cells": [
  {
   "cell_type": "markdown",
   "id": "1f1d6272",
   "metadata": {},
   "source": [
    "# Classic Models V01.2 <a id='home'></a>\n",
    "\n",
    "Modelos de dados de loja de venda de modelos de veículos (carros antigos, trens, etc) em escala\n",
    "\n",
    "## Sumário\n",
    "\n",
    "1. [Introdução](#introdução)\n",
    "   1. [Modelos de dados](#modelo-de-dados)\n",
    "2. [Importação de bibliotecas](#import-de-bibliotecas)\n",
    "3. [Configurações](#configurações)\n",
    "4. [Detalhamento das tabelas](#detalhamento-das-tabelas)\n",
    "5. [Carga de dados da base](#)\n",
    "6. [Listagem de tabelas na base](#obter-tabelas)\n",
    "1. [Vendas por clientes](#vendas-por-clientes)\n",
    "   1. [Clientes com maior volume de vendas](#clientes-com-maior-volume-de-vendas)\n",
    "   2. [Clientes com menor volume de vendas](#clientes-com-menor-volume-de-vendas)\n",
    "2. [Vendas por categorias](#vendas-por-categorias)\n",
    "   1. [Categorias melhor vendidas](#categorias-melhor-vendidas)\n",
    "   2.  [Categorias menos vendidas](#categorias-menos-vendidas)\n",
    "3.  [Vendas por produtos](#vendas-por-produtos)\n",
    "    1.  [Produtos mais vendidos](#produtos-mais-vendidos)\n",
    "    2.  [Produtos menos Vendas por períodos](#produtos-menos-vendas-por-períodos)\n",
    "4.  [Vendas por períodos](#)\n",
    "    1.  [Períodos de maior venda](#períodos-de-maior-venda)\n",
    "    2.  [Periodos de menor venda](#periodos-de-menor-venda)\n",
    "5.  [Análise das vendas](#)\n",
    "6.  [Differência ano a ano (por mês)](#differência-ano-a-ano-(por-mês))\n",
    "7.  [Vendas por vendedores](#vendas-por-vendedores)\n",
    "    1.  [Vendedores com melhor desempenho](#vendedores-com-melhor-desempenho)\n",
    "    2.  [Vendedores com pior desempenho](#vendedores-com-pior-desempenho)\n",
    "8.  [Vendas por filial](#)\n",
    "    1.  [Lojas com maior volume de vendas](#lojas-com-maior-volume-de-vendas)\n",
    "    2.  [Lojas com pior volume de vendas](#lojas-com-pior-volume-de-vendas)\n",
    "9.  [Vendas por cidades](#)\n",
    "    1.  [Cidades com maior volume de vendas](#cidades-com-maior-volume-de-vendas)\n",
    "    2.  [Cidade com menores volume de vendas](#cidade-com-menores-volume-de-vendas)\n",
    "10. [Vendas por gerente/coordenador](#vendas-por-gerente/coordenador)\n",
    "    1.  [Gerentes/Coordenadores com melhor desempenho](#gerentes/coordenadores-com-melhor-desempenho)\n",
    "    2.  [Gerentes/Coordenadores com pior desempenho](#gerentes/coordenadores-com-pior-desempenho)\n",
    "11. [Pagamentos pendentes](#pagamentos-pendentes)\n"
   ]
  },
  {
   "cell_type": "markdown",
   "id": "eb6904e3",
   "metadata": {},
   "source": [
    "## Introdução\n",
    "\n",
    "### Modelo de dados <a id='modelo-de-dados'></a>\n",
    "\n",
    "<img src='./../../docs/imgs/classicmodels.png' alt=\"Modelo de dados\" />\n"
   ]
  },
  {
   "cell_type": "markdown",
   "id": "2119ab98",
   "metadata": {},
   "source": [
    "### Import de bibliotecas"
   ]
  },
  {
   "cell_type": "code",
   "execution_count": 9,
   "id": "a9341142",
   "metadata": {},
   "outputs": [],
   "source": [
    "import pandas as pd\n",
    "import numpy as np\n",
    "from sqlalchemy import create_engine,text\n",
    "from sqlalchemy.engine.url import URL\n",
    "import matplotlib.pyplot as plt \n",
    "import seaborn as sns\n",
    "import plotly.express as px"
   ]
  },
  {
   "cell_type": "markdown",
   "id": "52d0a07c",
   "metadata": {},
   "source": [
    "### Configurações"
   ]
  },
  {
   "cell_type": "code",
   "execution_count": 10,
   "id": "03f7ae1a",
   "metadata": {},
   "outputs": [],
   "source": [
    "# Seaborn style\n",
    "\n",
    "DARKGRID = \"darkgrid\"\n",
    "WHITEGRID = \"whitegrid\"\n",
    "\n",
    "sns.set_style(DARKGRID)\n",
    "\n",
    "# sns.set_theme(style=\"whitegrid\")\n",
    "\n",
    "\n",
    "\n",
    "# Databse\n",
    "usuario = 'root'\n",
    "senha = 'secret'\n",
    "\n",
    "engine = create_engine(URL(\n",
    "    drivername = 'mysql+pymysql',\n",
    "    username = usuario,\n",
    "    password = senha,\n",
    "    \n",
    "    host = 'localhost',\n",
    "    query = {'charset': 'utf8'},\n",
    "    port = 3306, \n",
    "    database='classicmodels'\n",
    "))\n",
    "\n",
    "conn = engine.connect()\n",
    "\n",
    "# Função de consulta\n",
    "def query(q_):\n",
    "    try:\n",
    "        result = pd.read_sql(text(q_), conn)\n",
    "        display(result.shape, result.head()) \n",
    "        return result\n",
    "    except:\n",
    "        return None"
   ]
  },
  {
   "cell_type": "markdown",
   "id": "31942b16",
   "metadata": {},
   "source": [
    "### Detalhamento das tabelas"
   ]
  },
  {
   "cell_type": "code",
   "execution_count": 11,
   "id": "6491371c",
   "metadata": {},
   "outputs": [
    {
     "data": {
      "text/plain": [
       "(8, 1)"
      ]
     },
     "metadata": {},
     "output_type": "display_data"
    },
    {
     "data": {
      "text/html": [
       "<div>\n",
       "<style scoped>\n",
       "    .dataframe tbody tr th:only-of-type {\n",
       "        vertical-align: middle;\n",
       "    }\n",
       "\n",
       "    .dataframe tbody tr th {\n",
       "        vertical-align: top;\n",
       "    }\n",
       "\n",
       "    .dataframe thead th {\n",
       "        text-align: right;\n",
       "    }\n",
       "</style>\n",
       "<table border=\"1\" class=\"dataframe\">\n",
       "  <thead>\n",
       "    <tr style=\"text-align: right;\">\n",
       "      <th></th>\n",
       "      <th>Tables_in_classicmodels</th>\n",
       "    </tr>\n",
       "  </thead>\n",
       "  <tbody>\n",
       "    <tr>\n",
       "      <th>0</th>\n",
       "      <td>customers</td>\n",
       "    </tr>\n",
       "    <tr>\n",
       "      <th>1</th>\n",
       "      <td>employees</td>\n",
       "    </tr>\n",
       "    <tr>\n",
       "      <th>2</th>\n",
       "      <td>offices</td>\n",
       "    </tr>\n",
       "    <tr>\n",
       "      <th>3</th>\n",
       "      <td>orderdetails</td>\n",
       "    </tr>\n",
       "    <tr>\n",
       "      <th>4</th>\n",
       "      <td>orders</td>\n",
       "    </tr>\n",
       "  </tbody>\n",
       "</table>\n",
       "</div>"
      ],
      "text/plain": [
       "  Tables_in_classicmodels\n",
       "0               customers\n",
       "1               employees\n",
       "2                 offices\n",
       "3            orderdetails\n",
       "4                  orders"
      ]
     },
     "metadata": {},
     "output_type": "display_data"
    },
    {
     "name": "stdout",
     "output_type": "stream",
     "text": [
      "\n",
      "Detalhes da tabela: << CUSTOMERS >>\n",
      "\n"
     ]
    },
    {
     "data": {
      "text/plain": [
       "(13, 6)"
      ]
     },
     "metadata": {},
     "output_type": "display_data"
    },
    {
     "data": {
      "text/html": [
       "<div>\n",
       "<style scoped>\n",
       "    .dataframe tbody tr th:only-of-type {\n",
       "        vertical-align: middle;\n",
       "    }\n",
       "\n",
       "    .dataframe tbody tr th {\n",
       "        vertical-align: top;\n",
       "    }\n",
       "\n",
       "    .dataframe thead th {\n",
       "        text-align: right;\n",
       "    }\n",
       "</style>\n",
       "<table border=\"1\" class=\"dataframe\">\n",
       "  <thead>\n",
       "    <tr style=\"text-align: right;\">\n",
       "      <th></th>\n",
       "      <th>Field</th>\n",
       "      <th>Type</th>\n",
       "      <th>Null</th>\n",
       "      <th>Key</th>\n",
       "      <th>Default</th>\n",
       "      <th>Extra</th>\n",
       "    </tr>\n",
       "  </thead>\n",
       "  <tbody>\n",
       "    <tr>\n",
       "      <th>0</th>\n",
       "      <td>customerNumber</td>\n",
       "      <td>int</td>\n",
       "      <td>NO</td>\n",
       "      <td>PRI</td>\n",
       "      <td>None</td>\n",
       "      <td></td>\n",
       "    </tr>\n",
       "    <tr>\n",
       "      <th>1</th>\n",
       "      <td>customerName</td>\n",
       "      <td>varchar(50)</td>\n",
       "      <td>NO</td>\n",
       "      <td></td>\n",
       "      <td>None</td>\n",
       "      <td></td>\n",
       "    </tr>\n",
       "    <tr>\n",
       "      <th>2</th>\n",
       "      <td>contactLastName</td>\n",
       "      <td>varchar(50)</td>\n",
       "      <td>NO</td>\n",
       "      <td></td>\n",
       "      <td>None</td>\n",
       "      <td></td>\n",
       "    </tr>\n",
       "    <tr>\n",
       "      <th>3</th>\n",
       "      <td>contactFirstName</td>\n",
       "      <td>varchar(50)</td>\n",
       "      <td>NO</td>\n",
       "      <td></td>\n",
       "      <td>None</td>\n",
       "      <td></td>\n",
       "    </tr>\n",
       "    <tr>\n",
       "      <th>4</th>\n",
       "      <td>phone</td>\n",
       "      <td>varchar(50)</td>\n",
       "      <td>NO</td>\n",
       "      <td></td>\n",
       "      <td>None</td>\n",
       "      <td></td>\n",
       "    </tr>\n",
       "  </tbody>\n",
       "</table>\n",
       "</div>"
      ],
      "text/plain": [
       "              Field         Type Null  Key Default Extra\n",
       "0    customerNumber          int   NO  PRI    None      \n",
       "1      customerName  varchar(50)   NO         None      \n",
       "2   contactLastName  varchar(50)   NO         None      \n",
       "3  contactFirstName  varchar(50)   NO         None      \n",
       "4             phone  varchar(50)   NO         None      "
      ]
     },
     "metadata": {},
     "output_type": "display_data"
    },
    {
     "name": "stdout",
     "output_type": "stream",
     "text": [
      "\n",
      "= = = = = = = = = = = = = = = = = = = = = = = = = = \n",
      "\n",
      "Detalhes da tabela: << EMPLOYEES >>\n",
      "\n"
     ]
    },
    {
     "data": {
      "text/plain": [
       "(8, 6)"
      ]
     },
     "metadata": {},
     "output_type": "display_data"
    },
    {
     "data": {
      "text/html": [
       "<div>\n",
       "<style scoped>\n",
       "    .dataframe tbody tr th:only-of-type {\n",
       "        vertical-align: middle;\n",
       "    }\n",
       "\n",
       "    .dataframe tbody tr th {\n",
       "        vertical-align: top;\n",
       "    }\n",
       "\n",
       "    .dataframe thead th {\n",
       "        text-align: right;\n",
       "    }\n",
       "</style>\n",
       "<table border=\"1\" class=\"dataframe\">\n",
       "  <thead>\n",
       "    <tr style=\"text-align: right;\">\n",
       "      <th></th>\n",
       "      <th>Field</th>\n",
       "      <th>Type</th>\n",
       "      <th>Null</th>\n",
       "      <th>Key</th>\n",
       "      <th>Default</th>\n",
       "      <th>Extra</th>\n",
       "    </tr>\n",
       "  </thead>\n",
       "  <tbody>\n",
       "    <tr>\n",
       "      <th>0</th>\n",
       "      <td>employeeNumber</td>\n",
       "      <td>int</td>\n",
       "      <td>NO</td>\n",
       "      <td>PRI</td>\n",
       "      <td>None</td>\n",
       "      <td></td>\n",
       "    </tr>\n",
       "    <tr>\n",
       "      <th>1</th>\n",
       "      <td>lastName</td>\n",
       "      <td>varchar(50)</td>\n",
       "      <td>NO</td>\n",
       "      <td></td>\n",
       "      <td>None</td>\n",
       "      <td></td>\n",
       "    </tr>\n",
       "    <tr>\n",
       "      <th>2</th>\n",
       "      <td>firstName</td>\n",
       "      <td>varchar(50)</td>\n",
       "      <td>NO</td>\n",
       "      <td></td>\n",
       "      <td>None</td>\n",
       "      <td></td>\n",
       "    </tr>\n",
       "    <tr>\n",
       "      <th>3</th>\n",
       "      <td>extension</td>\n",
       "      <td>varchar(10)</td>\n",
       "      <td>NO</td>\n",
       "      <td></td>\n",
       "      <td>None</td>\n",
       "      <td></td>\n",
       "    </tr>\n",
       "    <tr>\n",
       "      <th>4</th>\n",
       "      <td>email</td>\n",
       "      <td>varchar(100)</td>\n",
       "      <td>NO</td>\n",
       "      <td></td>\n",
       "      <td>None</td>\n",
       "      <td></td>\n",
       "    </tr>\n",
       "  </tbody>\n",
       "</table>\n",
       "</div>"
      ],
      "text/plain": [
       "            Field          Type Null  Key Default Extra\n",
       "0  employeeNumber           int   NO  PRI    None      \n",
       "1        lastName   varchar(50)   NO         None      \n",
       "2       firstName   varchar(50)   NO         None      \n",
       "3       extension   varchar(10)   NO         None      \n",
       "4           email  varchar(100)   NO         None      "
      ]
     },
     "metadata": {},
     "output_type": "display_data"
    },
    {
     "name": "stdout",
     "output_type": "stream",
     "text": [
      "\n",
      "= = = = = = = = = = = = = = = = = = = = = = = = = = \n",
      "\n",
      "Detalhes da tabela: << OFFICES >>\n",
      "\n"
     ]
    },
    {
     "data": {
      "text/plain": [
       "(9, 6)"
      ]
     },
     "metadata": {},
     "output_type": "display_data"
    },
    {
     "data": {
      "text/html": [
       "<div>\n",
       "<style scoped>\n",
       "    .dataframe tbody tr th:only-of-type {\n",
       "        vertical-align: middle;\n",
       "    }\n",
       "\n",
       "    .dataframe tbody tr th {\n",
       "        vertical-align: top;\n",
       "    }\n",
       "\n",
       "    .dataframe thead th {\n",
       "        text-align: right;\n",
       "    }\n",
       "</style>\n",
       "<table border=\"1\" class=\"dataframe\">\n",
       "  <thead>\n",
       "    <tr style=\"text-align: right;\">\n",
       "      <th></th>\n",
       "      <th>Field</th>\n",
       "      <th>Type</th>\n",
       "      <th>Null</th>\n",
       "      <th>Key</th>\n",
       "      <th>Default</th>\n",
       "      <th>Extra</th>\n",
       "    </tr>\n",
       "  </thead>\n",
       "  <tbody>\n",
       "    <tr>\n",
       "      <th>0</th>\n",
       "      <td>officeCode</td>\n",
       "      <td>varchar(10)</td>\n",
       "      <td>NO</td>\n",
       "      <td>PRI</td>\n",
       "      <td>None</td>\n",
       "      <td></td>\n",
       "    </tr>\n",
       "    <tr>\n",
       "      <th>1</th>\n",
       "      <td>city</td>\n",
       "      <td>varchar(50)</td>\n",
       "      <td>NO</td>\n",
       "      <td></td>\n",
       "      <td>None</td>\n",
       "      <td></td>\n",
       "    </tr>\n",
       "    <tr>\n",
       "      <th>2</th>\n",
       "      <td>phone</td>\n",
       "      <td>varchar(50)</td>\n",
       "      <td>NO</td>\n",
       "      <td></td>\n",
       "      <td>None</td>\n",
       "      <td></td>\n",
       "    </tr>\n",
       "    <tr>\n",
       "      <th>3</th>\n",
       "      <td>addressLine1</td>\n",
       "      <td>varchar(50)</td>\n",
       "      <td>NO</td>\n",
       "      <td></td>\n",
       "      <td>None</td>\n",
       "      <td></td>\n",
       "    </tr>\n",
       "    <tr>\n",
       "      <th>4</th>\n",
       "      <td>addressLine2</td>\n",
       "      <td>varchar(50)</td>\n",
       "      <td>YES</td>\n",
       "      <td></td>\n",
       "      <td>None</td>\n",
       "      <td></td>\n",
       "    </tr>\n",
       "  </tbody>\n",
       "</table>\n",
       "</div>"
      ],
      "text/plain": [
       "          Field         Type Null  Key Default Extra\n",
       "0    officeCode  varchar(10)   NO  PRI    None      \n",
       "1          city  varchar(50)   NO         None      \n",
       "2         phone  varchar(50)   NO         None      \n",
       "3  addressLine1  varchar(50)   NO         None      \n",
       "4  addressLine2  varchar(50)  YES         None      "
      ]
     },
     "metadata": {},
     "output_type": "display_data"
    },
    {
     "name": "stdout",
     "output_type": "stream",
     "text": [
      "\n",
      "= = = = = = = = = = = = = = = = = = = = = = = = = = \n",
      "\n",
      "Detalhes da tabela: << ORDERDETAILS >>\n",
      "\n"
     ]
    },
    {
     "data": {
      "text/plain": [
       "(5, 6)"
      ]
     },
     "metadata": {},
     "output_type": "display_data"
    },
    {
     "data": {
      "text/html": [
       "<div>\n",
       "<style scoped>\n",
       "    .dataframe tbody tr th:only-of-type {\n",
       "        vertical-align: middle;\n",
       "    }\n",
       "\n",
       "    .dataframe tbody tr th {\n",
       "        vertical-align: top;\n",
       "    }\n",
       "\n",
       "    .dataframe thead th {\n",
       "        text-align: right;\n",
       "    }\n",
       "</style>\n",
       "<table border=\"1\" class=\"dataframe\">\n",
       "  <thead>\n",
       "    <tr style=\"text-align: right;\">\n",
       "      <th></th>\n",
       "      <th>Field</th>\n",
       "      <th>Type</th>\n",
       "      <th>Null</th>\n",
       "      <th>Key</th>\n",
       "      <th>Default</th>\n",
       "      <th>Extra</th>\n",
       "    </tr>\n",
       "  </thead>\n",
       "  <tbody>\n",
       "    <tr>\n",
       "      <th>0</th>\n",
       "      <td>orderNumber</td>\n",
       "      <td>int</td>\n",
       "      <td>NO</td>\n",
       "      <td>PRI</td>\n",
       "      <td>None</td>\n",
       "      <td></td>\n",
       "    </tr>\n",
       "    <tr>\n",
       "      <th>1</th>\n",
       "      <td>productCode</td>\n",
       "      <td>varchar(15)</td>\n",
       "      <td>NO</td>\n",
       "      <td>PRI</td>\n",
       "      <td>None</td>\n",
       "      <td></td>\n",
       "    </tr>\n",
       "    <tr>\n",
       "      <th>2</th>\n",
       "      <td>quantityOrdered</td>\n",
       "      <td>int</td>\n",
       "      <td>NO</td>\n",
       "      <td></td>\n",
       "      <td>None</td>\n",
       "      <td></td>\n",
       "    </tr>\n",
       "    <tr>\n",
       "      <th>3</th>\n",
       "      <td>priceEach</td>\n",
       "      <td>decimal(10,2)</td>\n",
       "      <td>NO</td>\n",
       "      <td></td>\n",
       "      <td>None</td>\n",
       "      <td></td>\n",
       "    </tr>\n",
       "    <tr>\n",
       "      <th>4</th>\n",
       "      <td>orderLineNumber</td>\n",
       "      <td>smallint</td>\n",
       "      <td>NO</td>\n",
       "      <td></td>\n",
       "      <td>None</td>\n",
       "      <td></td>\n",
       "    </tr>\n",
       "  </tbody>\n",
       "</table>\n",
       "</div>"
      ],
      "text/plain": [
       "             Field           Type Null  Key Default Extra\n",
       "0      orderNumber            int   NO  PRI    None      \n",
       "1      productCode    varchar(15)   NO  PRI    None      \n",
       "2  quantityOrdered            int   NO         None      \n",
       "3        priceEach  decimal(10,2)   NO         None      \n",
       "4  orderLineNumber       smallint   NO         None      "
      ]
     },
     "metadata": {},
     "output_type": "display_data"
    },
    {
     "name": "stdout",
     "output_type": "stream",
     "text": [
      "\n",
      "= = = = = = = = = = = = = = = = = = = = = = = = = = \n",
      "\n",
      "Detalhes da tabela: << ORDERS >>\n",
      "\n"
     ]
    },
    {
     "data": {
      "text/plain": [
       "(7, 6)"
      ]
     },
     "metadata": {},
     "output_type": "display_data"
    },
    {
     "data": {
      "text/html": [
       "<div>\n",
       "<style scoped>\n",
       "    .dataframe tbody tr th:only-of-type {\n",
       "        vertical-align: middle;\n",
       "    }\n",
       "\n",
       "    .dataframe tbody tr th {\n",
       "        vertical-align: top;\n",
       "    }\n",
       "\n",
       "    .dataframe thead th {\n",
       "        text-align: right;\n",
       "    }\n",
       "</style>\n",
       "<table border=\"1\" class=\"dataframe\">\n",
       "  <thead>\n",
       "    <tr style=\"text-align: right;\">\n",
       "      <th></th>\n",
       "      <th>Field</th>\n",
       "      <th>Type</th>\n",
       "      <th>Null</th>\n",
       "      <th>Key</th>\n",
       "      <th>Default</th>\n",
       "      <th>Extra</th>\n",
       "    </tr>\n",
       "  </thead>\n",
       "  <tbody>\n",
       "    <tr>\n",
       "      <th>0</th>\n",
       "      <td>orderNumber</td>\n",
       "      <td>int</td>\n",
       "      <td>NO</td>\n",
       "      <td>PRI</td>\n",
       "      <td>None</td>\n",
       "      <td></td>\n",
       "    </tr>\n",
       "    <tr>\n",
       "      <th>1</th>\n",
       "      <td>orderDate</td>\n",
       "      <td>date</td>\n",
       "      <td>NO</td>\n",
       "      <td></td>\n",
       "      <td>None</td>\n",
       "      <td></td>\n",
       "    </tr>\n",
       "    <tr>\n",
       "      <th>2</th>\n",
       "      <td>requiredDate</td>\n",
       "      <td>date</td>\n",
       "      <td>NO</td>\n",
       "      <td></td>\n",
       "      <td>None</td>\n",
       "      <td></td>\n",
       "    </tr>\n",
       "    <tr>\n",
       "      <th>3</th>\n",
       "      <td>shippedDate</td>\n",
       "      <td>date</td>\n",
       "      <td>YES</td>\n",
       "      <td></td>\n",
       "      <td>None</td>\n",
       "      <td></td>\n",
       "    </tr>\n",
       "    <tr>\n",
       "      <th>4</th>\n",
       "      <td>status</td>\n",
       "      <td>varchar(15)</td>\n",
       "      <td>NO</td>\n",
       "      <td></td>\n",
       "      <td>None</td>\n",
       "      <td></td>\n",
       "    </tr>\n",
       "  </tbody>\n",
       "</table>\n",
       "</div>"
      ],
      "text/plain": [
       "          Field         Type Null  Key Default Extra\n",
       "0   orderNumber          int   NO  PRI    None      \n",
       "1     orderDate         date   NO         None      \n",
       "2  requiredDate         date   NO         None      \n",
       "3   shippedDate         date  YES         None      \n",
       "4        status  varchar(15)   NO         None      "
      ]
     },
     "metadata": {},
     "output_type": "display_data"
    },
    {
     "name": "stdout",
     "output_type": "stream",
     "text": [
      "\n",
      "= = = = = = = = = = = = = = = = = = = = = = = = = = \n",
      "\n",
      "Detalhes da tabela: << PAYMENTS >>\n",
      "\n"
     ]
    },
    {
     "data": {
      "text/plain": [
       "(4, 6)"
      ]
     },
     "metadata": {},
     "output_type": "display_data"
    },
    {
     "data": {
      "text/html": [
       "<div>\n",
       "<style scoped>\n",
       "    .dataframe tbody tr th:only-of-type {\n",
       "        vertical-align: middle;\n",
       "    }\n",
       "\n",
       "    .dataframe tbody tr th {\n",
       "        vertical-align: top;\n",
       "    }\n",
       "\n",
       "    .dataframe thead th {\n",
       "        text-align: right;\n",
       "    }\n",
       "</style>\n",
       "<table border=\"1\" class=\"dataframe\">\n",
       "  <thead>\n",
       "    <tr style=\"text-align: right;\">\n",
       "      <th></th>\n",
       "      <th>Field</th>\n",
       "      <th>Type</th>\n",
       "      <th>Null</th>\n",
       "      <th>Key</th>\n",
       "      <th>Default</th>\n",
       "      <th>Extra</th>\n",
       "    </tr>\n",
       "  </thead>\n",
       "  <tbody>\n",
       "    <tr>\n",
       "      <th>0</th>\n",
       "      <td>customerNumber</td>\n",
       "      <td>int</td>\n",
       "      <td>NO</td>\n",
       "      <td>PRI</td>\n",
       "      <td>None</td>\n",
       "      <td></td>\n",
       "    </tr>\n",
       "    <tr>\n",
       "      <th>1</th>\n",
       "      <td>checkNumber</td>\n",
       "      <td>varchar(50)</td>\n",
       "      <td>NO</td>\n",
       "      <td>PRI</td>\n",
       "      <td>None</td>\n",
       "      <td></td>\n",
       "    </tr>\n",
       "    <tr>\n",
       "      <th>2</th>\n",
       "      <td>paymentDate</td>\n",
       "      <td>date</td>\n",
       "      <td>NO</td>\n",
       "      <td></td>\n",
       "      <td>None</td>\n",
       "      <td></td>\n",
       "    </tr>\n",
       "    <tr>\n",
       "      <th>3</th>\n",
       "      <td>amount</td>\n",
       "      <td>decimal(10,2)</td>\n",
       "      <td>NO</td>\n",
       "      <td></td>\n",
       "      <td>None</td>\n",
       "      <td></td>\n",
       "    </tr>\n",
       "  </tbody>\n",
       "</table>\n",
       "</div>"
      ],
      "text/plain": [
       "            Field           Type Null  Key Default Extra\n",
       "0  customerNumber            int   NO  PRI    None      \n",
       "1     checkNumber    varchar(50)   NO  PRI    None      \n",
       "2     paymentDate           date   NO         None      \n",
       "3          amount  decimal(10,2)   NO         None      "
      ]
     },
     "metadata": {},
     "output_type": "display_data"
    },
    {
     "name": "stdout",
     "output_type": "stream",
     "text": [
      "\n",
      "= = = = = = = = = = = = = = = = = = = = = = = = = = \n",
      "\n",
      "Detalhes da tabela: << PRODUCTLINES >>\n",
      "\n"
     ]
    },
    {
     "data": {
      "text/plain": [
       "(4, 6)"
      ]
     },
     "metadata": {},
     "output_type": "display_data"
    },
    {
     "data": {
      "text/html": [
       "<div>\n",
       "<style scoped>\n",
       "    .dataframe tbody tr th:only-of-type {\n",
       "        vertical-align: middle;\n",
       "    }\n",
       "\n",
       "    .dataframe tbody tr th {\n",
       "        vertical-align: top;\n",
       "    }\n",
       "\n",
       "    .dataframe thead th {\n",
       "        text-align: right;\n",
       "    }\n",
       "</style>\n",
       "<table border=\"1\" class=\"dataframe\">\n",
       "  <thead>\n",
       "    <tr style=\"text-align: right;\">\n",
       "      <th></th>\n",
       "      <th>Field</th>\n",
       "      <th>Type</th>\n",
       "      <th>Null</th>\n",
       "      <th>Key</th>\n",
       "      <th>Default</th>\n",
       "      <th>Extra</th>\n",
       "    </tr>\n",
       "  </thead>\n",
       "  <tbody>\n",
       "    <tr>\n",
       "      <th>0</th>\n",
       "      <td>productLine</td>\n",
       "      <td>varchar(50)</td>\n",
       "      <td>NO</td>\n",
       "      <td>PRI</td>\n",
       "      <td>None</td>\n",
       "      <td></td>\n",
       "    </tr>\n",
       "    <tr>\n",
       "      <th>1</th>\n",
       "      <td>textDescription</td>\n",
       "      <td>varchar(4000)</td>\n",
       "      <td>YES</td>\n",
       "      <td></td>\n",
       "      <td>None</td>\n",
       "      <td></td>\n",
       "    </tr>\n",
       "    <tr>\n",
       "      <th>2</th>\n",
       "      <td>htmlDescription</td>\n",
       "      <td>mediumtext</td>\n",
       "      <td>YES</td>\n",
       "      <td></td>\n",
       "      <td>None</td>\n",
       "      <td></td>\n",
       "    </tr>\n",
       "    <tr>\n",
       "      <th>3</th>\n",
       "      <td>image</td>\n",
       "      <td>mediumblob</td>\n",
       "      <td>YES</td>\n",
       "      <td></td>\n",
       "      <td>None</td>\n",
       "      <td></td>\n",
       "    </tr>\n",
       "  </tbody>\n",
       "</table>\n",
       "</div>"
      ],
      "text/plain": [
       "             Field           Type Null  Key Default Extra\n",
       "0      productLine    varchar(50)   NO  PRI    None      \n",
       "1  textDescription  varchar(4000)  YES         None      \n",
       "2  htmlDescription     mediumtext  YES         None      \n",
       "3            image     mediumblob  YES         None      "
      ]
     },
     "metadata": {},
     "output_type": "display_data"
    },
    {
     "name": "stdout",
     "output_type": "stream",
     "text": [
      "\n",
      "= = = = = = = = = = = = = = = = = = = = = = = = = = \n",
      "\n",
      "Detalhes da tabela: << PRODUCTS >>\n",
      "\n"
     ]
    },
    {
     "data": {
      "text/plain": [
       "(9, 6)"
      ]
     },
     "metadata": {},
     "output_type": "display_data"
    },
    {
     "data": {
      "text/html": [
       "<div>\n",
       "<style scoped>\n",
       "    .dataframe tbody tr th:only-of-type {\n",
       "        vertical-align: middle;\n",
       "    }\n",
       "\n",
       "    .dataframe tbody tr th {\n",
       "        vertical-align: top;\n",
       "    }\n",
       "\n",
       "    .dataframe thead th {\n",
       "        text-align: right;\n",
       "    }\n",
       "</style>\n",
       "<table border=\"1\" class=\"dataframe\">\n",
       "  <thead>\n",
       "    <tr style=\"text-align: right;\">\n",
       "      <th></th>\n",
       "      <th>Field</th>\n",
       "      <th>Type</th>\n",
       "      <th>Null</th>\n",
       "      <th>Key</th>\n",
       "      <th>Default</th>\n",
       "      <th>Extra</th>\n",
       "    </tr>\n",
       "  </thead>\n",
       "  <tbody>\n",
       "    <tr>\n",
       "      <th>0</th>\n",
       "      <td>productCode</td>\n",
       "      <td>varchar(15)</td>\n",
       "      <td>NO</td>\n",
       "      <td>PRI</td>\n",
       "      <td>None</td>\n",
       "      <td></td>\n",
       "    </tr>\n",
       "    <tr>\n",
       "      <th>1</th>\n",
       "      <td>productName</td>\n",
       "      <td>varchar(70)</td>\n",
       "      <td>NO</td>\n",
       "      <td></td>\n",
       "      <td>None</td>\n",
       "      <td></td>\n",
       "    </tr>\n",
       "    <tr>\n",
       "      <th>2</th>\n",
       "      <td>productLine</td>\n",
       "      <td>varchar(50)</td>\n",
       "      <td>NO</td>\n",
       "      <td>MUL</td>\n",
       "      <td>None</td>\n",
       "      <td></td>\n",
       "    </tr>\n",
       "    <tr>\n",
       "      <th>3</th>\n",
       "      <td>productScale</td>\n",
       "      <td>varchar(10)</td>\n",
       "      <td>NO</td>\n",
       "      <td></td>\n",
       "      <td>None</td>\n",
       "      <td></td>\n",
       "    </tr>\n",
       "    <tr>\n",
       "      <th>4</th>\n",
       "      <td>productVendor</td>\n",
       "      <td>varchar(50)</td>\n",
       "      <td>NO</td>\n",
       "      <td></td>\n",
       "      <td>None</td>\n",
       "      <td></td>\n",
       "    </tr>\n",
       "  </tbody>\n",
       "</table>\n",
       "</div>"
      ],
      "text/plain": [
       "           Field         Type Null  Key Default Extra\n",
       "0    productCode  varchar(15)   NO  PRI    None      \n",
       "1    productName  varchar(70)   NO         None      \n",
       "2    productLine  varchar(50)   NO  MUL    None      \n",
       "3   productScale  varchar(10)   NO         None      \n",
       "4  productVendor  varchar(50)   NO         None      "
      ]
     },
     "metadata": {},
     "output_type": "display_data"
    },
    {
     "name": "stdout",
     "output_type": "stream",
     "text": [
      "\n",
      "= = = = = = = = = = = = = = = = = = = = = = = = = = \n"
     ]
    }
   ],
   "source": [
    "tables = query('show tables')\n",
    "\n",
    "for table in tables.values:\n",
    "    print(f'\\nDetalhes da tabela: << {table[0].upper()} >>\\n')\n",
    "    query(f'show columns from {table[0]}')\n",
    "    print('\\n= = = = = = = = = = = = = = = = = = = = = = = = = = ')"
   ]
  },
  {
   "cell_type": "markdown",
   "id": "686428e8",
   "metadata": {},
   "source": [
    "## Vendas por clientes\n",
    "\n",
    "Critério de pagamentos realizados por períodos (e total) por cada cliente"
   ]
  },
  {
   "cell_type": "code",
   "execution_count": 12,
   "id": "211a390a",
   "metadata": {},
   "outputs": [
    {
     "data": {
      "text/plain": [
       "(273, 3)"
      ]
     },
     "metadata": {},
     "output_type": "display_data"
    },
    {
     "data": {
      "text/html": [
       "<div>\n",
       "<style scoped>\n",
       "    .dataframe tbody tr th:only-of-type {\n",
       "        vertical-align: middle;\n",
       "    }\n",
       "\n",
       "    .dataframe tbody tr th {\n",
       "        vertical-align: top;\n",
       "    }\n",
       "\n",
       "    .dataframe thead th {\n",
       "        text-align: right;\n",
       "    }\n",
       "</style>\n",
       "<table border=\"1\" class=\"dataframe\">\n",
       "  <thead>\n",
       "    <tr style=\"text-align: right;\">\n",
       "      <th></th>\n",
       "      <th>customerName</th>\n",
       "      <th>paymentDate</th>\n",
       "      <th>amount</th>\n",
       "    </tr>\n",
       "  </thead>\n",
       "  <tbody>\n",
       "    <tr>\n",
       "      <th>0</th>\n",
       "      <td>Online Diecast Creations Co.</td>\n",
       "      <td>2003-01-16</td>\n",
       "      <td>10223.83</td>\n",
       "    </tr>\n",
       "    <tr>\n",
       "      <th>1</th>\n",
       "      <td>Blauer See Auto, Co.</td>\n",
       "      <td>2003-01-28</td>\n",
       "      <td>10549.01</td>\n",
       "    </tr>\n",
       "    <tr>\n",
       "      <th>2</th>\n",
       "      <td>Vitachrome Inc.</td>\n",
       "      <td>2003-01-30</td>\n",
       "      <td>5494.78</td>\n",
       "    </tr>\n",
       "    <tr>\n",
       "      <th>3</th>\n",
       "      <td>Baane Mini Imports</td>\n",
       "      <td>2003-02-16</td>\n",
       "      <td>50218.95</td>\n",
       "    </tr>\n",
       "    <tr>\n",
       "      <th>4</th>\n",
       "      <td>Danish Wholesale Imports</td>\n",
       "      <td>2003-02-20</td>\n",
       "      <td>53959.21</td>\n",
       "    </tr>\n",
       "  </tbody>\n",
       "</table>\n",
       "</div>"
      ],
      "text/plain": [
       "                   customerName paymentDate    amount\n",
       "0  Online Diecast Creations Co.  2003-01-16  10223.83\n",
       "1          Blauer See Auto, Co.  2003-01-28  10549.01\n",
       "2               Vitachrome Inc.  2003-01-30   5494.78\n",
       "3            Baane Mini Imports  2003-02-16  50218.95\n",
       "4      Danish Wholesale Imports  2003-02-20  53959.21"
      ]
     },
     "metadata": {},
     "output_type": "display_data"
    }
   ],
   "source": [
    "q = '''\n",
    "SELECT c.customerName,\n",
    "\tp.paymentDate, p.amount\n",
    "\t-- clientes\n",
    "    from customers c\n",
    "    -- pagamentos\n",
    "\tjoin payments p on p.customerNumber = c.customerNumber\n",
    "\torder by p.paymentDate ASC \n",
    "'''\n",
    "\n",
    "vendas_clientes = query(q)"
   ]
  },
  {
   "cell_type": "markdown",
   "id": "220d8c03",
   "metadata": {},
   "source": [
    "### Clientes com maior volume de vendas"
   ]
  },
  {
   "cell_type": "code",
   "execution_count": 13,
   "id": "1712b984",
   "metadata": {},
   "outputs": [],
   "source": [
    "agg_vendas = vendas_clientes.groupby('customerName')['amount'].sum().sort_values(ascending=False).reset_index()\n",
    "head10 = agg_vendas.head(10)\n",
    "tail10 = agg_vendas.tail(10)"
   ]
  },
  {
   "cell_type": "code",
   "execution_count": 14,
   "id": "f8f498f6",
   "metadata": {},
   "outputs": [],
   "source": [
    "def build_barplot_chart(df_, title_):\n",
    "    plt.figure(figsize=(10,6))\n",
    "    sns.barplot(data=df_, y='customerName', x='amount', orient='h')\n",
    "    plt.xlabel('Vendas (USD)')\n",
    "    plt.ylabel('Clientes')\n",
    "    plt.title(title_)\n",
    "    xlabels = [(k/1000) for k in np.linspace(0, int(df_.max().values[1]), 5)]\n",
    "    plt.xticks(rotation=45)\n",
    "    plt.show()"
   ]
  },
  {
   "cell_type": "code",
   "execution_count": 15,
   "id": "9156e92f",
   "metadata": {},
   "outputs": [
    {
     "data": {
      "image/png": "[encoded data removed]",
      "text/plain": [
       "<Figure size 1000x600 with 1 Axes>"
      ]
     },
     "metadata": {},
     "output_type": "display_data"
    }
   ],
   "source": [
    "build_barplot_chart(head10, 'Clientes com maiores volumes de compras no período.')"
   ]
  },
  {
   "cell_type": "markdown",
   "id": "14dfe280",
   "metadata": {},
   "source": [
    "### Clientes com menor volume de vendas"
   ]
  },
  {
   "cell_type": "code",
   "execution_count": 16,
   "id": "7effe488",
   "metadata": {},
   "outputs": [
    {
     "data": {
      "image/png": "[encoded data removed]",
      "text/plain": [
       "<Figure size 1000x600 with 1 Axes>"
      ]
     },
     "metadata": {},
     "output_type": "display_data"
    }
   ],
   "source": [
    "build_barplot_chart(tail10, 'Clientes com menores volumes de vendas no período.')"
   ]
  },
  {
   "cell_type": "markdown",
   "id": "b0969e63",
   "metadata": {},
   "source": [
    "## Vendas por categorias (lineproducts)\n",
    "\t(*) Work in progress\n",
    "### Categorias melhor vendidas\n",
    "\t(*) Work in progress\n",
    "### Categorias menos vendidas\n",
    "\t(*) Work in progress\n",
    "## Vendas por produtos\n",
    "\t(*) Work in progress\n",
    "### Produtos mais vendidos\n",
    "\t(*) Work in progress\n",
    "### Produtos menos \n",
    "\t(*) Work in progress\n",
    "## Vendas por períodos\n",
    "\t(*) Work in progress\n",
    "### Períodos de maior venda\n",
    "\t(*) Work in progress\n",
    "### Periodos de menor venda\n",
    "\t(*) Work in progress\n",
    "## Análise das vendas \n",
    "\t(*) Work in progress\n",
    "### Differência ano a ano (por mês)\n",
    "\t(*) Work in progress\n",
    "## Vendas por vendedores\n",
    "\t(*)  Levando em consideração o período de trabalho de cada um deles\n",
    "\t(*) Work in progress\n",
    "### Vendedores com melhor desempenho\n",
    "\t(*) Work in progress\n",
    "### Vendedores com pior desempenho\n",
    "\t(*) Work in progress\n",
    "## Vendas por filial\n",
    "\t(*) Work in progress\n",
    "### Lojas com maior volume de vendas\n",
    "\t(*) Work in progress\n",
    "### Lojas com pior volume de vendas\n",
    "\t(*) Work in progress\n",
    "## Vendas por cidades\n",
    "\t(*) Work in progress\n",
    "### Cidades com maior volume de vendas\n",
    "\t(*) Work in progress\n",
    "### Cidade com menores volume de vendas\n",
    "\t(*) Work in progress\n",
    "## vendas por gerente/coordenador\n",
    "\t(*) Work in progress\n",
    "### Gerentes/Coordenadores com melhor desempenho\n",
    "\t(*) Work in progress\n",
    "### Gerentes/Coordenadores com pior desempenho\n",
    "\t(*) Work in progress\n",
    "## Pagamentos pendentes \n",
    "\t(*) Levando em consideração os pagamentos dos clientes (payments e seus pedidos e envios)\n",
    "\t(*) Work in progress\n"
   ]
  },
  {
   "cell_type": "markdown",
   "id": "fa36bd7e",
   "metadata": {},
   "source": [
    "[inicio](#home)"
   ]
  }
 ],
 "metadata": {
  "kernelspec": {
   "display_name": "Python 3 (ipykernel)",
   "language": "python",
   "name": "python3"
  },
  "language_info": {
   "codemirror_mode": {
    "name": "ipython",
    "version": 3
   },
   "file_extension": ".py",
   "mimetype": "text/x-python",
   "name": "python",
   "nbconvert_exporter": "python",
   "pygments_lexer": "ipython3",
   "version": "3.10.12"
  }
 },
 "nbformat": 4,
 "nbformat_minor": 5
}
