{
 "cells": [
  {
   "cell_type": "markdown",
   "id": "4bece3fc",
   "metadata": {},
   "source": [
    "# Exercícios"
   ]
  },
  {
   "cell_type": "code",
   "execution_count": 2,
   "id": "c82bf604",
   "metadata": {},
   "outputs": [],
   "source": [
    "import numpy as np"
   ]
  },
  {
   "cell_type": "markdown",
   "id": "6d0f5db4",
   "metadata": {},
   "source": [
    "\n",
    "1. Crie um array NumPy unidimensional com os números de 1 a 10."
   ]
  },
  {
   "cell_type": "code",
   "execution_count": 3,
   "id": "fe2d16d4",
   "metadata": {},
   "outputs": [
    {
     "data": {
      "text/plain": [
       "array([ 1,  2,  3,  4,  5,  6,  7,  8,  9, 10])"
      ]
     },
     "execution_count": 3,
     "metadata": {},
     "output_type": "execute_result"
    }
   ],
   "source": [
    "np.arange(1,11)"
   ]
  },
  {
   "cell_type": "markdown",
   "id": "383317ea",
   "metadata": {},
   "source": [
    "2. Crie um array NumPy bidimensional 3x3 preenchido com zeros."
   ]
  },
  {
   "cell_type": "code",
   "execution_count": 4,
   "id": "27a4bf46",
   "metadata": {},
   "outputs": [
    {
     "data": {
      "text/plain": [
       "array([[0., 0., 0.],\n",
       "       [0., 0., 0.],\n",
       "       [0., 0., 0.]])"
      ]
     },
     "execution_count": 4,
     "metadata": {},
     "output_type": "execute_result"
    }
   ],
   "source": [
    "np.zeros((3,3))"
   ]
  },
  {
   "cell_type": "markdown",
   "id": "350334ac",
   "metadata": {},
   "source": [
    "3. Crie um array NumPy bidimensional 4x4 preenchido com uns."
   ]
  },
  {
   "cell_type": "code",
   "execution_count": 5,
   "id": "8e3105af",
   "metadata": {},
   "outputs": [
    {
     "data": {
      "text/plain": [
       "array([[1., 1., 1., 1.],\n",
       "       [1., 1., 1., 1.],\n",
       "       [1., 1., 1., 1.],\n",
       "       [1., 1., 1., 1.]])"
      ]
     },
     "execution_count": 5,
     "metadata": {},
     "output_type": "execute_result"
    }
   ],
   "source": [
    "np.ones((4,4))"
   ]
  },
  {
   "cell_type": "markdown",
   "id": "90014eb6",
   "metadata": {},
   "source": [
    "4. Crie um array NumPy com 20 valores aleatórios entre 0 e 100."
   ]
  },
  {
   "cell_type": "code",
   "execution_count": 6,
   "id": "96d565b8",
   "metadata": {},
   "outputs": [
    {
     "data": {
      "text/plain": [
       "array([88, 83, 26, 84, 65, 46, 62, 82, 61, 94, 94, 66, 67, 65, 30, 39, 69,\n",
       "       50, 16, 33])"
      ]
     },
     "execution_count": 6,
     "metadata": {},
     "output_type": "execute_result"
    }
   ],
   "source": [
    "np.random.randint(0,100, size=20)"
   ]
  },
  {
   "cell_type": "markdown",
   "id": "b15663b8",
   "metadata": {},
   "source": [
    "5. Crie um array NumPy unidimensional com espaçamento de 0.5 entre 0 e 10."
   ]
  },
  {
   "cell_type": "code",
   "execution_count": 7,
   "id": "e5c5efda",
   "metadata": {},
   "outputs": [
    {
     "data": {
      "text/plain": [
       "array([ 0. ,  0.5,  1. ,  1.5,  2. ,  2.5,  3. ,  3.5,  4. ,  4.5,  5. ,\n",
       "        5.5,  6. ,  6.5,  7. ,  7.5,  8. ,  8.5,  9. ,  9.5, 10. ])"
      ]
     },
     "execution_count": 7,
     "metadata": {},
     "output_type": "execute_result"
    }
   ],
   "source": [
    "np.arange(0,10.5,0.5)"
   ]
  },
  {
   "cell_type": "markdown",
   "id": "429d2ba0",
   "metadata": {},
   "source": [
    "6. Crie um array NumPy bidimensional 5x5 com valores aleatórios inteiros entre 1 e 100."
   ]
  },
  {
   "cell_type": "code",
   "execution_count": 8,
   "id": "79730112",
   "metadata": {},
   "outputs": [
    {
     "name": "stdout",
     "output_type": "stream",
     "text": [
      "CPU times: user 64 µs, sys: 34 µs, total: 98 µs\n",
      "Wall time: 102 µs\n"
     ]
    },
    {
     "data": {
      "text/plain": [
       "array([[ 5, 39, 16, 61,  9],\n",
       "       [25, 37, 22, 79, 23],\n",
       "       [58, 97, 22, 39, 18],\n",
       "       [40, 59, 47, 11, 29],\n",
       "       [20, 58, 42, 25, 54]])"
      ]
     },
     "execution_count": 8,
     "metadata": {},
     "output_type": "execute_result"
    }
   ],
   "source": [
    "%%time\n",
    "np.random.randint(1,101,size=(5,5))"
   ]
  },
  {
   "cell_type": "markdown",
   "id": "e0821ba5",
   "metadata": {},
   "source": [
    "7. Dada a matriz A = [[1, 2, 3], [4, 5, 6], [7, 8, 9]], crie um array NumPy contendo apenas a segunda coluna da matriz A."
   ]
  },
  {
   "cell_type": "code",
   "execution_count": 9,
   "id": "8074548c",
   "metadata": {},
   "outputs": [
    {
     "data": {
      "text/plain": [
       "array([2, 5, 8])"
      ]
     },
     "execution_count": 9,
     "metadata": {},
     "output_type": "execute_result"
    }
   ],
   "source": [
    "A = np.array([[1, 2, 3], [4, 5, 6], [7, 8, 9]])\n",
    "A[:,1]"
   ]
  },
  {
   "cell_type": "markdown",
   "id": "36a7c910",
   "metadata": {},
   "source": [
    "8. Dado o array NumPy x = [1, 2, 3, 4, 5], crie um novo array onde todos os valores pares sejam substituídos por -1."
   ]
  },
  {
   "cell_type": "code",
   "execution_count": 10,
   "id": "35ca7eb2",
   "metadata": {},
   "outputs": [
    {
     "data": {
      "text/plain": [
       "array([ 1, -1,  3, -1,  5])"
      ]
     },
     "metadata": {},
     "output_type": "display_data"
    }
   ],
   "source": [
    "x = np.array([1, 2, 3, 4, 5])\n",
    "x[x%2==0] = -1\n",
    "display(x)"
   ]
  },
  {
   "cell_type": "markdown",
   "id": "9f4449ce",
   "metadata": {},
   "source": [
    "9.  Dado o array NumPy x = [1, 2, 3, 4, 5], crie um novo array onde todos os valores maiores que 2 sejam substituídos por 0.\n"
   ]
  },
  {
   "cell_type": "code",
   "execution_count": 11,
   "id": "f90edc9d",
   "metadata": {},
   "outputs": [
    {
     "data": {
      "text/plain": [
       "array([1, 2, 0, 0, 0])"
      ]
     },
     "metadata": {},
     "output_type": "display_data"
    }
   ],
   "source": [
    "x = np.array([1, 2, 3, 4, 5])\n",
    "x[x>2] = 0\n",
    "\n",
    "display(x)"
   ]
  },
  {
   "cell_type": "markdown",
   "id": "ffc3ec23",
   "metadata": {},
   "source": [
    "10. Dado o array NumPy x = [1, 2, 3, 4, 5], normalize os valores do array de forma que a soma seja igual a 1.\n"
   ]
  },
  {
   "cell_type": "code",
   "execution_count": 12,
   "id": "12ddb6eb",
   "metadata": {},
   "outputs": [
    {
     "data": {
      "text/plain": [
       "array([0.06666667, 0.13333333, 0.2       , 0.26666667, 0.33333333])"
      ]
     },
     "metadata": {},
     "output_type": "display_data"
    },
    {
     "data": {
      "text/plain": [
       "1.0"
      ]
     },
     "metadata": {},
     "output_type": "display_data"
    }
   ],
   "source": [
    "x = np.array([1, 2, 3, 4, 5])\n",
    "normalizado = x/np.sum(x)\n",
    "\n",
    "display(normalizado, np.sum(normalizado))\n"
   ]
  },
  {
   "cell_type": "markdown",
   "id": "1fa9fbf3",
   "metadata": {},
   "source": [
    "\n",
    "11. Dada a matriz A = [[1, 2], [3, 4]] e a matriz B = [[5, 6], [7, 8]], calcule a multiplicação matricial entre A e B.\n"
   ]
  },
  {
   "cell_type": "code",
   "execution_count": 13,
   "id": "e6bc5e9d",
   "metadata": {},
   "outputs": [
    {
     "data": {
      "text/plain": [
       "array([[19, 22],\n",
       "       [43, 50]])"
      ]
     },
     "execution_count": 13,
     "metadata": {},
     "output_type": "execute_result"
    }
   ],
   "source": [
    "A = np.array([[1, 2], [3, 4]]) \n",
    "B = np.array([[5, 6], [7, 8]])\n",
    "np.dot(A, B)"
   ]
  },
  {
   "cell_type": "markdown",
   "id": "12413eb3",
   "metadata": {},
   "source": [
    "12. Dado o array NumPy x = [1, 2, 3], crie um novo array com os valores de x repetidos três vezes."
   ]
  },
  {
   "cell_type": "code",
   "execution_count": 14,
   "id": "110be72a",
   "metadata": {},
   "outputs": [
    {
     "data": {
      "text/plain": [
       "array([1, 2, 3, 1, 2, 3, 1, 2, 3])"
      ]
     },
     "metadata": {},
     "output_type": "display_data"
    }
   ],
   "source": [
    "x = np.array([1, 2, 3])\n",
    "x = np.tile(x, (3,))\n",
    "display(x)"
   ]
  },
  {
   "cell_type": "markdown",
   "id": "48225d94",
   "metadata": {},
   "source": [
    "13. Dado o array NumPy x = [1, 2, 3], crie um novo array com os valores de x repetidos lado a lado três vezes."
   ]
  },
  {
   "cell_type": "code",
   "execution_count": 15,
   "id": "4c266307",
   "metadata": {},
   "outputs": [
    {
     "data": {
      "text/plain": [
       "array([1, 1, 1, 2, 2, 2, 3, 3, 3])"
      ]
     },
     "execution_count": 15,
     "metadata": {},
     "output_type": "execute_result"
    }
   ],
   "source": [
    "x = np.array([1, 2, 3])\n",
    "np.repeat(x,3)"
   ]
  },
  {
   "cell_type": "markdown",
   "id": "100cc510",
   "metadata": {},
   "source": [
    "14. Dado o array NumPy x = [1, 2, 3], crie um novo array com os valores de x repetidos verticalmente três vezes."
   ]
  },
  {
   "cell_type": "code",
   "execution_count": 16,
   "id": "bbf7005d",
   "metadata": {},
   "outputs": [
    {
     "data": {
      "text/plain": [
       "array([[1, 2, 3],\n",
       "       [1, 2, 3],\n",
       "       [1, 2, 3]])"
      ]
     },
     "execution_count": 16,
     "metadata": {},
     "output_type": "execute_result"
    }
   ],
   "source": [
    "x = np.array([1, 2, 3])\n",
    "np.tile(x, (3,1))"
   ]
  },
  {
   "cell_type": "markdown",
   "id": "88058f89",
   "metadata": {},
   "source": [
    "15. Dado o array NumPy x = [1, 2, 3], inverta a ordem dos elementos do array."
   ]
  },
  {
   "cell_type": "code",
   "execution_count": 17,
   "id": "8ad9ec46",
   "metadata": {},
   "outputs": [
    {
     "data": {
      "text/plain": [
       "array([3, 2, 1])"
      ]
     },
     "execution_count": 17,
     "metadata": {},
     "output_type": "execute_result"
    }
   ],
   "source": [
    "x = np.array([1, 2, 3])\n",
    "np.flip(x)"
   ]
  }
 ],
 "metadata": {
  "kernelspec": {
   "display_name": "Python 3 (ipykernel)",
   "language": "python",
   "name": "python3"
  },
  "language_info": {
   "codemirror_mode": {
    "name": "ipython",
    "version": 3
   },
   "file_extension": ".py",
   "mimetype": "text/x-python",
   "name": "python",
   "nbconvert_exporter": "python",
   "pygments_lexer": "ipython3",
   "version": "3.10.12"
  }
 },
 "nbformat": 4,
 "nbformat_minor": 5
}
