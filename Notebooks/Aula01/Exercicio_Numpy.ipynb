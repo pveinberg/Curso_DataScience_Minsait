{
 "cells": [
  {
   "cell_type": "markdown",
   "id": "4bece3fc",
   "metadata": {},
   "source": [
    "# Exercícios"
   ]
  },
  {
   "cell_type": "code",
   "execution_count": 38,
   "id": "c82bf604",
   "metadata": {},
   "outputs": [],
   "source": [
    "import numpy as np"
   ]
  },
  {
   "cell_type": "markdown",
   "id": "6d0f5db4",
   "metadata": {},
   "source": [
    "\n",
    "1. Crie um array NumPy unidimensional com os números de 1 a 10."
   ]
  },
  {
   "cell_type": "code",
   "execution_count": 39,
   "id": "fe2d16d4",
   "metadata": {},
   "outputs": [
    {
     "data": {
      "text/plain": [
       "array([ 1,  2,  3,  4,  5,  6,  7,  8,  9, 10])"
      ]
     },
     "execution_count": 39,
     "metadata": {},
     "output_type": "execute_result"
    }
   ],
   "source": [
    "np.arange(1,11)"
   ]
  },
  {
   "cell_type": "markdown",
   "id": "383317ea",
   "metadata": {},
   "source": [
    "2. Crie um array NumPy bidimensional 3x3 preenchido com zeros."
   ]
  },
  {
   "cell_type": "code",
   "execution_count": 40,
   "id": "27a4bf46",
   "metadata": {},
   "outputs": [
    {
     "data": {
      "text/plain": [
       "array([[0., 0., 0.],\n",
       "       [0., 0., 0.],\n",
       "       [0., 0., 0.]])"
      ]
     },
     "execution_count": 40,
     "metadata": {},
     "output_type": "execute_result"
    }
   ],
   "source": [
    "np.zeros((3,3))"
   ]
  },
  {
   "cell_type": "markdown",
   "id": "350334ac",
   "metadata": {},
   "source": [
    "3. Crie um array NumPy bidimensional 4x4 preenchido com uns."
   ]
  },
  {
   "cell_type": "code",
   "execution_count": 41,
   "id": "8e3105af",
   "metadata": {},
   "outputs": [
    {
     "data": {
      "text/plain": [
       "array([[1., 1., 1., 1.],\n",
       "       [1., 1., 1., 1.],\n",
       "       [1., 1., 1., 1.],\n",
       "       [1., 1., 1., 1.]])"
      ]
     },
     "execution_count": 41,
     "metadata": {},
     "output_type": "execute_result"
    }
   ],
   "source": [
    "np.ones((4,4))"
   ]
  },
  {
   "cell_type": "markdown",
   "id": "90014eb6",
   "metadata": {},
   "source": [
    "4. Crie um array NumPy com 20 valores aleatórios entre 0 e 100."
   ]
  },
  {
   "cell_type": "code",
   "execution_count": 42,
   "id": "96d565b8",
   "metadata": {},
   "outputs": [
    {
     "data": {
      "text/plain": [
       "array([77,  3, 64,  3, 49,  9, 18, 99, 57, 43, 78, 86, 62, 84, 93, 97, 29,\n",
       "       77, 79,  7])"
      ]
     },
     "execution_count": 42,
     "metadata": {},
     "output_type": "execute_result"
    }
   ],
   "source": [
    "np.random.randint(0,100, size=20)"
   ]
  },
  {
   "cell_type": "markdown",
   "id": "b15663b8",
   "metadata": {},
   "source": [
    "5. Crie um array NumPy unidimensional com espaçamento de 0.5 entre 0 e 10."
   ]
  },
  {
   "cell_type": "code",
   "execution_count": 43,
   "id": "e5c5efda",
   "metadata": {},
   "outputs": [
    {
     "data": {
      "text/plain": [
       "array([ 0. ,  0.5,  1. ,  1.5,  2. ,  2.5,  3. ,  3.5,  4. ,  4.5,  5. ,\n",
       "        5.5,  6. ,  6.5,  7. ,  7.5,  8. ,  8.5,  9. ,  9.5, 10. ])"
      ]
     },
     "execution_count": 43,
     "metadata": {},
     "output_type": "execute_result"
    }
   ],
   "source": [
    "np.arange(0,10.5,0.5)"
   ]
  },
  {
   "cell_type": "markdown",
   "id": "429d2ba0",
   "metadata": {},
   "source": [
    "6. Crie um array NumPy bidimensional 5x5 com valores aleatórios inteiros entre 1 e 100."
   ]
  },
  {
   "cell_type": "code",
   "execution_count": 44,
   "id": "79730112",
   "metadata": {},
   "outputs": [
    {
     "name": "stdout",
     "output_type": "stream",
     "text": [
      "CPU times: user 39 µs, sys: 24 µs, total: 63 µs\n",
      "Wall time: 64.8 µs\n"
     ]
    },
    {
     "data": {
      "text/plain": [
       "array([[ 3, 28, 71, 86,  3],\n",
       "       [33, 35, 17, 66, 44],\n",
       "       [81, 58, 40, 19, 49],\n",
       "       [76,  8, 75, 79, 60],\n",
       "       [82, 15, 97,  6,  8]])"
      ]
     },
     "execution_count": 44,
     "metadata": {},
     "output_type": "execute_result"
    }
   ],
   "source": [
    "%%time\n",
    "np.random.randint(1,101,size=(5,5))"
   ]
  },
  {
   "cell_type": "markdown",
   "id": "e0821ba5",
   "metadata": {},
   "source": [
    "7. Dada a matriz A = [[1, 2, 3], [4, 5, 6], [7, 8, 9]], crie um array NumPy contendo apenas a segunda coluna da matriz A."
   ]
  },
  {
   "cell_type": "code",
   "execution_count": 45,
   "id": "8074548c",
   "metadata": {},
   "outputs": [
    {
     "data": {
      "text/plain": [
       "array([2, 5, 8])"
      ]
     },
     "execution_count": 45,
     "metadata": {},
     "output_type": "execute_result"
    }
   ],
   "source": [
    "A = np.array([[1, 2, 3], [4, 5, 6], [7, 8, 9]])\n",
    "A[:,1]"
   ]
  },
  {
   "cell_type": "markdown",
   "id": "36a7c910",
   "metadata": {},
   "source": [
    "8. Dado o array NumPy x = [1, 2, 3, 4, 5], crie um novo array onde todos os valores pares sejam substituídos por -1."
   ]
  },
  {
   "cell_type": "code",
   "execution_count": 46,
   "id": "35ca7eb2",
   "metadata": {},
   "outputs": [
    {
     "data": {
      "text/plain": [
       "array([ 1, -1,  3, -1,  5])"
      ]
     },
     "metadata": {},
     "output_type": "display_data"
    }
   ],
   "source": [
    "x = np.array([1, 2, 3, 4, 5])\n",
    "x[x%2==0] = -1\n",
    "display(x)"
   ]
  },
  {
   "cell_type": "markdown",
   "id": "9f4449ce",
   "metadata": {},
   "source": [
    "9.  Dado o array NumPy x = [1, 2, 3, 4, 5], crie um novo array onde todos os valores maiores que 2 sejam substituídos por 0.\n"
   ]
  },
  {
   "cell_type": "code",
   "execution_count": 47,
   "id": "f90edc9d",
   "metadata": {},
   "outputs": [
    {
     "data": {
      "text/plain": [
       "array([1, 2, 0, 0, 0])"
      ]
     },
     "metadata": {},
     "output_type": "display_data"
    }
   ],
   "source": [
    "x = np.array([1, 2, 3, 4, 5])\n",
    "x[x>2] = 0\n",
    "\n",
    "display(x)"
   ]
  },
  {
   "cell_type": "markdown",
   "id": "ffc3ec23",
   "metadata": {},
   "source": [
    "10. Dado o array NumPy x = [1, 2, 3, 4, 5], normalize os valores do array de forma que a soma seja igual a 1.\n"
   ]
  },
  {
   "cell_type": "code",
   "execution_count": 48,
   "id": "12ddb6eb",
   "metadata": {},
   "outputs": [
    {
     "data": {
      "text/plain": [
       "array([0.06666667, 0.13333333, 0.2       , 0.26666667, 0.33333333])"
      ]
     },
     "metadata": {},
     "output_type": "display_data"
    },
    {
     "data": {
      "text/plain": [
       "1.0"
      ]
     },
     "metadata": {},
     "output_type": "display_data"
    }
   ],
   "source": [
    "x = np.array([1, 2, 3, 4, 5])\n",
    "normalizado = x/np.sum(x)\n",
    "\n",
    "display(normalizado, np.sum(normalizado))\n"
   ]
  },
  {
   "cell_type": "markdown",
   "id": "1fa9fbf3",
   "metadata": {},
   "source": [
    "\n",
    "11. Dada a matriz A = [[1, 2], [3, 4]] e a matriz B = [[5, 6], [7, 8]], calcule a multiplicação matricial entre A e B.\n"
   ]
  },
  {
   "cell_type": "code",
   "execution_count": 49,
   "id": "e6bc5e9d",
   "metadata": {},
   "outputs": [
    {
     "data": {
      "text/plain": [
       "array([[ 5, 12],\n",
       "       [21, 32]])"
      ]
     },
     "execution_count": 49,
     "metadata": {},
     "output_type": "execute_result"
    }
   ],
   "source": [
    "A = np.array([[1, 2], [3, 4]]) \n",
    "B = np.array([[5, 6], [7, 8]])\n",
    "np.multiply(A, B)"
   ]
  },
  {
   "cell_type": "markdown",
   "id": "12413eb3",
   "metadata": {},
   "source": [
    "12. Dado o array NumPy x = [1, 2, 3], crie um novo array com os valores de x repetidos três vezes."
   ]
  },
  {
   "cell_type": "code",
   "execution_count": 50,
   "id": "110be72a",
   "metadata": {},
   "outputs": [
    {
     "data": {
      "text/plain": [
       "array([1, 2, 3, 1, 2, 3, 1, 2, 3])"
      ]
     },
     "metadata": {},
     "output_type": "display_data"
    }
   ],
   "source": [
    "x = np.array([1, 2, 3])\n",
    "x = np.tile(x, (3,))\n",
    "display(x)"
   ]
  },
  {
   "cell_type": "markdown",
   "id": "48225d94",
   "metadata": {},
   "source": [
    "13. Dado o array NumPy x = [1, 2, 3], crie um novo array com os valores de x repetidos lado a lado três vezes."
   ]
  },
  {
   "cell_type": "code",
   "execution_count": 51,
   "id": "4c266307",
   "metadata": {},
   "outputs": [
    {
     "data": {
      "text/plain": [
       "array([1, 1, 1, 2, 2, 2, 3, 3, 3])"
      ]
     },
     "execution_count": 51,
     "metadata": {},
     "output_type": "execute_result"
    }
   ],
   "source": [
    "x = np.array([1, 2, 3])\n",
    "np.repeat(x,3)"
   ]
  },
  {
   "cell_type": "markdown",
   "id": "100cc510",
   "metadata": {},
   "source": [
    "14. Dado o array NumPy x = [1, 2, 3], crie um novo array com os valores de x repetidos verticalmente três vezes."
   ]
  },
  {
   "cell_type": "code",
   "execution_count": 52,
   "id": "bbf7005d",
   "metadata": {},
   "outputs": [
    {
     "data": {
      "text/plain": [
       "array([[1, 2, 3],\n",
       "       [1, 2, 3],\n",
       "       [1, 2, 3]])"
      ]
     },
     "execution_count": 52,
     "metadata": {},
     "output_type": "execute_result"
    }
   ],
   "source": [
    "x = np.array([1, 2, 3])\n",
    "np.tile(x, (3,1))"
   ]
  },
  {
   "cell_type": "markdown",
   "id": "88058f89",
   "metadata": {},
   "source": [
    "15. Dado o array NumPy x = [1, 2, 3], inverta a ordem dos elementos do array."
   ]
  },
  {
   "cell_type": "code",
   "execution_count": 53,
   "id": "8ad9ec46",
   "metadata": {},
   "outputs": [
    {
     "data": {
      "text/plain": [
       "array([3, 2, 1])"
      ]
     },
     "execution_count": 53,
     "metadata": {},
     "output_type": "execute_result"
    }
   ],
   "source": [
    "x = np.array([1, 2, 3])\n",
    "np.flip(x)"
   ]
  }
 ],
 "metadata": {
  "kernelspec": {
   "display_name": "Python 3 (ipykernel)",
   "language": "python",
   "name": "python3"
  },
  "language_info": {
   "codemirror_mode": {
    "name": "ipython",
    "version": 3
   },
   "file_extension": ".py",
   "mimetype": "text/x-python",
   "name": "python",
   "nbconvert_exporter": "python",
   "pygments_lexer": "ipython3",
   "version": "3.10.12"
  }
 },
 "nbformat": 4,
 "nbformat_minor": 5
}
