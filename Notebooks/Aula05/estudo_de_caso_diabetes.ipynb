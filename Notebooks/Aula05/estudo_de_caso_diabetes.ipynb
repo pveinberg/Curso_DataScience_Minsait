{
 "cells": [
  {
   "cell_type": "markdown",
   "metadata": {
    "id": "cxFr3NkSuJ5p"
   },
   "source": [
    "Estudo de Caso: Trabalho Final da Formação em Data Sciente\n",
    "==========================================================\n",
    "\n",
    "__Instrutora:__ [Thaís Ratis](https://github.com/thaisratis)\n",
    "\n",
    "__Autores:__\n",
    "* Flávio Silva\n",
    "* Patrícia Lópes\n",
    "* [Pablo Veinberg](https://github.com/pveinberg)\n"
   ]
  },
  {
   "cell_type": "markdown",
   "metadata": {},
   "source": [
    "## Sobre o dataset\n",
    "\n",
    "Este conjunto de dados para a previsão da ocorrência de diabetes contém uma gama diversificada de atributos relacionados à saúde, que foram coletados para auxiliar no desenvolvimento de modelos preditivos para identificar indivíduos em risco de diabetes. \n",
    "\n",
    "[Healthcare Diabetes Dataset](https://www.kaggle.com/datasets/nanditapore/healthcare-diabetes)\n"
   ]
  },
  {
   "cell_type": "code",
   "execution_count": 26,
   "metadata": {
    "id": "TNHHrMY9u0n3"
   },
   "outputs": [],
   "source": [
    "# Imports\n",
    "\n",
    "## Pandas e Numpy\n",
    "import pandas as pd\n",
    "import numpy as np\n",
    "\n",
    "## Bibliotecas de plotagem\n",
    "import matplotlib.pyplot as plt\n",
    "import seaborn as sns\n",
    "\n",
    "## Bibliotecas de ML\n",
    "from sklearn.model_selection import train_test_split\n",
    "from sklearn.neighbors import KNeighborsClassifier\n",
    "from sklearn.metrics import confusion_matrix, accuracy_score, classification_report"
   ]
  },
  {
   "cell_type": "code",
   "execution_count": 27,
   "metadata": {},
   "outputs": [],
   "source": [
    "# Configuração do tema para plotagem com Seaborn\n",
    "sns.set_style(\"darkgrid\")"
   ]
  },
  {
   "cell_type": "markdown",
   "metadata": {},
   "source": [
    "## Carga de dados"
   ]
  },
  {
   "cell_type": "code",
   "execution_count": 28,
   "metadata": {
    "colab": {
     "base_uri": "https://localhost:8080/"
    },
    "id": "2dXGsue5u4L-",
    "outputId": "e3673cc2-8c1d-4dda-81fe-6454e2635dce"
   },
   "outputs": [
    {
     "data": {
      "text/plain": [
       "(2768, 10)"
      ]
     },
     "execution_count": 28,
     "metadata": {},
     "output_type": "execute_result"
    }
   ],
   "source": [
    "# Carga do dataset\n",
    "data = pd.read_csv('./../../Datasets/Healthcare-Diabetes.csv')\n",
    "data.shape"
   ]
  },
  {
   "cell_type": "code",
   "execution_count": 29,
   "metadata": {
    "colab": {
     "base_uri": "https://localhost:8080/",
     "height": 206
    },
    "id": "-3aFciX8vRL_",
    "outputId": "51df9ef6-48d8-4229-fa0c-462ab1809d1d"
   },
   "outputs": [
    {
     "data": {
      "text/html": [
       "<div>\n",
       "<style scoped>\n",
       "    .dataframe tbody tr th:only-of-type {\n",
       "        vertical-align: middle;\n",
       "    }\n",
       "\n",
       "    .dataframe tbody tr th {\n",
       "        vertical-align: top;\n",
       "    }\n",
       "\n",
       "    .dataframe thead th {\n",
       "        text-align: right;\n",
       "    }\n",
       "</style>\n",
       "<table border=\"1\" class=\"dataframe\">\n",
       "  <thead>\n",
       "    <tr style=\"text-align: right;\">\n",
       "      <th></th>\n",
       "      <th>Id</th>\n",
       "      <th>Pregnancies</th>\n",
       "      <th>Glucose</th>\n",
       "      <th>BloodPressure</th>\n",
       "      <th>SkinThickness</th>\n",
       "      <th>Insulin</th>\n",
       "      <th>BMI</th>\n",
       "      <th>DiabetesPedigreeFunction</th>\n",
       "      <th>Age</th>\n",
       "      <th>Outcome</th>\n",
       "    </tr>\n",
       "  </thead>\n",
       "  <tbody>\n",
       "    <tr>\n",
       "      <th>0</th>\n",
       "      <td>1</td>\n",
       "      <td>6</td>\n",
       "      <td>148</td>\n",
       "      <td>72</td>\n",
       "      <td>35</td>\n",
       "      <td>0</td>\n",
       "      <td>33.6</td>\n",
       "      <td>0.627</td>\n",
       "      <td>50</td>\n",
       "      <td>1</td>\n",
       "    </tr>\n",
       "    <tr>\n",
       "      <th>1</th>\n",
       "      <td>2</td>\n",
       "      <td>1</td>\n",
       "      <td>85</td>\n",
       "      <td>66</td>\n",
       "      <td>29</td>\n",
       "      <td>0</td>\n",
       "      <td>26.6</td>\n",
       "      <td>0.351</td>\n",
       "      <td>31</td>\n",
       "      <td>0</td>\n",
       "    </tr>\n",
       "    <tr>\n",
       "      <th>2</th>\n",
       "      <td>3</td>\n",
       "      <td>8</td>\n",
       "      <td>183</td>\n",
       "      <td>64</td>\n",
       "      <td>0</td>\n",
       "      <td>0</td>\n",
       "      <td>23.3</td>\n",
       "      <td>0.672</td>\n",
       "      <td>32</td>\n",
       "      <td>1</td>\n",
       "    </tr>\n",
       "    <tr>\n",
       "      <th>3</th>\n",
       "      <td>4</td>\n",
       "      <td>1</td>\n",
       "      <td>89</td>\n",
       "      <td>66</td>\n",
       "      <td>23</td>\n",
       "      <td>94</td>\n",
       "      <td>28.1</td>\n",
       "      <td>0.167</td>\n",
       "      <td>21</td>\n",
       "      <td>0</td>\n",
       "    </tr>\n",
       "    <tr>\n",
       "      <th>4</th>\n",
       "      <td>5</td>\n",
       "      <td>0</td>\n",
       "      <td>137</td>\n",
       "      <td>40</td>\n",
       "      <td>35</td>\n",
       "      <td>168</td>\n",
       "      <td>43.1</td>\n",
       "      <td>2.288</td>\n",
       "      <td>33</td>\n",
       "      <td>1</td>\n",
       "    </tr>\n",
       "  </tbody>\n",
       "</table>\n",
       "</div>"
      ],
      "text/plain": [
       "   Id  Pregnancies  Glucose  BloodPressure  SkinThickness  Insulin   BMI  \\\n",
       "0   1            6      148             72             35        0  33.6   \n",
       "1   2            1       85             66             29        0  26.6   \n",
       "2   3            8      183             64              0        0  23.3   \n",
       "3   4            1       89             66             23       94  28.1   \n",
       "4   5            0      137             40             35      168  43.1   \n",
       "\n",
       "   DiabetesPedigreeFunction  Age  Outcome  \n",
       "0                     0.627   50        1  \n",
       "1                     0.351   31        0  \n",
       "2                     0.672   32        1  \n",
       "3                     0.167   21        0  \n",
       "4                     2.288   33        1  "
      ]
     },
     "execution_count": 29,
     "metadata": {},
     "output_type": "execute_result"
    }
   ],
   "source": [
    "# Apresentação inicial dos valores\n",
    "data.head()"
   ]
  },
  {
   "cell_type": "markdown",
   "metadata": {},
   "source": [
    "## Pré-processamento"
   ]
  },
  {
   "cell_type": "code",
   "execution_count": 30,
   "metadata": {
    "id": "ryNuKEEmvi1o"
   },
   "outputs": [],
   "source": [
    "# Alteração dos nomes das colunas/variáveis\n",
    "data.columns = ['id', 'quant_gravidez', 'glicose', \\\n",
    "                'pressao_saguinea', 'espesura_pele', \\\n",
    "                'insulina', 'imc', 'diabetes_genetica', 'idade', 'target']"
   ]
  },
  {
   "cell_type": "code",
   "execution_count": 31,
   "metadata": {
    "id": "yTl2ZSxOwR32"
   },
   "outputs": [],
   "source": [
    "# Exclusão da coluna 'id', que não será necessária para o análise\n",
    "data.drop('id', axis=1, inplace=True)"
   ]
  },
  {
   "cell_type": "code",
   "execution_count": 32,
   "metadata": {
    "colab": {
     "base_uri": "https://localhost:8080/"
    },
    "id": "KEkgashZwaJi",
    "outputId": "6fe2ad65-e0c5-4dcf-b3f7-7dfda17d7a97"
   },
   "outputs": [
    {
     "data": {
      "text/plain": [
       "0"
      ]
     },
     "execution_count": 32,
     "metadata": {},
     "output_type": "execute_result"
    }
   ],
   "source": [
    "# Exlusão de valores duplicados\n",
    "data.drop_duplicates(keep='first', inplace=True)\n",
    "data.duplicated().sum()"
   ]
  },
  {
   "cell_type": "code",
   "execution_count": 33,
   "metadata": {
    "colab": {
     "base_uri": "https://localhost:8080/"
    },
    "id": "AKHosQVBw4Dt",
    "outputId": "83f33c71-5244-4171-8824-a7b8fdd2b0ef"
   },
   "outputs": [
    {
     "data": {
      "text/plain": [
       "0"
      ]
     },
     "execution_count": 33,
     "metadata": {},
     "output_type": "execute_result"
    }
   ],
   "source": [
    "# Verificação de valores nulos\n",
    "data.isnull().sum().sum()"
   ]
  },
  {
   "cell_type": "code",
   "execution_count": 34,
   "metadata": {
    "colab": {
     "base_uri": "https://localhost:8080/"
    },
    "id": "J1oTpIGzxFn1",
    "outputId": "198b6858-c5c8-4ce7-9e12-4a7320a03def"
   },
   "outputs": [
    {
     "name": "stdout",
     "output_type": "stream",
     "text": [
      "<class 'pandas.core.frame.DataFrame'>\n",
      "Int64Index: 778 entries, 0 to 2336\n",
      "Data columns (total 9 columns):\n",
      " #   Column             Non-Null Count  Dtype  \n",
      "---  ------             --------------  -----  \n",
      " 0   quant_gravidez     778 non-null    int64  \n",
      " 1   glicose            778 non-null    int64  \n",
      " 2   pressao_saguinea   778 non-null    int64  \n",
      " 3   espesura_pele      778 non-null    int64  \n",
      " 4   insulina           778 non-null    int64  \n",
      " 5   imc                778 non-null    float64\n",
      " 6   diabetes_genetica  778 non-null    float64\n",
      " 7   idade              778 non-null    int64  \n",
      " 8   target             778 non-null    int64  \n",
      "dtypes: float64(2), int64(7)\n",
      "memory usage: 60.8 KB\n"
     ]
    }
   ],
   "source": [
    "# Validação da quantidade de valores e typos para cada coluna \n",
    "data.info()"
   ]
  },
  {
   "cell_type": "markdown",
   "metadata": {},
   "source": [
    "## Análise dos dados"
   ]
  },
  {
   "cell_type": "code",
   "execution_count": 35,
   "metadata": {
    "colab": {
     "base_uri": "https://localhost:8080/",
     "height": 331
    },
    "id": "YrFri9kVxjYA",
    "outputId": "a3c744a6-4064-42c8-fc12-adee24725bd7"
   },
   "outputs": [
    {
     "data": {
      "text/html": [
       "<style type=\"text/css\">\n",
       "#T_fda15_row0_col0, #T_fda15_row1_col1, #T_fda15_row2_col2, #T_fda15_row3_col3, #T_fda15_row4_col4, #T_fda15_row5_col5, #T_fda15_row6_col6, #T_fda15_row7_col7, #T_fda15_row8_col8 {\n",
       "  background-color: #fde725;\n",
       "  color: #000000;\n",
       "}\n",
       "#T_fda15_row0_col1 {\n",
       "  background-color: #481769;\n",
       "  color: #f1f1f1;\n",
       "}\n",
       "#T_fda15_row0_col2, #T_fda15_row6_col8 {\n",
       "  background-color: #482677;\n",
       "  color: #f1f1f1;\n",
       "}\n",
       "#T_fda15_row0_col3 {\n",
       "  background-color: #450559;\n",
       "  color: #f1f1f1;\n",
       "}\n",
       "#T_fda15_row0_col4, #T_fda15_row0_col5, #T_fda15_row0_col6, #T_fda15_row2_col8, #T_fda15_row3_col0, #T_fda15_row3_col1, #T_fda15_row3_col7, #T_fda15_row6_col2, #T_fda15_row7_col3 {\n",
       "  background-color: #440154;\n",
       "  color: #f1f1f1;\n",
       "}\n",
       "#T_fda15_row0_col7 {\n",
       "  background-color: #1fa287;\n",
       "  color: #f1f1f1;\n",
       "}\n",
       "#T_fda15_row0_col8, #T_fda15_row5_col6 {\n",
       "  background-color: #453781;\n",
       "  color: #f1f1f1;\n",
       "}\n",
       "#T_fda15_row1_col0 {\n",
       "  background-color: #424186;\n",
       "  color: #f1f1f1;\n",
       "}\n",
       "#T_fda15_row1_col2 {\n",
       "  background-color: #482576;\n",
       "  color: #f1f1f1;\n",
       "}\n",
       "#T_fda15_row1_col3 {\n",
       "  background-color: #453581;\n",
       "  color: #f1f1f1;\n",
       "}\n",
       "#T_fda15_row1_col4 {\n",
       "  background-color: #2c738e;\n",
       "  color: #f1f1f1;\n",
       "}\n",
       "#T_fda15_row1_col5 {\n",
       "  background-color: #3e4a89;\n",
       "  color: #f1f1f1;\n",
       "}\n",
       "#T_fda15_row1_col6 {\n",
       "  background-color: #443983;\n",
       "  color: #f1f1f1;\n",
       "}\n",
       "#T_fda15_row1_col7 {\n",
       "  background-color: #31678e;\n",
       "  color: #f1f1f1;\n",
       "}\n",
       "#T_fda15_row1_col8 {\n",
       "  background-color: #287c8e;\n",
       "  color: #f1f1f1;\n",
       "}\n",
       "#T_fda15_row2_col0 {\n",
       "  background-color: #3f4788;\n",
       "  color: #f1f1f1;\n",
       "}\n",
       "#T_fda15_row2_col1, #T_fda15_row6_col1 {\n",
       "  background-color: #481c6e;\n",
       "  color: #f1f1f1;\n",
       "}\n",
       "#T_fda15_row2_col3, #T_fda15_row8_col5 {\n",
       "  background-color: #3a538b;\n",
       "  color: #f1f1f1;\n",
       "}\n",
       "#T_fda15_row2_col4 {\n",
       "  background-color: #46337f;\n",
       "  color: #f1f1f1;\n",
       "}\n",
       "#T_fda15_row2_col5 {\n",
       "  background-color: #3c4f8a;\n",
       "  color: #f1f1f1;\n",
       "}\n",
       "#T_fda15_row2_col6 {\n",
       "  background-color: #481b6d;\n",
       "  color: #f1f1f1;\n",
       "}\n",
       "#T_fda15_row2_col7, #T_fda15_row8_col7 {\n",
       "  background-color: #33638d;\n",
       "  color: #f1f1f1;\n",
       "}\n",
       "#T_fda15_row3_col2 {\n",
       "  background-color: #46327e;\n",
       "  color: #f1f1f1;\n",
       "}\n",
       "#T_fda15_row3_col4 {\n",
       "  background-color: #238a8d;\n",
       "  color: #f1f1f1;\n",
       "}\n",
       "#T_fda15_row3_col5 {\n",
       "  background-color: #2e6f8e;\n",
       "  color: #f1f1f1;\n",
       "}\n",
       "#T_fda15_row3_col6, #T_fda15_row7_col1, #T_fda15_row7_col2 {\n",
       "  background-color: #404688;\n",
       "  color: #f1f1f1;\n",
       "}\n",
       "#T_fda15_row3_col8 {\n",
       "  background-color: #440256;\n",
       "  color: #f1f1f1;\n",
       "}\n",
       "#T_fda15_row4_col0 {\n",
       "  background-color: #450457;\n",
       "  color: #f1f1f1;\n",
       "}\n",
       "#T_fda15_row4_col1 {\n",
       "  background-color: #365c8d;\n",
       "  color: #f1f1f1;\n",
       "}\n",
       "#T_fda15_row4_col2 {\n",
       "  background-color: #471063;\n",
       "  color: #f1f1f1;\n",
       "}\n",
       "#T_fda15_row4_col3 {\n",
       "  background-color: #228d8d;\n",
       "  color: #f1f1f1;\n",
       "}\n",
       "#T_fda15_row4_col5, #T_fda15_row7_col8 {\n",
       "  background-color: #423f85;\n",
       "  color: #f1f1f1;\n",
       "}\n",
       "#T_fda15_row4_col6, #T_fda15_row5_col2 {\n",
       "  background-color: #3f4889;\n",
       "  color: #f1f1f1;\n",
       "}\n",
       "#T_fda15_row4_col7, #T_fda15_row4_col8 {\n",
       "  background-color: #481668;\n",
       "  color: #f1f1f1;\n",
       "}\n",
       "#T_fda15_row5_col0 {\n",
       "  background-color: #482071;\n",
       "  color: #f1f1f1;\n",
       "}\n",
       "#T_fda15_row5_col1 {\n",
       "  background-color: #433d84;\n",
       "  color: #f1f1f1;\n",
       "}\n",
       "#T_fda15_row5_col3 {\n",
       "  background-color: #277e8e;\n",
       "  color: #f1f1f1;\n",
       "}\n",
       "#T_fda15_row5_col4 {\n",
       "  background-color: #3b528b;\n",
       "  color: #f1f1f1;\n",
       "}\n",
       "#T_fda15_row5_col7 {\n",
       "  background-color: #472e7c;\n",
       "  color: #f1f1f1;\n",
       "}\n",
       "#T_fda15_row5_col8 {\n",
       "  background-color: #404588;\n",
       "  color: #f1f1f1;\n",
       "}\n",
       "#T_fda15_row6_col0 {\n",
       "  background-color: #471365;\n",
       "  color: #f1f1f1;\n",
       "}\n",
       "#T_fda15_row6_col3 {\n",
       "  background-color: #3a548c;\n",
       "  color: #f1f1f1;\n",
       "}\n",
       "#T_fda15_row6_col4 {\n",
       "  background-color: #3b518b;\n",
       "  color: #f1f1f1;\n",
       "}\n",
       "#T_fda15_row6_col5 {\n",
       "  background-color: #472a7a;\n",
       "  color: #f1f1f1;\n",
       "}\n",
       "#T_fda15_row6_col7 {\n",
       "  background-color: #472c7a;\n",
       "  color: #f1f1f1;\n",
       "}\n",
       "#T_fda15_row7_col0 {\n",
       "  background-color: #1fa188;\n",
       "  color: #f1f1f1;\n",
       "}\n",
       "#T_fda15_row7_col4 {\n",
       "  background-color: #470e61;\n",
       "  color: #f1f1f1;\n",
       "}\n",
       "#T_fda15_row7_col5, #T_fda15_row8_col2 {\n",
       "  background-color: #470d60;\n",
       "  color: #f1f1f1;\n",
       "}\n",
       "#T_fda15_row7_col6 {\n",
       "  background-color: #481a6c;\n",
       "  color: #f1f1f1;\n",
       "}\n",
       "#T_fda15_row8_col0 {\n",
       "  background-color: #375b8d;\n",
       "  color: #f1f1f1;\n",
       "}\n",
       "#T_fda15_row8_col1 {\n",
       "  background-color: #287d8e;\n",
       "  color: #f1f1f1;\n",
       "}\n",
       "#T_fda15_row8_col3 {\n",
       "  background-color: #453882;\n",
       "  color: #f1f1f1;\n",
       "}\n",
       "#T_fda15_row8_col4 {\n",
       "  background-color: #424086;\n",
       "  color: #f1f1f1;\n",
       "}\n",
       "#T_fda15_row8_col6 {\n",
       "  background-color: #414487;\n",
       "  color: #f1f1f1;\n",
       "}\n",
       "</style>\n",
       "<table id=\"T_fda15\">\n",
       "  <thead>\n",
       "    <tr>\n",
       "      <th class=\"blank level0\" >&nbsp;</th>\n",
       "      <th id=\"T_fda15_level0_col0\" class=\"col_heading level0 col0\" >quant_gravidez</th>\n",
       "      <th id=\"T_fda15_level0_col1\" class=\"col_heading level0 col1\" >glicose</th>\n",
       "      <th id=\"T_fda15_level0_col2\" class=\"col_heading level0 col2\" >pressao_saguinea</th>\n",
       "      <th id=\"T_fda15_level0_col3\" class=\"col_heading level0 col3\" >espesura_pele</th>\n",
       "      <th id=\"T_fda15_level0_col4\" class=\"col_heading level0 col4\" >insulina</th>\n",
       "      <th id=\"T_fda15_level0_col5\" class=\"col_heading level0 col5\" >imc</th>\n",
       "      <th id=\"T_fda15_level0_col6\" class=\"col_heading level0 col6\" >diabetes_genetica</th>\n",
       "      <th id=\"T_fda15_level0_col7\" class=\"col_heading level0 col7\" >idade</th>\n",
       "      <th id=\"T_fda15_level0_col8\" class=\"col_heading level0 col8\" >target</th>\n",
       "    </tr>\n",
       "  </thead>\n",
       "  <tbody>\n",
       "    <tr>\n",
       "      <th id=\"T_fda15_level0_row0\" class=\"row_heading level0 row0\" >quant_gravidez</th>\n",
       "      <td id=\"T_fda15_row0_col0\" class=\"data row0 col0\" >1.000000</td>\n",
       "      <td id=\"T_fda15_row0_col1\" class=\"data row0 col1\" >0.124729</td>\n",
       "      <td id=\"T_fda15_row0_col2\" class=\"data row0 col2\" >0.143599</td>\n",
       "      <td id=\"T_fda15_row0_col3\" class=\"data row0 col3\" >-0.085663</td>\n",
       "      <td id=\"T_fda15_row0_col4\" class=\"data row0 col4\" >-0.076876</td>\n",
       "      <td id=\"T_fda15_row0_col5\" class=\"data row0 col5\" >0.010874</td>\n",
       "      <td id=\"T_fda15_row0_col6\" class=\"data row0 col6\" >-0.034159</td>\n",
       "      <td id=\"T_fda15_row0_col7\" class=\"data row0 col7\" >0.532993</td>\n",
       "      <td id=\"T_fda15_row0_col8\" class=\"data row0 col8\" >0.220380</td>\n",
       "    </tr>\n",
       "    <tr>\n",
       "      <th id=\"T_fda15_level0_row1\" class=\"row_heading level0 row1\" >glicose</th>\n",
       "      <td id=\"T_fda15_row1_col0\" class=\"data row1 col0\" >0.124729</td>\n",
       "      <td id=\"T_fda15_row1_col1\" class=\"data row1 col1\" >1.000000</td>\n",
       "      <td id=\"T_fda15_row1_col2\" class=\"data row1 col2\" >0.140420</td>\n",
       "      <td id=\"T_fda15_row1_col3\" class=\"data row1 col3\" >0.067604</td>\n",
       "      <td id=\"T_fda15_row1_col4\" class=\"data row1 col4\" >0.333652</td>\n",
       "      <td id=\"T_fda15_row1_col5\" class=\"data row1 col5\" >0.231745</td>\n",
       "      <td id=\"T_fda15_row1_col6\" class=\"data row1 col6\" >0.137337</td>\n",
       "      <td id=\"T_fda15_row1_col7\" class=\"data row1 col7\" >0.262591</td>\n",
       "      <td id=\"T_fda15_row1_col8\" class=\"data row1 col8\" >0.459152</td>\n",
       "    </tr>\n",
       "    <tr>\n",
       "      <th id=\"T_fda15_level0_row2\" class=\"row_heading level0 row2\" >pressao_saguinea</th>\n",
       "      <td id=\"T_fda15_row2_col0\" class=\"data row2 col0\" >0.143599</td>\n",
       "      <td id=\"T_fda15_row2_col1\" class=\"data row2 col1\" >0.140420</td>\n",
       "      <td id=\"T_fda15_row2_col2\" class=\"data row2 col2\" >1.000000</td>\n",
       "      <td id=\"T_fda15_row2_col3\" class=\"data row2 col3\" >0.178080</td>\n",
       "      <td id=\"T_fda15_row2_col4\" class=\"data row2 col4\" >0.082516</td>\n",
       "      <td id=\"T_fda15_row2_col5\" class=\"data row2 col5\" >0.249552</td>\n",
       "      <td id=\"T_fda15_row2_col6\" class=\"data row2 col6\" >0.042145</td>\n",
       "      <td id=\"T_fda15_row2_col7\" class=\"data row2 col7\" >0.243475</td>\n",
       "      <td id=\"T_fda15_row2_col8\" class=\"data row2 col8\" >0.073921</td>\n",
       "    </tr>\n",
       "    <tr>\n",
       "      <th id=\"T_fda15_level0_row3\" class=\"row_heading level0 row3\" >espesura_pele</th>\n",
       "      <td id=\"T_fda15_row3_col0\" class=\"data row3 col0\" >-0.085663</td>\n",
       "      <td id=\"T_fda15_row3_col1\" class=\"data row3 col1\" >0.067604</td>\n",
       "      <td id=\"T_fda15_row3_col2\" class=\"data row3 col2\" >0.178080</td>\n",
       "      <td id=\"T_fda15_row3_col3\" class=\"data row3 col3\" >1.000000</td>\n",
       "      <td id=\"T_fda15_row3_col4\" class=\"data row3 col4\" >0.434904</td>\n",
       "      <td id=\"T_fda15_row3_col5\" class=\"data row3 col5\" >0.367135</td>\n",
       "      <td id=\"T_fda15_row3_col6\" class=\"data row3 col6\" >0.182582</td>\n",
       "      <td id=\"T_fda15_row3_col7\" class=\"data row3 col7\" >-0.101986</td>\n",
       "      <td id=\"T_fda15_row3_col8\" class=\"data row3 col8\" >0.078016</td>\n",
       "    </tr>\n",
       "    <tr>\n",
       "      <th id=\"T_fda15_level0_row4\" class=\"row_heading level0 row4\" >insulina</th>\n",
       "      <td id=\"T_fda15_row4_col0\" class=\"data row4 col0\" >-0.076876</td>\n",
       "      <td id=\"T_fda15_row4_col1\" class=\"data row4 col1\" >0.333652</td>\n",
       "      <td id=\"T_fda15_row4_col2\" class=\"data row4 col2\" >0.082516</td>\n",
       "      <td id=\"T_fda15_row4_col3\" class=\"data row4 col3\" >0.434904</td>\n",
       "      <td id=\"T_fda15_row4_col4\" class=\"data row4 col4\" >1.000000</td>\n",
       "      <td id=\"T_fda15_row4_col5\" class=\"data row4 col5\" >0.195511</td>\n",
       "      <td id=\"T_fda15_row4_col6\" class=\"data row4 col6\" >0.190193</td>\n",
       "      <td id=\"T_fda15_row4_col7\" class=\"data row4 col7\" >-0.038262</td>\n",
       "      <td id=\"T_fda15_row4_col8\" class=\"data row4 col8\" >0.127030</td>\n",
       "    </tr>\n",
       "    <tr>\n",
       "      <th id=\"T_fda15_level0_row5\" class=\"row_heading level0 row5\" >imc</th>\n",
       "      <td id=\"T_fda15_row5_col0\" class=\"data row5 col0\" >0.010874</td>\n",
       "      <td id=\"T_fda15_row5_col1\" class=\"data row5 col1\" >0.231745</td>\n",
       "      <td id=\"T_fda15_row5_col2\" class=\"data row5 col2\" >0.249552</td>\n",
       "      <td id=\"T_fda15_row5_col3\" class=\"data row5 col3\" >0.367135</td>\n",
       "      <td id=\"T_fda15_row5_col4\" class=\"data row5 col4\" >0.195511</td>\n",
       "      <td id=\"T_fda15_row5_col5\" class=\"data row5 col5\" >1.000000</td>\n",
       "      <td id=\"T_fda15_row5_col6\" class=\"data row5 col6\" >0.130382</td>\n",
       "      <td id=\"T_fda15_row5_col7\" class=\"data row5 col7\" >0.043150</td>\n",
       "      <td id=\"T_fda15_row5_col8\" class=\"data row5 col8\" >0.264761</td>\n",
       "    </tr>\n",
       "    <tr>\n",
       "      <th id=\"T_fda15_level0_row6\" class=\"row_heading level0 row6\" >diabetes_genetica</th>\n",
       "      <td id=\"T_fda15_row6_col0\" class=\"data row6 col0\" >-0.034159</td>\n",
       "      <td id=\"T_fda15_row6_col1\" class=\"data row6 col1\" >0.137337</td>\n",
       "      <td id=\"T_fda15_row6_col2\" class=\"data row6 col2\" >0.042145</td>\n",
       "      <td id=\"T_fda15_row6_col3\" class=\"data row6 col3\" >0.182582</td>\n",
       "      <td id=\"T_fda15_row6_col4\" class=\"data row6 col4\" >0.190193</td>\n",
       "      <td id=\"T_fda15_row6_col5\" class=\"data row6 col5\" >0.130382</td>\n",
       "      <td id=\"T_fda15_row6_col6\" class=\"data row6 col6\" >1.000000</td>\n",
       "      <td id=\"T_fda15_row6_col7\" class=\"data row6 col7\" >0.034839</td>\n",
       "      <td id=\"T_fda15_row6_col8\" class=\"data row6 col8\" >0.172160</td>\n",
       "    </tr>\n",
       "    <tr>\n",
       "      <th id=\"T_fda15_level0_row7\" class=\"row_heading level0 row7\" >idade</th>\n",
       "      <td id=\"T_fda15_row7_col0\" class=\"data row7 col0\" >0.532993</td>\n",
       "      <td id=\"T_fda15_row7_col1\" class=\"data row7 col1\" >0.262591</td>\n",
       "      <td id=\"T_fda15_row7_col2\" class=\"data row7 col2\" >0.243475</td>\n",
       "      <td id=\"T_fda15_row7_col3\" class=\"data row7 col3\" >-0.101986</td>\n",
       "      <td id=\"T_fda15_row7_col4\" class=\"data row7 col4\" >-0.038262</td>\n",
       "      <td id=\"T_fda15_row7_col5\" class=\"data row7 col5\" >0.043150</td>\n",
       "      <td id=\"T_fda15_row7_col6\" class=\"data row7 col6\" >0.034839</td>\n",
       "      <td id=\"T_fda15_row7_col7\" class=\"data row7 col7\" >1.000000</td>\n",
       "      <td id=\"T_fda15_row7_col8\" class=\"data row7 col8\" >0.244260</td>\n",
       "    </tr>\n",
       "    <tr>\n",
       "      <th id=\"T_fda15_level0_row8\" class=\"row_heading level0 row8\" >target</th>\n",
       "      <td id=\"T_fda15_row8_col0\" class=\"data row8 col0\" >0.220380</td>\n",
       "      <td id=\"T_fda15_row8_col1\" class=\"data row8 col1\" >0.459152</td>\n",
       "      <td id=\"T_fda15_row8_col2\" class=\"data row8 col2\" >0.073921</td>\n",
       "      <td id=\"T_fda15_row8_col3\" class=\"data row8 col3\" >0.078016</td>\n",
       "      <td id=\"T_fda15_row8_col4\" class=\"data row8 col4\" >0.127030</td>\n",
       "      <td id=\"T_fda15_row8_col5\" class=\"data row8 col5\" >0.264761</td>\n",
       "      <td id=\"T_fda15_row8_col6\" class=\"data row8 col6\" >0.172160</td>\n",
       "      <td id=\"T_fda15_row8_col7\" class=\"data row8 col7\" >0.244260</td>\n",
       "      <td id=\"T_fda15_row8_col8\" class=\"data row8 col8\" >1.000000</td>\n",
       "    </tr>\n",
       "  </tbody>\n",
       "</table>\n"
      ],
      "text/plain": [
       "<pandas.io.formats.style.Styler at 0x7fcc47e33b20>"
      ]
     },
     "execution_count": 35,
     "metadata": {},
     "output_type": "execute_result"
    }
   ],
   "source": [
    "# Correlação entre as variáveis\n",
    "matrix_corr = data.corr()\n",
    "matrix_corr.style.background_gradient(cmap='viridis')"
   ]
  },
  {
   "cell_type": "code",
   "execution_count": 36,
   "metadata": {
    "colab": {
     "base_uri": "https://localhost:8080/",
     "height": 1000
    },
    "id": "FigdVcY7x2cR",
    "outputId": "d530a336-8067-4046-965e-bb34aa022e12"
   },
   "outputs": [
    {
     "data": {
      "image/png": "[encoded data removed]",
      "text/plain": [
       "<Figure size 640x480 with 1 Axes>"
      ]
     },
     "metadata": {},
     "output_type": "display_data"
    },
    {
     "data": {
      "image/png": "[encoded data removed]",
      "text/plain": [
       "<Figure size 640x480 with 1 Axes>"
      ]
     },
     "metadata": {},
     "output_type": "display_data"
    },
    {
     "data": {
      "image/png": "[encoded data removed]",
      "text/plain": [
       "<Figure size 640x480 with 1 Axes>"
      ]
     },
     "metadata": {},
     "output_type": "display_data"
    },
    {
     "data": {
      "image/png": "[encoded data removed]",
      "text/plain": [
       "<Figure size 640x480 with 1 Axes>"
      ]
     },
     "metadata": {},
     "output_type": "display_data"
    },
    {
     "data": {
      "image/png": "[encoded data removed]",
      "text/plain": [
       "<Figure size 640x480 with 1 Axes>"
      ]
     },
     "metadata": {},
     "output_type": "display_data"
    },
    {
     "data": {
      "image/png": "[encoded data removed]",
      "text/plain": [
       "<Figure size 640x480 with 1 Axes>"
      ]
     },
     "metadata": {},
     "output_type": "display_data"
    },
    {
     "data": {
      "image/png": "[encoded data removed]",
      "text/plain": [
       "<Figure size 640x480 with 1 Axes>"
      ]
     },
     "metadata": {},
     "output_type": "display_data"
    },
    {
     "data": {
      "image/png": "[encoded data removed]",
      "text/plain": [
       "<Figure size 640x480 with 1 Axes>"
      ]
     },
     "metadata": {},
     "output_type": "display_data"
    }
   ],
   "source": [
    "# Distribuição dos dados das variáveis independentes\n",
    "features = list(data.columns)[:-1]\n",
    "for col in features:\n",
    "    sns.histplot(data[col])\n",
    "    plt.title(f\"Feature: {col}\")\n",
    "    plt.xlabel(\"Valores\")\n",
    "    plt.ylabel(\"Contagem\")\n",
    "    plt.show()"
   ]
  },
  {
   "cell_type": "code",
   "execution_count": 37,
   "metadata": {},
   "outputs": [
    {
     "data": {
      "image/png": "[encoded data removed]",
      "text/plain": [
       "<Figure size 640x480 with 1 Axes>"
      ]
     },
     "metadata": {},
     "output_type": "display_data"
    }
   ],
   "source": [
    "# Visualização do balanceamento da variável dependente\n",
    "sns.countplot(data.target, x=data.target.index)\n",
    "plt.title(\"Contagem de valores na variável dependente\")\n",
    "plt.xlabel('Valores')\n",
    "plt.ylabel('Contagem')\n",
    "plt.show()"
   ]
  },
  {
   "cell_type": "code",
   "execution_count": 38,
   "metadata": {
    "id": "fLl32cW00ik_"
   },
   "outputs": [],
   "source": [
    "# Seleção das variáveis dependente e independentes\n",
    "y = data.target # Variável dependente\n",
    "X = data.drop('target', axis=1) # variáveis indepentes"
   ]
  },
  {
   "cell_type": "code",
   "execution_count": 39,
   "metadata": {
    "id": "caarRzY52YbG"
   },
   "outputs": [],
   "source": [
    "# Função para medir os resultados do modelo\n",
    "def results(y_test,y_pred):\n",
    "    results = confusion_matrix(y_test, y_pred)\n",
    "    print ('Confusion Matrix :')\n",
    "    print(results)\n",
    "    accuracy = accuracy_score(y_test, y_pred)\n",
    "    print(\"Accuracy: %.2f%%\" % (accuracy * 100.0))\n",
    "    print ('Report : ')\n",
    "    print (classification_report(y_test, y_pred))\n",
    "    return accuracy\n",
    "\n",
    "# Função para treinar o modelo e realizar previsões\n",
    "def compute_knn(X, y, k):\n",
    "    X_train, X_test, y_train, y_test = train_test_split(X, y, test_size=0.2, random_state=42)\n",
    "    model = KNeighborsClassifier(n_neighbors=k, metric='euclidean', algorithm='auto')\n",
    "    model.fit(X_train, y_train)\n",
    "\n",
    "    y_pred = model.predict(X_test)\n",
    "\n",
    "    accuracy = results(y_test, y_pred)\n",
    "\n",
    "    return accuracy\n"
   ]
  },
  {
   "cell_type": "code",
   "execution_count": 40,
   "metadata": {
    "colab": {
     "base_uri": "https://localhost:8080/"
    },
    "id": "aywD8gTE3OII",
    "outputId": "22e1da70-d84f-451e-f699-1488647362c1"
   },
   "outputs": [
    {
     "name": "stdout",
     "output_type": "stream",
     "text": [
      "============================================================\n",
      "K: 3\n",
      "============================================================\n",
      "Confusion Matrix :\n",
      "[[85 25]\n",
      " [20 26]]\n",
      "Accuracy: 71.15%\n",
      "Report : \n",
      "              precision    recall  f1-score   support\n",
      "\n",
      "           0       0.81      0.77      0.79       110\n",
      "           1       0.51      0.57      0.54        46\n",
      "\n",
      "    accuracy                           0.71       156\n",
      "   macro avg       0.66      0.67      0.66       156\n",
      "weighted avg       0.72      0.71      0.72       156\n",
      "\n",
      "============================================================\n",
      "K: 5\n",
      "============================================================\n",
      "Confusion Matrix :\n",
      "[[85 25]\n",
      " [23 23]]\n",
      "Accuracy: 69.23%\n",
      "Report : \n",
      "              precision    recall  f1-score   support\n",
      "\n",
      "           0       0.79      0.77      0.78       110\n",
      "           1       0.48      0.50      0.49        46\n",
      "\n",
      "    accuracy                           0.69       156\n",
      "   macro avg       0.63      0.64      0.63       156\n",
      "weighted avg       0.70      0.69      0.69       156\n",
      "\n",
      "============================================================\n",
      "K: 7\n",
      "============================================================\n",
      "Confusion Matrix :\n",
      "[[84 26]\n",
      " [22 24]]\n",
      "Accuracy: 69.23%\n",
      "Report : \n",
      "              precision    recall  f1-score   support\n",
      "\n",
      "           0       0.79      0.76      0.78       110\n",
      "           1       0.48      0.52      0.50        46\n",
      "\n",
      "    accuracy                           0.69       156\n",
      "   macro avg       0.64      0.64      0.64       156\n",
      "weighted avg       0.70      0.69      0.70       156\n",
      "\n",
      "============================================================\n",
      "K: 9\n",
      "============================================================\n",
      "Confusion Matrix :\n",
      "[[88 22]\n",
      " [21 25]]\n",
      "Accuracy: 72.44%\n",
      "Report : \n",
      "              precision    recall  f1-score   support\n",
      "\n",
      "           0       0.81      0.80      0.80       110\n",
      "           1       0.53      0.54      0.54        46\n",
      "\n",
      "    accuracy                           0.72       156\n",
      "   macro avg       0.67      0.67      0.67       156\n",
      "weighted avg       0.73      0.72      0.73       156\n",
      "\n",
      "============================================================\n",
      "K: 11\n",
      "============================================================\n",
      "Confusion Matrix :\n",
      "[[90 20]\n",
      " [20 26]]\n",
      "Accuracy: 74.36%\n",
      "Report : \n",
      "              precision    recall  f1-score   support\n",
      "\n",
      "           0       0.82      0.82      0.82       110\n",
      "           1       0.57      0.57      0.57        46\n",
      "\n",
      "    accuracy                           0.74       156\n",
      "   macro avg       0.69      0.69      0.69       156\n",
      "weighted avg       0.74      0.74      0.74       156\n",
      "\n",
      "============================================================\n",
      "K: 13\n",
      "============================================================\n",
      "Confusion Matrix :\n",
      "[[90 20]\n",
      " [20 26]]\n",
      "Accuracy: 74.36%\n",
      "Report : \n",
      "              precision    recall  f1-score   support\n",
      "\n",
      "           0       0.82      0.82      0.82       110\n",
      "           1       0.57      0.57      0.57        46\n",
      "\n",
      "    accuracy                           0.74       156\n",
      "   macro avg       0.69      0.69      0.69       156\n",
      "weighted avg       0.74      0.74      0.74       156\n",
      "\n",
      "============================================================\n",
      "K: 15\n",
      "============================================================\n",
      "Confusion Matrix :\n",
      "[[99 11]\n",
      " [20 26]]\n",
      "Accuracy: 80.13%\n",
      "Report : \n",
      "              precision    recall  f1-score   support\n",
      "\n",
      "           0       0.83      0.90      0.86       110\n",
      "           1       0.70      0.57      0.63        46\n",
      "\n",
      "    accuracy                           0.80       156\n",
      "   macro avg       0.77      0.73      0.75       156\n",
      "weighted avg       0.79      0.80      0.79       156\n",
      "\n",
      "============================================================\n",
      "K: 17\n",
      "============================================================\n",
      "Confusion Matrix :\n",
      "[[96 14]\n",
      " [19 27]]\n",
      "Accuracy: 78.85%\n",
      "Report : \n",
      "              precision    recall  f1-score   support\n",
      "\n",
      "           0       0.83      0.87      0.85       110\n",
      "           1       0.66      0.59      0.62        46\n",
      "\n",
      "    accuracy                           0.79       156\n",
      "   macro avg       0.75      0.73      0.74       156\n",
      "weighted avg       0.78      0.79      0.78       156\n",
      "\n",
      "============================================================\n",
      "K: 19\n",
      "============================================================\n",
      "Confusion Matrix :\n",
      "[[95 15]\n",
      " [20 26]]\n",
      "Accuracy: 77.56%\n",
      "Report : \n",
      "              precision    recall  f1-score   support\n",
      "\n",
      "           0       0.83      0.86      0.84       110\n",
      "           1       0.63      0.57      0.60        46\n",
      "\n",
      "    accuracy                           0.78       156\n",
      "   macro avg       0.73      0.71      0.72       156\n",
      "weighted avg       0.77      0.78      0.77       156\n",
      "\n",
      "============================================================\n",
      "K: 21\n",
      "============================================================\n",
      "Confusion Matrix :\n",
      "[[96 14]\n",
      " [20 26]]\n",
      "Accuracy: 78.21%\n",
      "Report : \n",
      "              precision    recall  f1-score   support\n",
      "\n",
      "           0       0.83      0.87      0.85       110\n",
      "           1       0.65      0.57      0.60        46\n",
      "\n",
      "    accuracy                           0.78       156\n",
      "   macro avg       0.74      0.72      0.73       156\n",
      "weighted avg       0.78      0.78      0.78       156\n",
      "\n",
      "============================================================\n",
      "K: 23\n",
      "============================================================\n",
      "Confusion Matrix :\n",
      "[[95 15]\n",
      " [22 24]]\n",
      "Accuracy: 76.28%\n",
      "Report : \n",
      "              precision    recall  f1-score   support\n",
      "\n",
      "           0       0.81      0.86      0.84       110\n",
      "           1       0.62      0.52      0.56        46\n",
      "\n",
      "    accuracy                           0.76       156\n",
      "   macro avg       0.71      0.69      0.70       156\n",
      "weighted avg       0.75      0.76      0.76       156\n",
      "\n",
      "============================================================\n",
      "K: 25\n",
      "============================================================\n",
      "Confusion Matrix :\n",
      "[[96 14]\n",
      " [21 25]]\n",
      "Accuracy: 77.56%\n",
      "Report : \n",
      "              precision    recall  f1-score   support\n",
      "\n",
      "           0       0.82      0.87      0.85       110\n",
      "           1       0.64      0.54      0.59        46\n",
      "\n",
      "    accuracy                           0.78       156\n",
      "   macro avg       0.73      0.71      0.72       156\n",
      "weighted avg       0.77      0.78      0.77       156\n",
      "\n",
      "============================================================\n",
      "K: 27\n",
      "============================================================\n",
      "Confusion Matrix :\n",
      "[[95 15]\n",
      " [23 23]]\n",
      "Accuracy: 75.64%\n",
      "Report : \n",
      "              precision    recall  f1-score   support\n",
      "\n",
      "           0       0.81      0.86      0.83       110\n",
      "           1       0.61      0.50      0.55        46\n",
      "\n",
      "    accuracy                           0.76       156\n",
      "   macro avg       0.71      0.68      0.69       156\n",
      "weighted avg       0.75      0.76      0.75       156\n",
      "\n",
      "============================================================\n",
      "K: 29\n",
      "============================================================\n",
      "Confusion Matrix :\n",
      "[[96 14]\n",
      " [22 24]]\n",
      "Accuracy: 76.92%\n",
      "Report : \n",
      "              precision    recall  f1-score   support\n",
      "\n",
      "           0       0.81      0.87      0.84       110\n",
      "           1       0.63      0.52      0.57        46\n",
      "\n",
      "    accuracy                           0.77       156\n",
      "   macro avg       0.72      0.70      0.71       156\n",
      "weighted avg       0.76      0.77      0.76       156\n",
      "\n"
     ]
    }
   ],
   "source": [
    "# Treinamento do modelo, experimentando k=(3~30)\n",
    "\n",
    "resultados = []\n",
    "for k in range(3, 31, 2):\n",
    "    print(\"==\"*30)\n",
    "    print(\"K:\",k)\n",
    "    print(\"==\"*30)\n",
    "    acc = compute_knn(X, y, k)\n",
    "    resultados.append({'k':k, 'accuracy':acc})"
   ]
  },
  {
   "cell_type": "code",
   "execution_count": 41,
   "metadata": {
    "colab": {
     "base_uri": "https://localhost:8080/",
     "height": 488
    },
    "id": "wWMl3IRF3Q-e",
    "outputId": "1a9a6d7c-6cc2-4609-ea4d-db5291e376fd"
   },
   "outputs": [
    {
     "data": {
      "text/html": [
       "<div>\n",
       "<style scoped>\n",
       "    .dataframe tbody tr th:only-of-type {\n",
       "        vertical-align: middle;\n",
       "    }\n",
       "\n",
       "    .dataframe tbody tr th {\n",
       "        vertical-align: top;\n",
       "    }\n",
       "\n",
       "    .dataframe thead th {\n",
       "        text-align: right;\n",
       "    }\n",
       "</style>\n",
       "<table border=\"1\" class=\"dataframe\">\n",
       "  <thead>\n",
       "    <tr style=\"text-align: right;\">\n",
       "      <th></th>\n",
       "      <th>k</th>\n",
       "      <th>accuracy</th>\n",
       "    </tr>\n",
       "  </thead>\n",
       "  <tbody>\n",
       "    <tr>\n",
       "      <th>0</th>\n",
       "      <td>3</td>\n",
       "      <td>0.711538</td>\n",
       "    </tr>\n",
       "    <tr>\n",
       "      <th>1</th>\n",
       "      <td>5</td>\n",
       "      <td>0.692308</td>\n",
       "    </tr>\n",
       "    <tr>\n",
       "      <th>2</th>\n",
       "      <td>7</td>\n",
       "      <td>0.692308</td>\n",
       "    </tr>\n",
       "    <tr>\n",
       "      <th>3</th>\n",
       "      <td>9</td>\n",
       "      <td>0.724359</td>\n",
       "    </tr>\n",
       "    <tr>\n",
       "      <th>4</th>\n",
       "      <td>11</td>\n",
       "      <td>0.743590</td>\n",
       "    </tr>\n",
       "    <tr>\n",
       "      <th>5</th>\n",
       "      <td>13</td>\n",
       "      <td>0.743590</td>\n",
       "    </tr>\n",
       "    <tr>\n",
       "      <th>6</th>\n",
       "      <td>15</td>\n",
       "      <td>0.801282</td>\n",
       "    </tr>\n",
       "    <tr>\n",
       "      <th>7</th>\n",
       "      <td>17</td>\n",
       "      <td>0.788462</td>\n",
       "    </tr>\n",
       "    <tr>\n",
       "      <th>8</th>\n",
       "      <td>19</td>\n",
       "      <td>0.775641</td>\n",
       "    </tr>\n",
       "    <tr>\n",
       "      <th>9</th>\n",
       "      <td>21</td>\n",
       "      <td>0.782051</td>\n",
       "    </tr>\n",
       "    <tr>\n",
       "      <th>10</th>\n",
       "      <td>23</td>\n",
       "      <td>0.762821</td>\n",
       "    </tr>\n",
       "    <tr>\n",
       "      <th>11</th>\n",
       "      <td>25</td>\n",
       "      <td>0.775641</td>\n",
       "    </tr>\n",
       "    <tr>\n",
       "      <th>12</th>\n",
       "      <td>27</td>\n",
       "      <td>0.756410</td>\n",
       "    </tr>\n",
       "    <tr>\n",
       "      <th>13</th>\n",
       "      <td>29</td>\n",
       "      <td>0.769231</td>\n",
       "    </tr>\n",
       "  </tbody>\n",
       "</table>\n",
       "</div>"
      ],
      "text/plain": [
       "     k  accuracy\n",
       "0    3  0.711538\n",
       "1    5  0.692308\n",
       "2    7  0.692308\n",
       "3    9  0.724359\n",
       "4   11  0.743590\n",
       "5   13  0.743590\n",
       "6   15  0.801282\n",
       "7   17  0.788462\n",
       "8   19  0.775641\n",
       "9   21  0.782051\n",
       "10  23  0.762821\n",
       "11  25  0.775641\n",
       "12  27  0.756410\n",
       "13  29  0.769231"
      ]
     },
     "execution_count": 41,
     "metadata": {},
     "output_type": "execute_result"
    }
   ],
   "source": [
    "# Observando os resoltados do experimento num DataFrame\n",
    "resultados_df = pd.DataFrame(resultados)\n",
    "resultados_df"
   ]
  },
  {
   "cell_type": "code",
   "execution_count": 42,
   "metadata": {
    "colab": {
     "base_uri": "https://localhost:8080/",
     "height": 472
    },
    "id": "NHcPHJ2p6fdG",
    "outputId": "1cf5429a-af77-4e0d-bac7-59c815eafc69"
   },
   "outputs": [
    {
     "data": {
      "image/png": "[encoded data removed]",
      "text/plain": [
       "<Figure size 640x480 with 1 Axes>"
      ]
     },
     "metadata": {},
     "output_type": "display_data"
    }
   ],
   "source": [
    "# Pltando os dados para verificação da melhor calibração do k\n",
    "sns.lineplot(data=resultados_df, x='k', y='accuracy', linestyle='dashed')\n",
    "plt.grid(visible=True)\n",
    "plt.title(\"Avaliação da acurácia em função da escolha do k\")\n",
    "plt.xlabel('k-n')\n",
    "plt.ylabel('Acurácia')\n",
    "plt.show()"
   ]
  },
  {
   "cell_type": "code",
   "execution_count": 43,
   "metadata": {
    "colab": {
     "base_uri": "https://localhost:8080/"
    },
    "id": "v1Eie7wl68vT",
    "outputId": "06c1f7e6-19f1-497e-93a4-59e819cd603c"
   },
   "outputs": [
    {
     "name": "stdout",
     "output_type": "stream",
     "text": [
      "Confusion Matrix :\n",
      "[[99 11]\n",
      " [20 26]]\n",
      "Accuracy: 80.13%\n",
      "Report : \n",
      "              precision    recall  f1-score   support\n",
      "\n",
      "           0       0.83      0.90      0.86       110\n",
      "           1       0.70      0.57      0.63        46\n",
      "\n",
      "    accuracy                           0.80       156\n",
      "   macro avg       0.77      0.73      0.75       156\n",
      "weighted avg       0.79      0.80      0.79       156\n",
      "\n"
     ]
    },
    {
     "data": {
      "text/plain": [
       "0.8012820512820513"
      ]
     },
     "execution_count": 43,
     "metadata": {},
     "output_type": "execute_result"
    }
   ],
   "source": [
    "# Treinando novamente o modelo utilizando o k=15 (melhor opção)\n",
    "compute_knn(X, y, 15)"
   ]
  }
 ],
 "metadata": {
  "colab": {
   "provenance": []
  },
  "kernelspec": {
   "display_name": "Python 3 (ipykernel)",
   "language": "python",
   "name": "python3"
  },
  "language_info": {
   "codemirror_mode": {
    "name": "ipython",
    "version": 3
   },
   "file_extension": ".py",
   "mimetype": "text/x-python",
   "name": "python",
   "nbconvert_exporter": "python",
   "pygments_lexer": "ipython3",
   "version": "3.10.12"
  }
 },
 "nbformat": 4,
 "nbformat_minor": 4
}
