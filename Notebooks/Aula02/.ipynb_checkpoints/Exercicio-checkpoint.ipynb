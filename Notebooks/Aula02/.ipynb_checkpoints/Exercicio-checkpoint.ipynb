{
 "cells": [
  {
   "cell_type": "code",
   "execution_count": 12,
   "id": "2e86241e",
   "metadata": {},
   "outputs": [],
   "source": [
    "import pandas as pd\n",
    "import matplotlib.pyplot as plt\n",
    "import seaborn as sns\n",
    "\n",
    "DARKGRID = \"darkgrid\"\n",
    "sns.set_style(DARKGRID)"
   ]
  },
  {
   "cell_type": "markdown",
   "id": "ffcb22fd",
   "metadata": {},
   "source": [
    "# Exercício"
   ]
  },
  {
   "cell_type": "markdown",
   "id": "6d0f5db4",
   "metadata": {},
   "source": [
    "1. **Gráfico de Linha:**\n",
    "   Crie um gráfico de linha mostrando o crescimento populacional ao longo dos anos (populacao_brasileira.csv) ou variação de idades ao longo dos registros (german_credit_data.csv).\n"
   ]
  },
  {
   "cell_type": "code",
   "execution_count": 8,
   "id": "dd4ac25a",
   "metadata": {},
   "outputs": [
    {
     "data": {
      "text/plain": [
       "(37, 2)"
      ]
     },
     "metadata": {},
     "output_type": "display_data"
    },
    {
     "data": {
      "text/html": [
       "<div>\n",
       "<style scoped>\n",
       "    .dataframe tbody tr th:only-of-type {\n",
       "        vertical-align: middle;\n",
       "    }\n",
       "\n",
       "    .dataframe tbody tr th {\n",
       "        vertical-align: top;\n",
       "    }\n",
       "\n",
       "    .dataframe thead th {\n",
       "        text-align: right;\n",
       "    }\n",
       "</style>\n",
       "<table border=\"1\" class=\"dataframe\">\n",
       "  <thead>\n",
       "    <tr style=\"text-align: right;\">\n",
       "      <th></th>\n",
       "      <th>year</th>\n",
       "      <th>population</th>\n",
       "    </tr>\n",
       "  </thead>\n",
       "  <tbody>\n",
       "    <tr>\n",
       "      <th>0</th>\n",
       "      <td>1980</td>\n",
       "      <td>119011052</td>\n",
       "    </tr>\n",
       "    <tr>\n",
       "      <th>1</th>\n",
       "      <td>1981</td>\n",
       "      <td>121154159</td>\n",
       "    </tr>\n",
       "    <tr>\n",
       "      <th>2</th>\n",
       "      <td>1982</td>\n",
       "      <td>123774229</td>\n",
       "    </tr>\n",
       "    <tr>\n",
       "      <th>3</th>\n",
       "      <td>1983</td>\n",
       "      <td>126403352</td>\n",
       "    </tr>\n",
       "    <tr>\n",
       "      <th>4</th>\n",
       "      <td>1984</td>\n",
       "      <td>129025577</td>\n",
       "    </tr>\n",
       "  </tbody>\n",
       "</table>\n",
       "</div>"
      ],
      "text/plain": [
       "   year  population\n",
       "0  1980   119011052\n",
       "1  1981   121154159\n",
       "2  1982   123774229\n",
       "3  1983   126403352\n",
       "4  1984   129025577"
      ]
     },
     "metadata": {},
     "output_type": "display_data"
    }
   ],
   "source": [
    "populacao = pd.read_csv('./../../Datasets/populacao_brasileira.csv', sep=';')\n",
    "display(populacao.shape, populacao.head())\n"
   ]
  },
  {
   "cell_type": "code",
   "execution_count": 13,
   "id": "b8de21ce",
   "metadata": {},
   "outputs": [
    {
     "data": {
      "image/png": "[encoded data removed]",
      "text/plain": [
       "<Figure size 640x480 with 1 Axes>"
      ]
     },
     "metadata": {},
     "output_type": "display_data"
    }
   ],
   "source": [
    "fig = sns.lineplot(populacao, x='year', y='population')\n",
    "# fig.set_\n",
    "plt.show()"
   ]
  },
  {
   "cell_type": "code",
   "execution_count": null,
   "id": "f69085f4",
   "metadata": {},
   "outputs": [],
   "source": []
  },
  {
   "cell_type": "markdown",
   "id": "7ed4f764",
   "metadata": {},
   "source": [
    "\n",
    "2. **Gráfico de Barras:**\n",
    "   Represente a distribuição de frequência de variáveis qualitativas (categorias) (por exemplo, pessoas por sexo). \n",
    "\n",
    "1. **Gráfico de Pizza:**\n",
    "   Mostre a distribuição percentual de variáveis categóricas (por exemplo, distribuição dos propósitos).\n",
    "\n",
    "2. **Histograma:**\n",
    "   Crie um histograma para analisar a distribuição de uma variável (por exemplo, idade) em um conjunto de dados.\n",
    "\n",
    "3. **Gráfico de Dispersão:**\n",
    "   Visualize a relação entre 2 variáveis (por exemplo idade vs. valor do crédito) usando um gráfico de dispersão.\n",
    "\n",
    "4. **Gráfico de Boxplot:**\n",
    "   Crie um boxplot para analisar a distribuição de variáveis (por exemplo, distribuição de idade por sexo).\n",
    "\n",
    "5. **Mapa de Calor (Heatmap):**\n",
    "   Crie um mapa de calor para visualizar a correlação entre diferentes variáveis em um conjunto de dados."
   ]
  }
 ],
 "metadata": {
  "kernelspec": {
   "display_name": "Python 3 (ipykernel)",
   "language": "python",
   "name": "python3"
  },
  "language_info": {
   "codemirror_mode": {
    "name": "ipython",
    "version": 3
   },
   "file_extension": ".py",
   "mimetype": "text/x-python",
   "name": "python",
   "nbconvert_exporter": "python",
   "pygments_lexer": "ipython3",
   "version": "3.10.12"
  }
 },
 "nbformat": 4,
 "nbformat_minor": 5
}
