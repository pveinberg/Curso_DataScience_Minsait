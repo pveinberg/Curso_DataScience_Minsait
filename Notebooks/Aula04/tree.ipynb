{
 "cells": [
  {
   "cell_type": "code",
   "execution_count": 1,
   "metadata": {},
   "outputs": [],
   "source": [
    "# decision tree\n",
    "# ./github/profile/linea-144/data/linea144-2021.csv\n"
   ]
  },
  {
   "cell_type": "code",
   "execution_count": 2,
   "metadata": {},
   "outputs": [],
   "source": [
    "import os\n",
    "import pandas as pd\n",
    "import numpy as np\n",
    "from sklearn.preprocessing import LabelEncoder\n",
    "from sklearn.model_selection import train_test_split\n",
    "from sklearn.tree import DecisionTreeClassifier, export_graphviz\n",
    "from sklearn.metrics import confusion_matrix, classification_report, f1_score\n",
    "import graphviz\n"
   ]
  },
  {
   "cell_type": "code",
   "execution_count": 3,
   "metadata": {},
   "outputs": [],
   "source": [
    "def get_data(data_, target_):\n",
    "    X = data_.drop(target_, axis=1)\n",
    "    y = data_[target_]\n",
    "\n",
    "    return X, y\n",
    "\n",
    "def results_classifier(y_test_, y_pred_, print_ = False):\n",
    "    y_pred_ = y_pred_.astype(np.int64)\n",
    "    cm = confusion_matrix(y_test_, y_pred_)\n",
    "    report = classification_report(y_test_, y_pred_, zero_division=0.0)\n",
    "    score = f1_score(y_test_, y_pred_)\n",
    "    \n",
    "    if print_:\n",
    "        print(\"Matriz de confusão:\\n\", cm)\n",
    "        print(\"Report:\\n\", report)\n",
    "        \n",
    "    return score\n",
    "\n",
    "def compute_tree(X_train_, X_test_, y_train_, y_test_):    \n",
    "    model = DecisionTreeClassifier()\n",
    "    model.fit(X_train_, y_train_)\n",
    "    y_pred = model.predict(X_test_)\n",
    "    return results_classifier(y_test_, y_pred, True), model\n"
   ]
  },
  {
   "cell_type": "code",
   "execution_count": 4,
   "metadata": {},
   "outputs": [
    {
     "data": {
      "text/plain": [
       "(84861, 21)"
      ]
     },
     "execution_count": 4,
     "metadata": {},
     "output_type": "execute_result"
    }
   ],
   "source": [
    "# Read and concat all files\n",
    "data = pd.DataFrame()\n",
    "for year in range(2020,2024):\n",
    "    d = pd.read_csv(f'~/dev/github/profile/linea-144/data/linea144-{year}.csv')\n",
    "    data = pd.concat([data,d])\n",
    "\n",
    "data.shape"
   ]
  },
  {
   "cell_type": "code",
   "execution_count": 5,
   "metadata": {},
   "outputs": [],
   "source": [
    "encoder = LabelEncoder()\n",
    "for col in data.columns:\n",
    "    if data[col].dtypes == 'object':\n",
    "        data[col] = encoder.fit_transform(data[col])\n"
   ]
  },
  {
   "cell_type": "code",
   "execution_count": 6,
   "metadata": {},
   "outputs": [],
   "source": [
    "# Drop duplicated columns\n",
    "data = data.iloc[:,0:-2]"
   ]
  },
  {
   "cell_type": "code",
   "execution_count": 7,
   "metadata": {},
   "outputs": [
    {
     "data": {
      "text/plain": [
       "fecha                                                0\n",
       "prov_residencia_persona_en_situacion_violencia       0\n",
       "genero_persona_en_situacion_de_violencia             0\n",
       "edad_persona_en_situacion_de_violencia               0\n",
       "pais_nacimiento_persona_en_situacion_de_violencia    0\n",
       "tipo_de_violencia_fisica                             0\n",
       "tipo_de_violencia_psicologica                        0\n",
       "tipo_de_violencia_sexual                             0\n",
       "tipo_de_violencia_economica_y_patrimonial            0\n",
       "tipo_de_violencia_simbolica                          0\n",
       "tipo_de_violencia_domestica                          0\n",
       "modalidad_de_violencia_institucional                 0\n",
       "modalidad_de_violencia_laboral                       0\n",
       "modalidad_violencia_contra_libertad_reproductiva     0\n",
       "modalidad_de_violencia_obstetrica                    0\n",
       "modalidad_de_violencia_mediatica                     0\n",
       "modalidad_de_violencia_otras                         0\n",
       "vinculo_con_la_persona_agresora                      0\n",
       "genero_de_la_persona_agresora                        0\n",
       "dtype: int64"
      ]
     },
     "execution_count": 7,
     "metadata": {},
     "output_type": "execute_result"
    }
   ],
   "source": [
    "# Fill age NaN with median\n",
    "data['edad_persona_en_situacion_de_violencia'] \\\n",
    "    .fillna(int(data['edad_persona_en_situacion_de_violencia'].median()),\\\n",
    "    inplace=True)\n",
    "data.isnull().sum()"
   ]
  },
  {
   "cell_type": "code",
   "execution_count": 8,
   "metadata": {},
   "outputs": [
    {
     "data": {
      "text/plain": [
       "0"
      ]
     },
     "execution_count": 8,
     "metadata": {},
     "output_type": "execute_result"
    }
   ],
   "source": [
    "# Drop duplicated\n",
    "data.drop_duplicates(keep='first', inplace=True)\n",
    "data.duplicated().sum()"
   ]
  },
  {
   "cell_type": "code",
   "execution_count": 9,
   "metadata": {},
   "outputs": [
    {
     "name": "stdout",
     "output_type": "stream",
     "text": [
      "==========================================================================================\n",
      "Resultado violência tipo_de_violencia_fisica\n",
      "==========================================================================================\n",
      "Matriz de confusão:\n",
      " [[2214 2832]\n",
      " [3262 6171]]\n",
      "Report:\n",
      "               precision    recall  f1-score   support\n",
      "\n",
      "           0       0.40      0.44      0.42      5046\n",
      "           1       0.69      0.65      0.67      9433\n",
      "\n",
      "    accuracy                           0.58     14479\n",
      "   macro avg       0.54      0.55      0.55     14479\n",
      "weighted avg       0.59      0.58      0.58     14479\n",
      "\n",
      "==========================================================================================\n",
      "Resultado violência tipo_de_violencia_psicologica\n",
      "==========================================================================================\n",
      "Matriz de confusão:\n",
      " [[  235   571]\n",
      " [  681 12992]]\n",
      "Report:\n",
      "               precision    recall  f1-score   support\n",
      "\n",
      "           0       0.26      0.29      0.27       806\n",
      "           1       0.96      0.95      0.95     13673\n",
      "\n",
      "    accuracy                           0.91     14479\n",
      "   macro avg       0.61      0.62      0.61     14479\n",
      "weighted avg       0.92      0.91      0.92     14479\n",
      "\n",
      "==========================================================================================\n",
      "Resultado violência tipo_de_violencia_economica_y_patrimonial\n",
      "==========================================================================================\n",
      "Matriz de confusão:\n",
      " [[5540 3185]\n",
      " [3328 2426]]\n",
      "Report:\n",
      "               precision    recall  f1-score   support\n",
      "\n",
      "           0       0.62      0.63      0.63      8725\n",
      "           1       0.43      0.42      0.43      5754\n",
      "\n",
      "    accuracy                           0.55     14479\n",
      "   macro avg       0.53      0.53      0.53     14479\n",
      "weighted avg       0.55      0.55      0.55     14479\n",
      "\n",
      "==========================================================================================\n",
      "Resultado violência tipo_de_violencia_domestica\n",
      "==========================================================================================\n",
      "Matriz de confusão:\n",
      " [[ 1045   414]\n",
      " [  478 12542]]\n",
      "Report:\n",
      "               precision    recall  f1-score   support\n",
      "\n",
      "           0       0.69      0.72      0.70      1459\n",
      "           1       0.97      0.96      0.97     13020\n",
      "\n",
      "    accuracy                           0.94     14479\n",
      "   macro avg       0.83      0.84      0.83     14479\n",
      "weighted avg       0.94      0.94      0.94     14479\n",
      "\n",
      "==========================================================================================\n",
      "Resultado violência modalidad_de_violencia_mediatica\n",
      "==========================================================================================\n",
      "Matriz de confusão:\n",
      " [[14451    21]\n",
      " [    7     0]]\n",
      "Report:\n",
      "               precision    recall  f1-score   support\n",
      "\n",
      "           0       1.00      1.00      1.00     14472\n",
      "           1       0.00      0.00      0.00         7\n",
      "\n",
      "    accuracy                           1.00     14479\n",
      "   macro avg       0.50      0.50      0.50     14479\n",
      "weighted avg       1.00      1.00      1.00     14479\n",
      "\n",
      "==========================================================================================\n",
      "Resultado violência modalidad_de_violencia_otras\n",
      "==========================================================================================\n",
      "Matriz de confusão:\n",
      " [[14043    87]\n",
      " [   60   289]]\n",
      "Report:\n",
      "               precision    recall  f1-score   support\n",
      "\n",
      "           0       1.00      0.99      0.99     14130\n",
      "           1       0.77      0.83      0.80       349\n",
      "\n",
      "    accuracy                           0.99     14479\n",
      "   macro avg       0.88      0.91      0.90     14479\n",
      "weighted avg       0.99      0.99      0.99     14479\n",
      "\n"
     ]
    }
   ],
   "source": [
    "# Rodar targets\n",
    "for target in data.columns:\n",
    "    try:\n",
    "        assert data[target].unique().sum() == 1\n",
    "        X, y = get_data(data, target)\n",
    "        X_train, X_test, y_train, y_test = train_test_split(X, y, test_size=0.20, random_state=42)\n",
    "        print(\"===\"*30)    \n",
    "        print(f\"Resultado violência {target}\")\n",
    "        print(\"===\"*30)\n",
    "\n",
    "        compute_tree(X_train, X_test, y_train, y_test)\n",
    "    except:\n",
    "        pass\n",
    "    \n",
    "\n",
    "# algumas features possuem bom resultado apenas pq estão muito desbalanceadas"
   ]
  },
  {
   "cell_type": "code",
   "execution_count": 10,
   "metadata": {},
   "outputs": [
    {
     "name": "stdout",
     "output_type": "stream",
     "text": [
      "==========================================================================================\n",
      "Resultado violência tipo_de_violencia_fisica\n",
      "==========================================================================================\n",
      "Matriz de confusão:\n",
      " [[2235 2811]\n",
      " [3259 6174]]\n",
      "Report:\n",
      "               precision    recall  f1-score   support\n",
      "\n",
      "           0       0.41      0.44      0.42      5046\n",
      "           1       0.69      0.65      0.67      9433\n",
      "\n",
      "    accuracy                           0.58     14479\n",
      "   macro avg       0.55      0.55      0.55     14479\n",
      "weighted avg       0.59      0.58      0.58     14479\n",
      "\n"
     ]
    }
   ],
   "source": [
    "# Rodar targets\n",
    "target = 'tipo_de_violencia_fisica'\n",
    "try:\n",
    "    assert data[target].unique().sum() == 1\n",
    "    X, y = get_data(data, target)\n",
    "    X_train, X_test, y_train, y_test = train_test_split(X, y, test_size=0.20, random_state=42)\n",
    "    print(\"===\"*30)    \n",
    "    print(f\"Resultado violência {target}\")\n",
    "    print(\"===\"*30)\n",
    "\n",
    "    _, model = compute_tree(X_train, X_test, y_train, y_test)\n",
    "except:\n",
    "    pass\n",
    "    \n",
    "\n",
    "# algumas features possuem bom resultado apenas pq estão muito desbalanceadas"
   ]
  },
  {
   "cell_type": "code",
   "execution_count": 11,
   "metadata": {},
   "outputs": [],
   "source": [
    "dot_data = export_graphviz(model, out_file=None, \n",
    "                      feature_names=X_train.columns,  \n",
    "                      class_names=['não violencia física','violencia física'],  \n",
    "                      filled=True, rounded=True,  \n",
    "                      special_characters=True)  \n",
    "graph = graphviz.Source(dot_data)"
   ]
  },
  {
   "cell_type": "code",
   "execution_count": 12,
   "metadata": {},
   "outputs": [],
   "source": [
    "# graph"
   ]
  }
 ],
 "metadata": {
  "kernelspec": {
   "display_name": "Python 3",
   "language": "python",
   "name": "python3"
  },
  "language_info": {
   "codemirror_mode": {
    "name": "ipython",
    "version": 3
   },
   "file_extension": ".py",
   "mimetype": "text/x-python",
   "name": "python",
   "nbconvert_exporter": "python",
   "pygments_lexer": "ipython3",
   "version": "3.10.12"
  },
  "orig_nbformat": 4
 },
 "nbformat": 4,
 "nbformat_minor": 2
}
