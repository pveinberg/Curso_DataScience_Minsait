{
 "cells": [
  {
   "cell_type": "code",
   "execution_count": 58,
   "metadata": {},
   "outputs": [],
   "source": [
    "# decision tree\n",
    "# ./github/profile/linea-144/data/linea144-2021.csv\n"
   ]
  },
  {
   "cell_type": "code",
   "execution_count": 72,
   "metadata": {},
   "outputs": [],
   "source": [
    "import os\n",
    "import pandas as pd\n",
    "import numpy as np\n",
    "from sklearn.preprocessing import LabelEncoder\n",
    "from sklearn.model_selection import train_test_split\n",
    "from sklearn.tree import DecisionTreeClassifier\n",
    "from sklearn.metrics import confusion_matrix, classification_report, f1_score\n"
   ]
  },
  {
   "cell_type": "code",
   "execution_count": 81,
   "metadata": {},
   "outputs": [],
   "source": [
    "def get_data(data_, target_):\n",
    "    X = data_.drop(target_, axis=1)\n",
    "    y = data_[target_]\n",
    "\n",
    "    return X, y\n",
    "\n",
    "def results_classifier(y_test_, y_pred_, print_ = False):\n",
    "    y_pred_ = y_pred_.astype(np.int64)\n",
    "    cm = confusion_matrix(y_test_, y_pred_)\n",
    "    report = classification_report(y_test_, y_pred_, zero_division=0.0)\n",
    "    score = f1_score(y_test_, y_pred_)\n",
    "    \n",
    "    if print_:\n",
    "        print(\"Matriz de confusão:\\n\", cm)\n",
    "        print(\"Report:\\n\", report)\n",
    "        \n",
    "    return score\n",
    "\n",
    "def compute_tree(X_train_, X_test_, y_train_, y_test_):    \n",
    "    model = DecisionTreeClassifier()\n",
    "    model.fit(X_train_, y_train_)\n",
    "    y_pred = model.predict(X_test_)\n",
    "    return results_classifier(y_test_, y_pred, True)\n"
   ]
  },
  {
   "cell_type": "code",
   "execution_count": 61,
   "metadata": {},
   "outputs": [
    {
     "data": {
      "text/plain": [
       "(84861, 21)"
      ]
     },
     "execution_count": 61,
     "metadata": {},
     "output_type": "execute_result"
    }
   ],
   "source": [
    "# Read and concat all files\n",
    "data = pd.DataFrame()\n",
    "for year in range(2020,2024):\n",
    "    d = pd.read_csv(f'~/dev/github/profile/linea-144/data/linea144-{year}.csv')\n",
    "    data = pd.concat([data,d])\n",
    "\n",
    "data.shape"
   ]
  },
  {
   "cell_type": "code",
   "execution_count": 62,
   "metadata": {},
   "outputs": [],
   "source": [
    "encoder = LabelEncoder()\n",
    "for col in data.columns:\n",
    "    if data[col].dtypes == 'object':\n",
    "        data[col] = encoder.fit_transform(data[col])\n"
   ]
  },
  {
   "cell_type": "code",
   "execution_count": 63,
   "metadata": {},
   "outputs": [],
   "source": [
    "# Drop duplicated columns\n",
    "data = data.iloc[:,0:-2]"
   ]
  },
  {
   "cell_type": "code",
   "execution_count": 64,
   "metadata": {},
   "outputs": [
    {
     "data": {
      "text/plain": [
       "fecha                                                0\n",
       "prov_residencia_persona_en_situacion_violencia       0\n",
       "genero_persona_en_situacion_de_violencia             0\n",
       "edad_persona_en_situacion_de_violencia               0\n",
       "pais_nacimiento_persona_en_situacion_de_violencia    0\n",
       "tipo_de_violencia_fisica                             0\n",
       "tipo_de_violencia_psicologica                        0\n",
       "tipo_de_violencia_sexual                             0\n",
       "tipo_de_violencia_economica_y_patrimonial            0\n",
       "tipo_de_violencia_simbolica                          0\n",
       "tipo_de_violencia_domestica                          0\n",
       "modalidad_de_violencia_institucional                 0\n",
       "modalidad_de_violencia_laboral                       0\n",
       "modalidad_violencia_contra_libertad_reproductiva     0\n",
       "modalidad_de_violencia_obstetrica                    0\n",
       "modalidad_de_violencia_mediatica                     0\n",
       "modalidad_de_violencia_otras                         0\n",
       "vinculo_con_la_persona_agresora                      0\n",
       "genero_de_la_persona_agresora                        0\n",
       "dtype: int64"
      ]
     },
     "execution_count": 64,
     "metadata": {},
     "output_type": "execute_result"
    }
   ],
   "source": [
    "# Fill age NaN with median\n",
    "data['edad_persona_en_situacion_de_violencia'] \\\n",
    "    .fillna(int(data['edad_persona_en_situacion_de_violencia'].median()),\\\n",
    "    inplace=True)\n",
    "data.isnull().sum()"
   ]
  },
  {
   "cell_type": "code",
   "execution_count": 65,
   "metadata": {},
   "outputs": [
    {
     "data": {
      "text/plain": [
       "0"
      ]
     },
     "execution_count": 65,
     "metadata": {},
     "output_type": "execute_result"
    }
   ],
   "source": [
    "# Drop duplicated\n",
    "data.drop_duplicates(keep='first', inplace=True)\n",
    "data.duplicated().sum()"
   ]
  },
  {
   "cell_type": "code",
   "execution_count": 102,
   "metadata": {},
   "outputs": [
    {
     "name": "stdout",
     "output_type": "stream",
     "text": [
      "Resultado violência tipo_de_violencia_fisica\n",
      "Matriz de confusão:\n",
      " [[2220 2826]\n",
      " [3264 6169]]\n",
      "Report:\n",
      "               precision    recall  f1-score   support\n",
      "\n",
      "           0       0.40      0.44      0.42      5046\n",
      "           1       0.69      0.65      0.67      9433\n",
      "\n",
      "    accuracy                           0.58     14479\n",
      "   macro avg       0.55      0.55      0.55     14479\n",
      "weighted avg       0.59      0.58      0.58     14479\n",
      "\n",
      "Resultado violência tipo_de_violencia_psicologica\n",
      "Matriz de confusão:\n",
      " [[  231   575]\n",
      " [  694 12979]]\n",
      "Report:\n",
      "               precision    recall  f1-score   support\n",
      "\n",
      "           0       0.25      0.29      0.27       806\n",
      "           1       0.96      0.95      0.95     13673\n",
      "\n",
      "    accuracy                           0.91     14479\n",
      "   macro avg       0.60      0.62      0.61     14479\n",
      "weighted avg       0.92      0.91      0.92     14479\n",
      "\n",
      "Resultado violência tipo_de_violencia_economica_y_patrimonial\n",
      "Matriz de confusão:\n",
      " [[5523 3202]\n",
      " [3337 2417]]\n",
      "Report:\n",
      "               precision    recall  f1-score   support\n",
      "\n",
      "           0       0.62      0.63      0.63      8725\n",
      "           1       0.43      0.42      0.43      5754\n",
      "\n",
      "    accuracy                           0.55     14479\n",
      "   macro avg       0.53      0.53      0.53     14479\n",
      "weighted avg       0.55      0.55      0.55     14479\n",
      "\n",
      "Resultado violência tipo_de_violencia_domestica\n",
      "Matriz de confusão:\n",
      " [[ 1033   426]\n",
      " [  477 12543]]\n",
      "Report:\n",
      "               precision    recall  f1-score   support\n",
      "\n",
      "           0       0.68      0.71      0.70      1459\n",
      "           1       0.97      0.96      0.97     13020\n",
      "\n",
      "    accuracy                           0.94     14479\n",
      "   macro avg       0.83      0.84      0.83     14479\n",
      "weighted avg       0.94      0.94      0.94     14479\n",
      "\n",
      "Resultado violência modalidad_de_violencia_mediatica\n",
      "Matriz de confusão:\n",
      " [[14450    22]\n",
      " [    7     0]]\n",
      "Report:\n",
      "               precision    recall  f1-score   support\n",
      "\n",
      "           0       1.00      1.00      1.00     14472\n",
      "           1       0.00      0.00      0.00         7\n",
      "\n",
      "    accuracy                           1.00     14479\n",
      "   macro avg       0.50      0.50      0.50     14479\n",
      "weighted avg       1.00      1.00      1.00     14479\n",
      "\n",
      "Resultado violência modalidad_de_violencia_otras\n",
      "Matriz de confusão:\n",
      " [[14038    92]\n",
      " [   56   293]]\n",
      "Report:\n",
      "               precision    recall  f1-score   support\n",
      "\n",
      "           0       1.00      0.99      0.99     14130\n",
      "           1       0.76      0.84      0.80       349\n",
      "\n",
      "    accuracy                           0.99     14479\n",
      "   macro avg       0.88      0.92      0.90     14479\n",
      "weighted avg       0.99      0.99      0.99     14479\n",
      "\n"
     ]
    }
   ],
   "source": [
    "# Rodar targets\n",
    "for target in data.columns:\n",
    "    # target = 'tipo_de_violencia_fisica'\n",
    "    try:\n",
    "        assert data[target].unique().sum() == 1\n",
    "        X, y = get_data(data, target)\n",
    "        X_train, X_test, y_train, y_test = train_test_split(X, y, test_size=0.20, random_state=42)\n",
    "        print(f\"Resultado violência {target}\")\n",
    "        compute_tree(X_train, X_test, y_train, y_test)\n",
    "    except:\n",
    "        pass"
   ]
  }
 ],
 "metadata": {
  "kernelspec": {
   "display_name": "Python 3",
   "language": "python",
   "name": "python3"
  },
  "language_info": {
   "codemirror_mode": {
    "name": "ipython",
    "version": 3
   },
   "file_extension": ".py",
   "mimetype": "text/x-python",
   "name": "python",
   "nbconvert_exporter": "python",
   "pygments_lexer": "ipython3",
   "version": "3.10.12"
  },
  "orig_nbformat": 4
 },
 "nbformat": 4,
 "nbformat_minor": 2
}
