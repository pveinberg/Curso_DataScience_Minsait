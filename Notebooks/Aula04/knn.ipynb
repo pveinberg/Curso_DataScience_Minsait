{
 "cells": [
  {
   "cell_type": "code",
   "execution_count": 2,
   "metadata": {},
   "outputs": [],
   "source": [
    "import pandas as pd\n",
    "import numpy as np\n",
    "import math\n",
    "\n",
    "from sklearn.metrics import mean_squared_error, mean_absolute_error, \\\n",
    "    mean_absolute_percentage_error, r2_score, confusion_matrix, \\\n",
    "    classification_report\n",
    "from sklearn.model_selection import train_test_split\n",
    "from sklearn.neighbors import KNeighborsClassifier, KNeighborsRegressor\n"
   ]
  },
  {
   "cell_type": "code",
   "execution_count": null,
   "metadata": {},
   "outputs": [],
   "source": [
    "# Métricas\n",
    "\n",
    "def results_regression(y_test_, y_pred_, print_ = False):\n",
    "    y_pred_ = y_pred_.astype(np.int64)\n",
    "    mse = mean_squared_error(y_test_, y_pred_)\n",
    "    rmse = math.sqrt(mse)\n",
    "    mae = mean_absolute_error(y_test_, y_pred_)\n",
    "    mape = mean_absolute_percentage_error(y_test_, y_pred_)\n",
    "    r2 = r2_score(y_test_, y_pred_)\n",
    "    cm = confusion_matrix(y_test_, y_pred_)\n",
    "    report = classification_report(y_test_, y_pred_, zero_division=0.0)\n",
    "\n",
    "    if print_:\n",
    "        print(f\"MSE: {mse}\")\n",
    "        print(f\"Erro médio quadrático (RMSE): {rmse}\")    \n",
    "        print(f\"Erro médio absoluto (MAE): {mae}\")\n",
    "        print(f\"Erro de porcentagem absoluta média (MAPE): {mape}\")\n",
    "        print(f\"R2 Score: {r2}\")\n",
    "        print(\"Matriz de confusão:\\n\", cm)\n",
    "        print(\"Report:\\n\", report)\n",
    "        \n",
    "    return r2\n",
    "    \n",
    "def compute_linear_regression(X, y):\n",
    "    X_train, X_test, y_train, y_test = train_test_split(X, y, test_size=0.2, random_state=42)\n",
    "\n",
    "    linear_regression = KNeighborsClassifier()\n",
    "    linear_regression.fit(X_train, y_train)\n",
    "\n",
    "    y_pred = linear_regression.predict(X_test)\n",
    "\n",
    "    results_regression(y_test, y_pred, True)\n"
   ]
  }
 ],
 "metadata": {
  "kernelspec": {
   "display_name": "Python 3",
   "language": "python",
   "name": "python3"
  },
  "language_info": {
   "codemirror_mode": {
    "name": "ipython",
    "version": 3
   },
   "file_extension": ".py",
   "mimetype": "text/x-python",
   "name": "python",
   "nbconvert_exporter": "python",
   "pygments_lexer": "ipython3",
   "version": "3.10.12"
  },
  "orig_nbformat": 4
 },
 "nbformat": 4,
 "nbformat_minor": 2
}
